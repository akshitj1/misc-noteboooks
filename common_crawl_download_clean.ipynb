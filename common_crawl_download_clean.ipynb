{
 "cells": [
  {
   "cell_type": "markdown",
   "metadata": {},
   "source": [
    "# search and download webpages"
   ]
  },
  {
   "cell_type": "code",
   "execution_count": 8,
   "metadata": {},
   "outputs": [],
   "source": [
    "# ! pip3 install requests"
   ]
  },
  {
   "cell_type": "code",
   "execution_count": 1,
   "metadata": {},
   "outputs": [],
   "source": [
    "import pandas as pd"
   ]
  },
  {
   "cell_type": "code",
   "execution_count": 3,
   "metadata": {},
   "outputs": [],
   "source": [
    "import requests\n",
    "import json\n",
    "\n",
    "index_list = [\"2018-43\"]\n",
    "\n",
    "\n",
    "### -----------------------\n",
    "### Searches the Common Crawl Index for a domain.\n",
    "### -----------------------\n",
    "def search_domain(domain, limit=20):\n",
    "    record_list = []\n",
    "    print(\"[*] Trying target domain: %s\" % domain)\n",
    "    \n",
    "    for index in index_list:\n",
    "        print(\"[*] Trying index %s\" % index)\n",
    "        cc_url  = \"http://index.commoncrawl.org/CC-MAIN-%s-index\" % index\n",
    "        \n",
    "        response = requests.get(cc_url,params={'limit':limit,'url':domain,'output':'json'})\n",
    "        \n",
    "        if response.status_code == 200:\n",
    "            records = response.content.splitlines()\n",
    "            for record in records:\n",
    "                record_list.append(json.loads(record))  \n",
    "            print(\"[*] Added %d results.\" % len(records))\n",
    "    print(\"[*] Found a total of %d hits.\" % len(record_list))\n",
    "    return record_list"
   ]
  },
  {
   "cell_type": "code",
   "execution_count": 4,
   "metadata": {},
   "outputs": [
    {
     "name": "stdout",
     "output_type": "stream",
     "text": [
      "[*] Trying target domain: https://economictimes.indiatimes.com/industry/auto/*\n",
      "[*] Trying index 2018-43\n",
      "[*] Added 20 results.\n",
      "[*] Found a total of 20 hits.\n"
     ]
    }
   ],
   "source": [
    "records=search_domain('https://economictimes.indiatimes.com/industry/auto/*')"
   ]
  },
  {
   "cell_type": "code",
   "execution_count": 5,
   "metadata": {},
   "outputs": [
    {
     "data": {
      "text/plain": [
       "['https://economictimes.indiatimes.com/industry/auto/100-ev-by-2030-in-india-is-only-an-aspiration/videoshow/61463373.cms',\n",
       " 'https://economictimes.indiatimes.com/industry/auto/auto-components-makers-will-have-more-opportunity-than-disruption/videoshow/60710789.cms',\n",
       " 'https://economictimes.indiatimes.com/industry/auto/auto-components/articlelist/64829316.cms?from=mdr',\n",
       " 'https://economictimes.indiatimes.com/industry/auto/auto-news/abb-plans-to-make-ev-chargers-in-india-by-year-end/articleshow/66021903.cms',\n",
       " 'https://economictimes.indiatimes.com/industry/auto/auto-news/articlelist/64829342.cms?from=mdr',\n",
       " 'https://economictimes.indiatimes.com/industry/auto/auto-news/ashok-leyland-sales-up-26-pc-at-19373-units-in-september/articleshow/66025595.cms',\n",
       " 'https://economictimes.indiatimes.com/industry/auto/auto-news/auto-companies-making-electric-vehicles-may-get-to-earn-tradable-credits/articleshow/66036489.cms',\n",
       " 'https://economictimes.indiatimes.com/industry/auto/auto-news/auto-components-maker-minda-corp-to-merge-5-subsidiaries/articleshow/66033215.cms',\n",
       " 'https://economictimes.indiatimes.com/industry/auto/auto-news/auto-sales-in-september-heres-what-the-figures-reveal/videoshow/66052086.cms',\n",
       " 'https://economictimes.indiatimes.com/industry/auto/auto-news/auto-spares-body-seeks-gst-rate-cut-for-motor-parts/articleshow/65990093.cms',\n",
       " 'https://economictimes.indiatimes.com/industry/auto/auto-news/autocar-show-volvo-xc40-vs-bmw-x1-vs-audi-q3-comparison/videoshow/64999695.cms',\n",
       " 'https://economictimes.indiatimes.com/industry/auto/auto-news/automobile-industry-opting-for-inorganic-route-to-support-growth-cycles-report/articleshow/65101634.cms?from=mdr',\n",
       " 'https://economictimes.indiatimes.com/industry/auto/auto-news/bajaj-auto-reports-30-increase-in-july-sales-at-400343-units/articleshow/65224341.cms',\n",
       " 'https://economictimes.indiatimes.com/industry/auto/auto-news/baleno-production-ramped-up-to-cut-waiting-period-maruti/articleshow/65786136.cms',\n",
       " 'https://economictimes.indiatimes.com/industry/auto/auto-news/chinas-leading-e-vehicle-maker-wants-to-set-up-plant-in-india/articleshow/65933040.cms',\n",
       " 'https://economictimes.indiatimes.com/industry/auto/auto-news/consistent-tax-policy-needed-for-long-term-business-plan-in-india-lamborghini/articleshow/66014437.cms',\n",
       " 'https://economictimes.indiatimes.com/industry/auto/auto-news/essel-plans-to-invest-rs-1750-cr-to-set-up-electric-vehicle-charging-infrastructure/articleshow/65186147.cms',\n",
       " 'https://economictimes.indiatimes.com/industry/auto/auto-news/expect-electric-vehicle-sales-at-74k-units-this-fiscal-fame-ii-confusion-affecting-demand-smev/articleshow/65919847.cms',\n",
       " 'https://economictimes.indiatimes.com/industry/auto/auto-news/ferrari-says-most-of-its-cars-will-be-hybrid-by-2022/articleshow/65857566.cms',\n",
       " 'https://economictimes.indiatimes.com/industry/auto/auto-news/fords-india-revenue-up-20-on-local-sourcing/articleshow/66095341.cms']"
      ]
     },
     "execution_count": 5,
     "metadata": {},
     "output_type": "execute_result"
    }
   ],
   "source": [
    "[r['url'] for r in records]"
   ]
  },
  {
   "cell_type": "code",
   "execution_count": 51,
   "metadata": {},
   "outputs": [
    {
     "data": {
      "text/plain": [
       "[{'urlkey': 'com,indiatimes,economictimes)/magazines/panache/-baahubali-2-to-be-third-indian-film-to-release-in-imax-print/articleshow/57673018.cms',\n",
       "  'timestamp': '20181016210226',\n",
       "  'filename': 'crawl-data/CC-MAIN-2018-43/segments/1539583510867.6/warc/CC-MAIN-20181016201314-20181016222814-00362.warc.gz',\n",
       "  'url': 'https://economictimes.indiatimes.com/magazines/panache/-baahubali-2-to-be-third-indian-film-to-release-in-imax-print/articleshow/57673018.cms',\n",
       "  'offset': '698387968',\n",
       "  'status': '200',\n",
       "  'length': '36320',\n",
       "  'mime': 'text/html',\n",
       "  'languages': 'eng,hin',\n",
       "  'charset': 'UTF-8',\n",
       "  'digest': 'ZSFMIBIMRXJPDI7RB45VSUTWIEZCNHYI',\n",
       "  'mime-detected': 'text/html'}]"
      ]
     },
     "execution_count": 51,
     "metadata": {},
     "output_type": "execute_result"
    }
   ],
   "source": [
    "records[:1]"
   ]
  },
  {
   "cell_type": "code",
   "execution_count": 8,
   "metadata": {},
   "outputs": [
    {
     "data": {
      "text/plain": [
       "'http_news18_com_news_movies_'"
      ]
     },
     "execution_count": 8,
     "metadata": {},
     "output_type": "execute_result"
    }
   ],
   "source": [
    "import re\n",
    "re.sub(r'\\W+',r'_', 'http://news18.com/news/movies/*')"
   ]
  },
  {
   "cell_type": "code",
   "execution_count": 28,
   "metadata": {},
   "outputs": [
    {
     "data": {
      "text/plain": [
       "['https://www.teabox.com/tea/adderley-twirl-winter-nilgiri-black-tea',\n",
       " 'https://www.teabox.com/tea/antu-valley-classic-spring-nepal-black',\n",
       " 'https://www.teabox.com/tea/apple-florentine-tea',\n",
       " 'https://www.teabox.com/tea/arum-raisin-tea',\n",
       " 'https://www.teabox.com/tea/arya-clonal-autumn-darjeeling-black-tea',\n",
       " 'https://www.teabox.com/tea/assam-masala-chai-tea',\n",
       " 'https://www.teabox.com/tea/assam-sunshine-blend-summer-black-tea',\n",
       " 'https://www.teabox.com/tea/avongrove-clonal-organic-autumn-darjeeling-black-tea',\n",
       " 'https://www.teabox.com/tea/balijan-thunder-summer-assam-black-tea',\n",
       " 'https://www.teabox.com/tea/barnesbeg-summer-darjeeling-organic-green-tea']"
      ]
     },
     "execution_count": 28,
     "metadata": {},
     "output_type": "execute_result"
    }
   ],
   "source": [
    "# for r in records:\n",
    "#     if r['url'].\n",
    "product_records=[r for r in records if '/tea/' in r['url']]\n",
    "[r['url'] for r in product_records][:10]"
   ]
  },
  {
   "cell_type": "code",
   "execution_count": 53,
   "metadata": {},
   "outputs": [],
   "source": [
    "import gzip\n",
    "import io\n",
    "\n",
    "# Version 1.2\n",
    "## Author: David Cedar(2017)\n",
    "#\n",
    "# Downloads full page\n",
    "#\n",
    "def download_page(record):\n",
    "\n",
    "    offset, length = int(record['offset']), int(record['length'])\n",
    "    offset_end = offset + length - 1\n",
    "\n",
    "    # We'll get the file via HTTPS so we don't need to worry about S3 credentials\n",
    "    # Getting the file on S3 is equivalent however - you can request a Range\n",
    "    prefix = 'https://commoncrawl.s3.amazonaws.com/'\n",
    "\n",
    "    # We can then use the Range header to ask for just this set of bytes\n",
    "    resp = requests.get(prefix + record['filename'], headers={'Range': 'bytes={}-{}'.format(offset, offset_end)})\n",
    "\n",
    "    # The page is stored compressed (gzip) to save space\n",
    "    # We can extract it using the GZIP library\n",
    "    raw_data = io.BytesIO(resp.content)\n",
    "    f = gzip.GzipFile(fileobj=raw_data)\n",
    "\n",
    "    # What we have now is just the WARC response, formatted:\n",
    "    data = f.read()\n",
    "\n",
    "    response = \"\"\n",
    "\n",
    "    if len(data):\n",
    "        try:\n",
    "            warc, header, response = data.strip().split(b'\\r\\n\\r\\n', 2)\n",
    "        except:\n",
    "            pass\n",
    "\n",
    "    return response"
   ]
  },
  {
   "cell_type": "code",
   "execution_count": null,
   "metadata": {},
   "outputs": [],
   "source": [
    "import boto3\n",
    "import botocore\n",
    "\n",
    "# crawl-data/CC-MAIN-2018-43/segments/1539583513548.72/warc/CC-MAIN-20181021010654-20181021032154-00021.warc.gz\n",
    "\n",
    "BUCKET_NAME = 'commoncrawl' # replace with your bucket name\n",
    "KEY = 'crawl-data/CC-MAIN-2018-43/segments/1539583513548.72/warc/CC-MAIN-20181021010654-20181021032154-00021.warc.gz' # replace with your object key\n",
    "\n",
    "s3 = boto3.resource('s3')\n",
    "\n",
    "try:\n",
    "    s3.Bucket(BUCKET_NAME).download_file(KEY, 'my_local_image.jpg')\n",
    "except botocore.exceptions.ClientError as e:\n",
    "    if e.response['Error']['Code'] == \"404\":\n",
    "        print(\"The object does not exist.\")\n",
    "    else:\n",
    "        raise"
   ]
  },
  {
   "cell_type": "code",
   "execution_count": 146,
   "metadata": {
    "collapsed": true
   },
   "outputs": [
    {
     "name": "stdout",
     "output_type": "stream",
     "text": [
      "Collecting boto3\n",
      "\u001b[?25l  Downloading https://files.pythonhosted.org/packages/8e/92/58b5292e2278d4dfcbdc61009ada07cbace03355f256e83c67a95244f07b/boto3-1.9.46-py2.py3-none-any.whl (128kB)\n",
      "\u001b[K    100% |████████████████████████████████| 133kB 350kB/s ta 0:00:01\n",
      "\u001b[?25hCollecting botocore<1.13.0,>=1.12.46 (from boto3)\n",
      "\u001b[?25l  Downloading https://files.pythonhosted.org/packages/d3/56/5e640fa7cf01ba13c727699fb8cbbe1dd6786caf78b3ca0199e3b07f86c0/botocore-1.12.46-py2.py3-none-any.whl (4.8MB)\n",
      "\u001b[K    100% |████████████████████████████████| 4.8MB 6.1MB/s eta 0:00:01\n",
      "\u001b[?25hCollecting s3transfer<0.2.0,>=0.1.10 (from boto3)\n",
      "\u001b[?25l  Downloading https://files.pythonhosted.org/packages/d7/14/2a0004d487464d120c9fb85313a75cd3d71a7506955be458eebfe19a6b1d/s3transfer-0.1.13-py2.py3-none-any.whl (59kB)\n",
      "\u001b[K    100% |████████████████████████████████| 61kB 17.8MB/s ta 0:00:01\n",
      "\u001b[?25hCollecting jmespath<1.0.0,>=0.7.1 (from boto3)\n",
      "  Downloading https://files.pythonhosted.org/packages/b7/31/05c8d001f7f87f0f07289a5fc0fc3832e9a57f2dbd4d3b0fee70e0d51365/jmespath-0.9.3-py2.py3-none-any.whl\n",
      "Requirement already satisfied: urllib3<1.25,>=1.20; python_version >= \"3.4\" in /usr/local/lib/python3.7/site-packages (from botocore<1.13.0,>=1.12.46->boto3) (1.24.1)\n",
      "Collecting docutils>=0.10 (from botocore<1.13.0,>=1.12.46->boto3)\n",
      "\u001b[?25l  Downloading https://files.pythonhosted.org/packages/36/fa/08e9e6e0e3cbd1d362c3bbee8d01d0aedb2155c4ac112b19ef3cae8eed8d/docutils-0.14-py3-none-any.whl (543kB)\n",
      "\u001b[K    100% |████████████████████████████████| 552kB 17.6MB/s ta 0:00:01\n",
      "\u001b[?25hRequirement already satisfied: python-dateutil<3.0.0,>=2.1; python_version >= \"2.7\" in /usr/local/lib/python3.7/site-packages (from botocore<1.13.0,>=1.12.46->boto3) (2.7.5)\n",
      "Requirement already satisfied: six>=1.5 in /usr/local/lib/python3.7/site-packages (from python-dateutil<3.0.0,>=2.1; python_version >= \"2.7\"->botocore<1.13.0,>=1.12.46->boto3) (1.11.0)\n",
      "Installing collected packages: docutils, jmespath, botocore, s3transfer, boto3\n",
      "Successfully installed boto3-1.9.46 botocore-1.12.46 docutils-0.14 jmespath-0.9.3 s3transfer-0.1.13\n"
     ]
    }
   ],
   "source": [
    "! pip3 install boto3"
   ]
  },
  {
   "cell_type": "code",
   "execution_count": 9,
   "metadata": {},
   "outputs": [],
   "source": [
    "import boto3\n",
    "from botocore import UNSIGNED\n",
    "from botocore.client import Config\n",
    "\n",
    "BUCKET='commoncrawl'\n",
    "KEY='crawl-data/CC-MAIN-2018-43/segments/1539583510866.52/warc/CC-MAIN-20181016180631-20181016202131-00307.warc.gz'\n",
    "PAGE_OFFSET=1010368906\n",
    "PAGE_LEN=36721\n",
    "\n",
    "# anonymous connection\n",
    "s3 = boto3.resource('s3', config=Config(signature_version=UNSIGNED))"
   ]
  },
  {
   "cell_type": "code",
   "execution_count": 3,
   "metadata": {},
   "outputs": [],
   "source": [
    "bkt=s3.Bucket(BUCKET)"
   ]
  },
  {
   "cell_type": "code",
   "execution_count": 55,
   "metadata": {},
   "outputs": [],
   "source": [
    "obj=s3.Object(BUCKET, KEY)\n",
    "fstream=obj.get(Range='bytes={}-{}'.format(PAGE_OFFSET, PAGE_OFFSET+PAGE_LEN-1))['Body']\n",
    "file=fstream.read()"
   ]
  },
  {
   "cell_type": "code",
   "execution_count": 109,
   "metadata": {},
   "outputs": [],
   "source": [
    "import io\n",
    "import gzip\n",
    "raw_data=io.BytesIO(file)\n",
    "f=gzip.GzipFile(fileobj=raw_data)"
   ]
  },
  {
   "cell_type": "code",
   "execution_count": null,
   "metadata": {},
   "outputs": [],
   "source": [
    "with open(pickle)"
   ]
  },
  {
   "cell_type": "code",
   "execution_count": 39,
   "metadata": {
    "collapsed": true
   },
   "outputs": [
    {
     "name": "stdout",
     "output_type": "stream",
     "text": [
      "Collecting warcio\n",
      "\u001b[?25l  Downloading https://files.pythonhosted.org/packages/cf/99/2ee69694e3dea824a82d394a2ec1a8cc9130db641da84de1166d98b63e8b/warcio-1.6.3-py2.py3-none-any.whl (40kB)\n",
      "\u001b[K    100% |████████████████████████████████| 40kB 288kB/s ta 0:00:011\n",
      "\u001b[?25hRequirement already satisfied: six in /usr/local/lib/python3.7/site-packages (from warcio) (1.11.0)\n",
      "Installing collected packages: warcio\n",
      "Successfully installed warcio-1.6.3\n"
     ]
    }
   ],
   "source": [
    "! pip3 install warcio"
   ]
  },
  {
   "cell_type": "code",
   "execution_count": 110,
   "metadata": {},
   "outputs": [],
   "source": [
    "from warcio.archiveiterator import ArchiveIterator\n",
    "arc_iter=ArchiveIterator(f)\n",
    "# for record in ArchiveIterator(f):\n",
    "#     print(record.rec_type, record.content_stream().read())"
   ]
  },
  {
   "cell_type": "code",
   "execution_count": 112,
   "metadata": {},
   "outputs": [
    {
     "data": {
      "text/plain": [
       "<warcio.recordloader.ArcWarcRecord at 0x118f5c320>"
      ]
     },
     "execution_count": 112,
     "metadata": {},
     "output_type": "execute_result"
    }
   ],
   "source": [
    "arc_iter.__next__()"
   ]
  },
  {
   "cell_type": "code",
   "execution_count": 18,
   "metadata": {},
   "outputs": [],
   "source": [
    "import pandas as pd\n",
    "df=pd.read_json('/Users/akshit.jain/repos/commoncrawl/output/matching_urls.json', orient='records', lines=True)\n"
   ]
  },
  {
   "cell_type": "code",
   "execution_count": 98,
   "metadata": {},
   "outputs": [
    {
     "data": {
      "text/html": [
       "<div>\n",
       "<style scoped>\n",
       "    .dataframe tbody tr th:only-of-type {\n",
       "        vertical-align: middle;\n",
       "    }\n",
       "\n",
       "    .dataframe tbody tr th {\n",
       "        vertical-align: top;\n",
       "    }\n",
       "\n",
       "    .dataframe thead th {\n",
       "        text-align: right;\n",
       "    }\n",
       "</style>\n",
       "<table border=\"1\" class=\"dataframe\">\n",
       "  <thead>\n",
       "    <tr style=\"text-align: right;\">\n",
       "      <th></th>\n",
       "      <th>charset</th>\n",
       "      <th>digest</th>\n",
       "      <th>filename</th>\n",
       "      <th>languages</th>\n",
       "      <th>length</th>\n",
       "      <th>mime</th>\n",
       "      <th>mime-detected</th>\n",
       "      <th>offset</th>\n",
       "      <th>status</th>\n",
       "      <th>timestamp</th>\n",
       "      <th>url</th>\n",
       "      <th>urlkey</th>\n",
       "    </tr>\n",
       "  </thead>\n",
       "  <tbody>\n",
       "    <tr>\n",
       "      <th>0</th>\n",
       "      <td>UTF-8</td>\n",
       "      <td>ING23JTUS4DNB5Q4EBP4VFRIZOEMZTTE</td>\n",
       "      <td>crawl-data/CC-MAIN-2018-43/segments/1539583510...</td>\n",
       "      <td>eng</td>\n",
       "      <td>38643</td>\n",
       "      <td>text/html</td>\n",
       "      <td>text/html</td>\n",
       "      <td>1037204307</td>\n",
       "      <td>200</td>\n",
       "      <td>1970-08-22 13:50:17.013035</td>\n",
       "      <td>https://www.news18.com/news/movies/10-ka-dum-a...</td>\n",
       "      <td>com,news18)/news/movies/10-ka-dum-after-winnin...</td>\n",
       "    </tr>\n",
       "    <tr>\n",
       "      <th>1</th>\n",
       "      <td>UTF-8</td>\n",
       "      <td>GXDYMFM24ONBVVQR5KXPTCYLQ5WBP3XS</td>\n",
       "      <td>crawl-data/CC-MAIN-2018-43/segments/1539583515...</td>\n",
       "      <td>eng</td>\n",
       "      <td>31409</td>\n",
       "      <td>text/html</td>\n",
       "      <td>text/html</td>\n",
       "      <td>1012036861</td>\n",
       "      <td>200</td>\n",
       "      <td>1970-08-22 13:50:22.150356</td>\n",
       "      <td>https://www.news18.com/news/movies/10-things-a...</td>\n",
       "      <td>com,news18)/news/movies/10-things-akshay-kumar...</td>\n",
       "    </tr>\n",
       "    <tr>\n",
       "      <th>2</th>\n",
       "      <td>UTF-8</td>\n",
       "      <td>X7Q64J74QNJZ3RKNOUDFU3TVCBF77SVI</td>\n",
       "      <td>crawl-data/CC-MAIN-2018-43/segments/1539583512...</td>\n",
       "      <td>eng</td>\n",
       "      <td>34257</td>\n",
       "      <td>text/html</td>\n",
       "      <td>text/html</td>\n",
       "      <td>1037009554</td>\n",
       "      <td>200</td>\n",
       "      <td>1970-08-22 13:50:19.054131</td>\n",
       "      <td>https://www.news18.com/news/movies/10-things-a...</td>\n",
       "      <td>com,news18)/news/movies/10-things-akshay-kumar...</td>\n",
       "    </tr>\n",
       "    <tr>\n",
       "      <th>3</th>\n",
       "      <td>UTF-8</td>\n",
       "      <td>RWIED4P3UIOQJSROR6QV4JSR73GSKJHL</td>\n",
       "      <td>crawl-data/CC-MAIN-2018-43/segments/1539583513...</td>\n",
       "      <td>eng</td>\n",
       "      <td>31639</td>\n",
       "      <td>text/html</td>\n",
       "      <td>text/html</td>\n",
       "      <td>1006779471</td>\n",
       "      <td>200</td>\n",
       "      <td>1970-08-22 13:50:21.012315</td>\n",
       "      <td>https://www.news18.com/news/movies/10-things-a...</td>\n",
       "      <td>com,news18)/news/movies/10-things-akshay-kumar...</td>\n",
       "    </tr>\n",
       "    <tr>\n",
       "      <th>4</th>\n",
       "      <td>UTF-8</td>\n",
       "      <td>WYYRI67LYHDCM3R55NCUUWMUFYIAZWJ6</td>\n",
       "      <td>crawl-data/CC-MAIN-2018-43/segments/1539583515...</td>\n",
       "      <td>eng</td>\n",
       "      <td>31420</td>\n",
       "      <td>text/html</td>\n",
       "      <td>text/html</td>\n",
       "      <td>1006849651</td>\n",
       "      <td>200</td>\n",
       "      <td>1970-08-22 13:50:22.184831</td>\n",
       "      <td>https://www.news18.com/news/movies/10-things-y...</td>\n",
       "      <td>com,news18)/news/movies/10-things-you-should-k...</td>\n",
       "    </tr>\n",
       "  </tbody>\n",
       "</table>\n",
       "</div>"
      ],
      "text/plain": [
       "  charset                            digest  \\\n",
       "0   UTF-8  ING23JTUS4DNB5Q4EBP4VFRIZOEMZTTE   \n",
       "1   UTF-8  GXDYMFM24ONBVVQR5KXPTCYLQ5WBP3XS   \n",
       "2   UTF-8  X7Q64J74QNJZ3RKNOUDFU3TVCBF77SVI   \n",
       "3   UTF-8  RWIED4P3UIOQJSROR6QV4JSR73GSKJHL   \n",
       "4   UTF-8  WYYRI67LYHDCM3R55NCUUWMUFYIAZWJ6   \n",
       "\n",
       "                                            filename languages  length  \\\n",
       "0  crawl-data/CC-MAIN-2018-43/segments/1539583510...       eng   38643   \n",
       "1  crawl-data/CC-MAIN-2018-43/segments/1539583515...       eng   31409   \n",
       "2  crawl-data/CC-MAIN-2018-43/segments/1539583512...       eng   34257   \n",
       "3  crawl-data/CC-MAIN-2018-43/segments/1539583513...       eng   31639   \n",
       "4  crawl-data/CC-MAIN-2018-43/segments/1539583515...       eng   31420   \n",
       "\n",
       "        mime mime-detected      offset  status                  timestamp  \\\n",
       "0  text/html     text/html  1037204307     200 1970-08-22 13:50:17.013035   \n",
       "1  text/html     text/html  1012036861     200 1970-08-22 13:50:22.150356   \n",
       "2  text/html     text/html  1037009554     200 1970-08-22 13:50:19.054131   \n",
       "3  text/html     text/html  1006779471     200 1970-08-22 13:50:21.012315   \n",
       "4  text/html     text/html  1006849651     200 1970-08-22 13:50:22.184831   \n",
       "\n",
       "                                                 url  \\\n",
       "0  https://www.news18.com/news/movies/10-ka-dum-a...   \n",
       "1  https://www.news18.com/news/movies/10-things-a...   \n",
       "2  https://www.news18.com/news/movies/10-things-a...   \n",
       "3  https://www.news18.com/news/movies/10-things-a...   \n",
       "4  https://www.news18.com/news/movies/10-things-y...   \n",
       "\n",
       "                                              urlkey  \n",
       "0  com,news18)/news/movies/10-ka-dum-after-winnin...  \n",
       "1  com,news18)/news/movies/10-things-akshay-kumar...  \n",
       "2  com,news18)/news/movies/10-things-akshay-kumar...  \n",
       "3  com,news18)/news/movies/10-things-akshay-kumar...  \n",
       "4  com,news18)/news/movies/10-things-you-should-k...  "
      ]
     },
     "execution_count": 98,
     "metadata": {},
     "output_type": "execute_result"
    }
   ],
   "source": [
    "df.head()"
   ]
  },
  {
   "cell_type": "code",
   "execution_count": 100,
   "metadata": {},
   "outputs": [
    {
     "data": {
      "text/plain": [
       "3051"
      ]
     },
     "execution_count": 100,
     "metadata": {},
     "output_type": "execute_result"
    }
   ],
   "source": [
    "df.shape[0]"
   ]
  },
  {
   "cell_type": "code",
   "execution_count": 87,
   "metadata": {},
   "outputs": [
    {
     "data": {
      "text/plain": [
       "b''"
      ]
     },
     "execution_count": 87,
     "metadata": {},
     "output_type": "execute_result"
    }
   ],
   "source": [
    "record.content_stream().read()"
   ]
  },
  {
   "cell_type": "code",
   "execution_count": 29,
   "metadata": {},
   "outputs": [],
   "source": [
    "! mkdir data"
   ]
  },
  {
   "cell_type": "code",
   "execution_count": 56,
   "metadata": {},
   "outputs": [],
   "source": [
    "html_content=download_page(records[0])"
   ]
  },
  {
   "cell_type": "code",
   "execution_count": 11,
   "metadata": {},
   "outputs": [],
   "source": [
    "import pickle as pk\n",
    "\n",
    "# with open('data/foo.html','wb') as f:\n",
    "#     pk.dump(html_content,f)\n",
    "# with open('data/foo.html','rb') as f:\n",
    "#     html_content=pk.load(f)\n",
    "with open('output/http_economictimes_indiatimes_com_industry_auto_/page_dumps/4bea23c674d9a116e1cff435c6cdd0d3.html') as f:\n",
    "    html_content=f.read()"
   ]
  },
  {
   "cell_type": "code",
   "execution_count": 75,
   "metadata": {
    "collapsed": true
   },
   "outputs": [
    {
     "name": "stdout",
     "output_type": "stream",
     "text": [
      "Collecting lxml\n",
      "\u001b[?25l  Downloading https://files.pythonhosted.org/packages/da/9c/901d13b9d84262082e81d38879600dcec28beb994ae08d1a7cbab4dc3ece/lxml-4.2.5-cp37-cp37m-macosx_10_6_intel.macosx_10_9_intel.macosx_10_9_x86_64.macosx_10_10_intel.macosx_10_10_x86_64.whl (8.6MB)\n",
      "\u001b[K    100% |████████████████████████████████| 8.6MB 3.8MB/s ta 0:00:011\n",
      "\u001b[?25hInstalling collected packages: lxml\n",
      "Successfully installed lxml-4.2.5\n"
     ]
    }
   ],
   "source": [
    "! pip3 install beautifulsoup4\n",
    "! pip3 install lxml"
   ]
  },
  {
   "cell_type": "code",
   "execution_count": 12,
   "metadata": {},
   "outputs": [],
   "source": [
    "from bs4 import BeautifulSoup\n",
    "soup = BeautifulSoup(html_content, \"lxml\")"
   ]
  },
  {
   "cell_type": "code",
   "execution_count": 13,
   "metadata": {},
   "outputs": [],
   "source": [
    "def clean_me(soup):\n",
    "    for tag in ['script', 'style','meta','noscript']:\n",
    "        [x.extract() for x in soup.find_all(tag)]\n",
    "    return soup\n",
    "    for s in soup(['script', 'style']):\n",
    "        s.decompose()\n",
    "    return '\\n'.join(soup.stripped_strings)\n",
    "# print(clean_me(soup))"
   ]
  },
  {
   "cell_type": "markdown",
   "metadata": {},
   "source": [
    "# extract article text from html"
   ]
  },
  {
   "cell_type": "code",
   "execution_count": 24,
   "metadata": {},
   "outputs": [],
   "source": [
    "doc=soup.find('div',{'class':'artText'}).get_text()\n",
    "# soup=clean_me(soup)\n",
    "print(soup.find('div', {'id':'article_body'}).text)"
   ]
  },
  {
   "cell_type": "code",
   "execution_count": 21,
   "metadata": {},
   "outputs": [
    {
     "data": {
      "text/plain": [
       "<div class=\"publish_on flt\">Sep 20, 2018, 06.41 AM IST</div>"
      ]
     },
     "execution_count": 21,
     "metadata": {},
     "output_type": "execute_result"
    }
   ],
   "source": [
    "soup.find('div',{'class':'publish_on'})"
   ]
  },
  {
   "cell_type": "code",
   "execution_count": 64,
   "metadata": {},
   "outputs": [
    {
     "data": {
      "text/plain": [
       "\"MUMBAI: One of the most awaited sequel, ‘Baahubali 2: The Conclusion’, will release in IMAX format, the IMAX Corporation announced on Thursday.  Arka Mediaworks’ fantasy film will be digitally re-mastered in the immersive format and released in IMAX theatres in India on April 28 and across select international markets later.  ‘Baahubali 2’ marks the third Indian production to be released in IMAX. Prior to this, Aamir Khan-starrer ‘Dhoom:3’ and Hrithik Roshan-Katrina Kaif starrer ‘Bang Bang!’ were digitally re-mastered into IMAX format.  Directed by SS Rajamouli, ‘Baahubali 2: The Conclusion’ is the continuation of the 2015 box-office hit ‘Baahubali: The Beginning’. The sequel will see Prabhas along with Rana Daggubati, Anushka Shetty and Tamannaah Bhatia.  “A major factor for the wide appeal of the Baahubali films is the scale and immersive nature with which we designed and filmed them. So it is very exciting that 'Baahubali 2: The Conclusion' will be released in the IMAX format, which best showcases this and gives the viewer a great experience,” said Rajamouli.  “With Baahubali 2: The Conclusion, we are excited to continue our commitment to playing local-language blockbusters in India by offering IMAX fans this thrilling finale to the epic and highly successful Indian franchise from Arka Mediaworks and Rajamouli,” said Greg Foster, CEO of IMAX Entertainment and Senior Executive Vice President, IMAX Corp. He added that the film is an ideal fit for the IMAX Experience.  IMAX uses proprietary IMAX DMR (Digital Re-mastering) technology to convert films into the immersive format. It boasts that its crystal-clear images, coupled with customised theatre geometry and powerful digital audio, create a unique environment that makes audiences feel as if they are in the movie. \""
      ]
     },
     "execution_count": 64,
     "metadata": {},
     "output_type": "execute_result"
    }
   ],
   "source": [
    "doc"
   ]
  },
  {
   "cell_type": "markdown",
   "metadata": {},
   "source": [
    "# test preprocessing with nltk"
   ]
  },
  {
   "cell_type": "code",
   "execution_count": 66,
   "metadata": {
    "collapsed": true
   },
   "outputs": [
    {
     "name": "stdout",
     "output_type": "stream",
     "text": [
      "Collecting nltk\n",
      "  Using cached https://files.pythonhosted.org/packages/50/09/3b1755d528ad9156ee7243d52aa5cd2b809ef053a0f31b53d92853dd653a/nltk-3.3.0.zip\n",
      "Requirement already satisfied: six in /usr/local/lib/python3.7/site-packages (from nltk) (1.11.0)\n",
      "Building wheels for collected packages: nltk\n",
      "  Running setup.py bdist_wheel for nltk ... \u001b[?25ldone\n",
      "\u001b[?25h  Stored in directory: /Users/akshit.jain/Library/Caches/pip/wheels/d1/ab/40/3bceea46922767e42986aef7606a600538ca80de6062dc266c\n",
      "Successfully built nltk\n",
      "Installing collected packages: nltk\n",
      "Successfully installed nltk-3.3\n"
     ]
    }
   ],
   "source": [
    "! pip3 install nltk"
   ]
  },
  {
   "cell_type": "code",
   "execution_count": 67,
   "metadata": {},
   "outputs": [],
   "source": [
    "import nltk"
   ]
  },
  {
   "cell_type": "code",
   "execution_count": 69,
   "metadata": {},
   "outputs": [
    {
     "data": {
      "text/plain": [
       "['MUMBAI: One of the most awaited sequel, ‘Baahubali 2: The Conclusion’, will release in IMAX format, the IMAX Corporation announced on Thursday.',\n",
       " 'Arka Mediaworks’ fantasy film will be digitally re-mastered in the immersive format and released in IMAX theatres in India on April 28 and across select international markets later.',\n",
       " '‘Baahubali 2’ marks the third Indian production to be released in IMAX.',\n",
       " 'Prior to this, Aamir Khan-starrer ‘Dhoom:3’ and Hrithik Roshan-Katrina Kaif starrer ‘Bang Bang!’ were digitally re-mastered into IMAX format.',\n",
       " 'Directed by SS Rajamouli, ‘Baahubali 2: The Conclusion’ is the continuation of the 2015 box-office hit ‘Baahubali: The Beginning’.',\n",
       " 'The sequel will see Prabhas along with Rana Daggubati, Anushka Shetty and Tamannaah Bhatia.',\n",
       " '“A major factor for the wide appeal of the Baahubali films is the scale and immersive nature with which we designed and filmed them.',\n",
       " \"So it is very exciting that 'Baahubali 2: The Conclusion' will be released in the IMAX format, which best showcases this and gives the viewer a great experience,” said Rajamouli.\",\n",
       " '“With Baahubali 2: The Conclusion, we are excited to continue our commitment to playing local-language blockbusters in India by offering IMAX fans this thrilling finale to the epic and highly successful Indian franchise from Arka Mediaworks and Rajamouli,” said Greg Foster, CEO of IMAX Entertainment and Senior Executive Vice President, IMAX Corp.',\n",
       " 'He added that the film is an ideal fit for the IMAX Experience.',\n",
       " 'IMAX uses proprietary IMAX DMR (Digital Re-mastering) technology to convert films into the immersive format.',\n",
       " 'It boasts that its crystal-clear images, coupled with customised theatre geometry and powerful digital audio, create a unique environment that makes audiences feel as if they are in the movie.']"
      ]
     },
     "execution_count": 69,
     "metadata": {},
     "output_type": "execute_result"
    }
   ],
   "source": [
    "sents"
   ]
  },
  {
   "cell_type": "code",
   "execution_count": 68,
   "metadata": {},
   "outputs": [],
   "source": [
    "from nltk.tokenize import sent_tokenize\n",
    "sents = sent_tokenize(doc)"
   ]
  },
  {
   "cell_type": "code",
   "execution_count": 70,
   "metadata": {},
   "outputs": [],
   "source": [
    "tokens = nltk.word_tokenize(sents[0])"
   ]
  },
  {
   "cell_type": "code",
   "execution_count": 71,
   "metadata": {},
   "outputs": [
    {
     "data": {
      "text/plain": [
       "['MUMBAI',\n",
       " ':',\n",
       " 'One',\n",
       " 'of',\n",
       " 'the',\n",
       " 'most',\n",
       " 'awaited',\n",
       " 'sequel',\n",
       " ',',\n",
       " '‘',\n",
       " 'Baahubali',\n",
       " '2',\n",
       " ':',\n",
       " 'The',\n",
       " 'Conclusion',\n",
       " '’',\n",
       " ',',\n",
       " 'will',\n",
       " 'release',\n",
       " 'in',\n",
       " 'IMAX',\n",
       " 'format',\n",
       " ',',\n",
       " 'the',\n",
       " 'IMAX',\n",
       " 'Corporation',\n",
       " 'announced',\n",
       " 'on',\n",
       " 'Thursday',\n",
       " '.']"
      ]
     },
     "execution_count": 71,
     "metadata": {},
     "output_type": "execute_result"
    }
   ],
   "source": [
    "tokens"
   ]
  },
  {
   "cell_type": "code",
   "execution_count": 74,
   "metadata": {},
   "outputs": [
    {
     "name": "stdout",
     "output_type": "stream",
     "text": [
      "[nltk_data] Downloading package averaged_perceptron_tagger to\n",
      "[nltk_data]     /Users/akshit.jain/nltk_data...\n",
      "[nltk_data]   Package averaged_perceptron_tagger is already up-to-\n",
      "[nltk_data]       date!\n"
     ]
    }
   ],
   "source": [
    "nltk.download('averaged_perceptron_tagger')\n",
    "tagged = nltk.pos_tag(tokens)"
   ]
  },
  {
   "cell_type": "code",
   "execution_count": 75,
   "metadata": {},
   "outputs": [
    {
     "data": {
      "text/plain": [
       "[('MUMBAI', 'NN'),\n",
       " (':', ':'),\n",
       " ('One', 'CD'),\n",
       " ('of', 'IN'),\n",
       " ('the', 'DT'),\n",
       " ('most', 'RBS'),\n",
       " ('awaited', 'JJ'),\n",
       " ('sequel', 'NN'),\n",
       " (',', ','),\n",
       " ('‘', 'NNP'),\n",
       " ('Baahubali', 'NNP'),\n",
       " ('2', 'CD'),\n",
       " (':', ':'),\n",
       " ('The', 'DT'),\n",
       " ('Conclusion', 'NNP'),\n",
       " ('’', 'NNP'),\n",
       " (',', ','),\n",
       " ('will', 'MD'),\n",
       " ('release', 'VB'),\n",
       " ('in', 'IN'),\n",
       " ('IMAX', 'NNP'),\n",
       " ('format', 'NN'),\n",
       " (',', ','),\n",
       " ('the', 'DT'),\n",
       " ('IMAX', 'NNP'),\n",
       " ('Corporation', 'NNP'),\n",
       " ('announced', 'VBD'),\n",
       " ('on', 'IN'),\n",
       " ('Thursday', 'NNP'),\n",
       " ('.', '.')]"
      ]
     },
     "execution_count": 75,
     "metadata": {},
     "output_type": "execute_result"
    }
   ],
   "source": [
    "tagged"
   ]
  },
  {
   "cell_type": "code",
   "execution_count": 81,
   "metadata": {},
   "outputs": [
    {
     "name": "stdout",
     "output_type": "stream",
     "text": [
      "CD: numeral, cardinal\n",
      "    mid-1890 nine-thirty forty-two one-tenth ten million 0.5 one forty-\n",
      "    seven 1987 twenty '79 zero two 78-degrees eighty-four IX '60s .025\n",
      "    fifteen 271,124 dozen quintillion DM2,000 ...\n"
     ]
    }
   ],
   "source": [
    "import nltk\n",
    "# nltk.download('tagsets')\n",
    "nltk.help.upenn_tagset('CD')"
   ]
  },
  {
   "cell_type": "markdown",
   "metadata": {},
   "source": [
    "# NER with spacy"
   ]
  },
  {
   "cell_type": "code",
   "execution_count": 91,
   "metadata": {},
   "outputs": [
    {
     "name": "stdout",
     "output_type": "stream",
     "text": [
      "Collecting en_core_web_md==2.0.0 from https://github.com/explosion/spacy-models/releases/download/en_core_web_md-2.0.0/en_core_web_md-2.0.0.tar.gz#egg=en_core_web_md==2.0.0\n",
      "\u001b[?25l  Downloading https://github.com/explosion/spacy-models/releases/download/en_core_web_md-2.0.0/en_core_web_md-2.0.0.tar.gz (120.8MB)\n",
      "\u001b[K    100% |████████████████████████████████| 120.9MB 1.4MB/s ta 0:00:0111\n",
      "\u001b[?25hInstalling collected packages: en-core-web-md\n",
      "  Running setup.py install for en-core-web-md ... \u001b[?25ldone\n",
      "\u001b[?25hSuccessfully installed en-core-web-md-2.0.0\n",
      "\n",
      "\u001b[93m    Linking successful\u001b[0m\n",
      "    /usr/local/lib/python3.7/site-packages/en_core_web_md -->\n",
      "    /usr/local/lib/python3.7/site-packages/spacy/data/en_core_web_md\n",
      "\n",
      "    You can now load the model via spacy.load('en_core_web_md')\n",
      "\n"
     ]
    }
   ],
   "source": [
    "# ! pip3 install -U spacy\n",
    "# ! python3 -m spacy download en\n",
    "! python3 -m spacy download en_core_web_md"
   ]
  },
  {
   "cell_type": "code",
   "execution_count": 175,
   "metadata": {},
   "outputs": [],
   "source": [
    "# https://towardsdatascience.com/named-entity-recognition-with-nltk-and-spacy-8c4a7d88e7da\n",
    "import spacy\n",
    "from spacy import displacy\n",
    "from collections import Counter\n",
    "\n",
    "nlp = spacy.load('en_core_web_md')"
   ]
  },
  {
   "cell_type": "code",
   "execution_count": 176,
   "metadata": {},
   "outputs": [
    {
     "name": "stdout",
     "output_type": "stream",
     "text": [
      "[('Mumbai', 'GPE'),\n",
      " ('Megastar Amitabh Bachchan', 'PERSON'),\n",
      " ('Thugs of Hindostan', 'ORG'),\n",
      " (' \\r', 'CARDINAL'),\n",
      " ('\\n\\r', 'ORG'),\n",
      " ('Russia', 'GPE'),\n",
      " ('Russian', 'LANGUAGE'),\n",
      " ('tomorrow', 'DATE'),\n",
      " (' \\t \\r\\n\\t', 'PERSON'),\n",
      " ('75', 'CARDINAL'),\n",
      " ('day', 'DATE'),\n",
      " ('Jodhpur', 'GPE'),\n",
      " ('Bachchan', 'PERSON'),\n",
      " ('Aamir Khan', 'PERSON'),\n",
      " ('Fatima Sana Shaikh', 'PERSON'),\n",
      " ('Katrina Kaif', 'PERSON'),\n",
      " ('Diwali 2018', 'DATE'),\n",
      " ('Yash Raj Films', 'ORG'),\n",
      " ('Vijay Krishna Acharya', 'PERSON'),\n",
      " ('Katrina', 'PERSON'),\n",
      " ('Aamir', 'PERSON'),\n",
      " ('Dhoom', 'PERSON'),\n",
      " ('3', 'CARDINAL'),\n",
      " ('1839', 'DATE'),\n",
      " ('Confessions of a Thug', 'WORK_OF_ART'),\n",
      " ('102', 'CARDINAL'),\n",
      " ('Rishi Kapoor', 'PERSON'),\n",
      " ('HindostanThugs', 'ORG'),\n",
      " ('Hindostan Shoot', 'PERSON')]\n"
     ]
    }
   ],
   "source": [
    "from pprint import pprint\n",
    "doc_parsed=nlp(doc)\n",
    "pprint([(X.text, X.label_) for X in doc_parsed.ents])"
   ]
  },
  {
   "cell_type": "code",
   "execution_count": 179,
   "metadata": {},
   "outputs": [
    {
     "data": {
      "text/plain": [
       "'\\nMumbai: Megastar Amitabh Bachchan is nearing the end of his shooting schedule for Thugs of Hindostan, which has been a strenuous project for him.  \\rBig B wrote about it on his blog. \\n\\r\"The work pressure increased. Some issues arose and that did not allow me the liberty of getting out of \\'Russia\\'. Something that can easily come off and on because of the intricate prosthetic make-up for \\'Thugs of Hindostan\\' and the time it takes. So, look a bit Russian too with that woolly cap.  \\n\\n \\r\\n \"But work on the \\'Thugs of Hindostan\\' reaches an end soon like for me perhaps tomorrow then there are the promotions to do. Invent and write to execute them... it\\'s work and more work... and it should never stop,\" he wrote.  \\t \\r\\n\\tThe cine icon, 75, was geared up for \"another rough day\", maybe the last for him on the film. \\rIt was during the shoot of \"Thugs of Hindostan\" in Jodhpur when a team of doctors had to be flown in to check on Bachchan, who had been involved in some action scenes for the movie and was required to wear heavy costumes. \\rThe film also stars Aamir Khan, Fatima Sana Shaikh and Katrina Kaif. It is scheduled for a Diwali 2018 release. \\rThe Yash Raj Films production is being helmed by Vijay Krishna Acharya, who directed Katrina and Aamir in \"Dhoom: 3\". It is an adaptation of the 1839 novel \"Confessions of a Thug\". \\rAmitabh has another film in his kitty -- \"102 Not Out\", which also stars veteran star Rishi Kapoor.\\t \\t \\n\\n amitabh bachchanThugs of HindostanThugs of Hindostan Shoot   '"
      ]
     },
     "execution_count": 179,
     "metadata": {},
     "output_type": "execute_result"
    }
   ],
   "source": [
    "doc"
   ]
  },
  {
   "cell_type": "markdown",
   "metadata": {},
   "source": [
    "# IMDB Dataset for Distant Supervision\n",
    "## https://www.imdb.com/interfaces/"
   ]
  },
  {
   "cell_type": "code",
   "execution_count": null,
   "metadata": {},
   "outputs": [],
   "source": [
    "! pushd data; wget https://datasets.imdbws.com/title.akas.tsv.gz .; gzip -d title.akas.tsv.gz; popd"
   ]
  },
  {
   "cell_type": "code",
   "execution_count": 97,
   "metadata": {
    "collapsed": true
   },
   "outputs": [
    {
     "name": "stdout",
     "output_type": "stream",
     "text": [
      "Collecting pandas\n",
      "\u001b[?25l  Downloading https://files.pythonhosted.org/packages/6b/dc/3a88b7bf8437f3f052fc90de72f28c06248142821a7f108e10ff3be5eb59/pandas-0.23.4-cp37-cp37m-macosx_10_6_intel.macosx_10_9_intel.macosx_10_9_x86_64.macosx_10_10_intel.macosx_10_10_x86_64.whl (14.4MB)\n",
      "\u001b[K    100% |████████████████████████████████| 14.4MB 2.7MB/s eta 0:00:01\n",
      "\u001b[?25hRequirement already satisfied: python-dateutil>=2.5.0 in /usr/local/lib/python3.7/site-packages (from pandas) (2.7.5)\n",
      "Requirement already satisfied: numpy>=1.9.0 in /usr/local/lib/python3.7/site-packages (from pandas) (1.15.4)\n",
      "Collecting pytz>=2011k (from pandas)\n",
      "\u001b[?25l  Downloading https://files.pythonhosted.org/packages/f8/0e/2365ddc010afb3d79147f1dd544e5ee24bf4ece58ab99b16fbb465ce6dc0/pytz-2018.7-py2.py3-none-any.whl (506kB)\n",
      "\u001b[K    100% |████████████████████████████████| 512kB 19.9MB/s ta 0:00:01\n",
      "\u001b[?25hRequirement already satisfied: six>=1.5 in /usr/local/lib/python3.7/site-packages (from python-dateutil>=2.5.0->pandas) (1.11.0)\n",
      "Installing collected packages: pytz, pandas\n",
      "Successfully installed pandas-0.23.4 pytz-2018.7\n"
     ]
    }
   ],
   "source": [
    "! pip3 install pandas"
   ]
  },
  {
   "cell_type": "code",
   "execution_count": 98,
   "metadata": {},
   "outputs": [],
   "source": [
    "import pandas as pd"
   ]
  },
  {
   "cell_type": "markdown",
   "metadata": {},
   "source": [
    "## load movie titles"
   ]
  },
  {
   "cell_type": "code",
   "execution_count": 35,
   "metadata": {},
   "outputs": [
    {
     "name": "stderr",
     "output_type": "stream",
     "text": [
      "/usr/local/lib/python3.7/site-packages/IPython/core/interactiveshell.py:3020: DtypeWarning: Columns (7) have mixed types. Specify dtype option on import or set low_memory=False.\n",
      "  interactivity=interactivity, compiler=compiler, result=result)\n"
     ]
    }
   ],
   "source": [
    "mov=pd.read_csv('data/title.akas.tsv', sep='\\t')#, na_values=['\\N']"
   ]
  },
  {
   "cell_type": "code",
   "execution_count": 36,
   "metadata": {},
   "outputs": [
    {
     "data": {
      "text/html": [
       "<div>\n",
       "<style scoped>\n",
       "    .dataframe tbody tr th:only-of-type {\n",
       "        vertical-align: middle;\n",
       "    }\n",
       "\n",
       "    .dataframe tbody tr th {\n",
       "        vertical-align: top;\n",
       "    }\n",
       "\n",
       "    .dataframe thead th {\n",
       "        text-align: right;\n",
       "    }\n",
       "</style>\n",
       "<table border=\"1\" class=\"dataframe\">\n",
       "  <thead>\n",
       "    <tr style=\"text-align: right;\">\n",
       "      <th></th>\n",
       "      <th>titleId</th>\n",
       "      <th>ordering</th>\n",
       "      <th>title</th>\n",
       "      <th>region</th>\n",
       "      <th>language</th>\n",
       "      <th>types</th>\n",
       "      <th>attributes</th>\n",
       "      <th>isOriginalTitle</th>\n",
       "    </tr>\n",
       "  </thead>\n",
       "  <tbody>\n",
       "    <tr>\n",
       "      <th>0</th>\n",
       "      <td>tt0000001</td>\n",
       "      <td>1</td>\n",
       "      <td>Carmencita - spanyol tánc</td>\n",
       "      <td>HU</td>\n",
       "      <td>\\N</td>\n",
       "      <td>imdbDisplay</td>\n",
       "      <td>\\N</td>\n",
       "      <td>0</td>\n",
       "    </tr>\n",
       "    <tr>\n",
       "      <th>1</th>\n",
       "      <td>tt0000001</td>\n",
       "      <td>2</td>\n",
       "      <td>Карменсита</td>\n",
       "      <td>RU</td>\n",
       "      <td>\\N</td>\n",
       "      <td>\\N</td>\n",
       "      <td>\\N</td>\n",
       "      <td>0</td>\n",
       "    </tr>\n",
       "    <tr>\n",
       "      <th>2</th>\n",
       "      <td>tt0000001</td>\n",
       "      <td>3</td>\n",
       "      <td>Carmencita</td>\n",
       "      <td>US</td>\n",
       "      <td>\\N</td>\n",
       "      <td>\\N</td>\n",
       "      <td>\\N</td>\n",
       "      <td>0</td>\n",
       "    </tr>\n",
       "    <tr>\n",
       "      <th>3</th>\n",
       "      <td>tt0000001</td>\n",
       "      <td>4</td>\n",
       "      <td>Carmencita</td>\n",
       "      <td>\\N</td>\n",
       "      <td>\\N</td>\n",
       "      <td>original</td>\n",
       "      <td>\\N</td>\n",
       "      <td>1</td>\n",
       "    </tr>\n",
       "    <tr>\n",
       "      <th>4</th>\n",
       "      <td>tt0000002</td>\n",
       "      <td>1</td>\n",
       "      <td>Le clown et ses chiens</td>\n",
       "      <td>\\N</td>\n",
       "      <td>\\N</td>\n",
       "      <td>original</td>\n",
       "      <td>\\N</td>\n",
       "      <td>1</td>\n",
       "    </tr>\n",
       "  </tbody>\n",
       "</table>\n",
       "</div>"
      ],
      "text/plain": [
       "     titleId  ordering                      title region language  \\\n",
       "0  tt0000001         1  Carmencita - spanyol tánc     HU       \\N   \n",
       "1  tt0000001         2                 Карменсита     RU       \\N   \n",
       "2  tt0000001         3                 Carmencita     US       \\N   \n",
       "3  tt0000001         4                 Carmencita     \\N       \\N   \n",
       "4  tt0000002         1     Le clown et ses chiens     \\N       \\N   \n",
       "\n",
       "         types attributes isOriginalTitle  \n",
       "0  imdbDisplay         \\N               0  \n",
       "1           \\N         \\N               0  \n",
       "2           \\N         \\N               0  \n",
       "3     original         \\N               1  \n",
       "4     original         \\N               1  "
      ]
     },
     "execution_count": 36,
     "metadata": {},
     "output_type": "execute_result"
    }
   ],
   "source": [
    "mov.head()"
   ]
  },
  {
   "cell_type": "code",
   "execution_count": 103,
   "metadata": {},
   "outputs": [
    {
     "data": {
      "text/plain": [
       "True"
      ]
     },
     "execution_count": 103,
     "metadata": {},
     "output_type": "execute_result"
    }
   ],
   "source": [
    "'IN' in mov.region.unique()"
   ]
  },
  {
   "cell_type": "code",
   "execution_count": 37,
   "metadata": {},
   "outputs": [
    {
     "data": {
      "text/html": [
       "<div>\n",
       "<style scoped>\n",
       "    .dataframe tbody tr th:only-of-type {\n",
       "        vertical-align: middle;\n",
       "    }\n",
       "\n",
       "    .dataframe tbody tr th {\n",
       "        vertical-align: top;\n",
       "    }\n",
       "\n",
       "    .dataframe thead th {\n",
       "        text-align: right;\n",
       "    }\n",
       "</style>\n",
       "<table border=\"1\" class=\"dataframe\">\n",
       "  <thead>\n",
       "    <tr style=\"text-align: right;\">\n",
       "      <th></th>\n",
       "      <th>titleId</th>\n",
       "      <th>ordering</th>\n",
       "      <th>title</th>\n",
       "      <th>region</th>\n",
       "      <th>language</th>\n",
       "      <th>types</th>\n",
       "      <th>attributes</th>\n",
       "      <th>isOriginalTitle</th>\n",
       "    </tr>\n",
       "  </thead>\n",
       "  <tbody>\n",
       "    <tr>\n",
       "      <th>6889</th>\n",
       "      <td>tt0003311</td>\n",
       "      <td>3</td>\n",
       "      <td>Raja Harishchandra</td>\n",
       "      <td>IN</td>\n",
       "      <td>\\N</td>\n",
       "      <td>\\N</td>\n",
       "      <td>\\N</td>\n",
       "      <td>0</td>\n",
       "    </tr>\n",
       "    <tr>\n",
       "      <th>6891</th>\n",
       "      <td>tt0003311</td>\n",
       "      <td>5</td>\n",
       "      <td>King Harishchandra</td>\n",
       "      <td>IN</td>\n",
       "      <td>en</td>\n",
       "      <td>\\N</td>\n",
       "      <td>literal title</td>\n",
       "      <td>0</td>\n",
       "    </tr>\n",
       "    <tr>\n",
       "      <th>28022</th>\n",
       "      <td>tt0011965</td>\n",
       "      <td>1</td>\n",
       "      <td>Bhakta Vidur</td>\n",
       "      <td>IN</td>\n",
       "      <td>\\N</td>\n",
       "      <td>\\N</td>\n",
       "      <td>\\N</td>\n",
       "      <td>0</td>\n",
       "    </tr>\n",
       "    <tr>\n",
       "      <th>28044</th>\n",
       "      <td>tt0011971</td>\n",
       "      <td>2</td>\n",
       "      <td>Bilet Pherat</td>\n",
       "      <td>IN</td>\n",
       "      <td>\\N</td>\n",
       "      <td>\\N</td>\n",
       "      <td>\\N</td>\n",
       "      <td>0</td>\n",
       "    </tr>\n",
       "    <tr>\n",
       "      <th>32673</th>\n",
       "      <td>tt0013568</td>\n",
       "      <td>2</td>\n",
       "      <td>Sadhu Aur Shaitaan</td>\n",
       "      <td>IN</td>\n",
       "      <td>hi</td>\n",
       "      <td>\\N</td>\n",
       "      <td>alternative spelling</td>\n",
       "      <td>0</td>\n",
       "    </tr>\n",
       "  </tbody>\n",
       "</table>\n",
       "</div>"
      ],
      "text/plain": [
       "         titleId  ordering               title region language types  \\\n",
       "6889   tt0003311         3  Raja Harishchandra     IN       \\N    \\N   \n",
       "6891   tt0003311         5  King Harishchandra     IN       en    \\N   \n",
       "28022  tt0011965         1        Bhakta Vidur     IN       \\N    \\N   \n",
       "28044  tt0011971         2        Bilet Pherat     IN       \\N    \\N   \n",
       "32673  tt0013568         2  Sadhu Aur Shaitaan     IN       hi    \\N   \n",
       "\n",
       "                 attributes isOriginalTitle  \n",
       "6889                     \\N               0  \n",
       "6891          literal title               0  \n",
       "28022                    \\N               0  \n",
       "28044                    \\N               0  \n",
       "32673  alternative spelling               0  "
      ]
     },
     "execution_count": 37,
     "metadata": {},
     "output_type": "execute_result"
    }
   ],
   "source": [
    "mov_in=mov[mov.region=='IN']\n",
    "mov_in.head()"
   ]
  },
  {
   "cell_type": "code",
   "execution_count": 112,
   "metadata": {},
   "outputs": [
    {
     "data": {
      "text/html": [
       "<div>\n",
       "<style scoped>\n",
       "    .dataframe tbody tr th:only-of-type {\n",
       "        vertical-align: middle;\n",
       "    }\n",
       "\n",
       "    .dataframe tbody tr th {\n",
       "        vertical-align: top;\n",
       "    }\n",
       "\n",
       "    .dataframe thead th {\n",
       "        text-align: right;\n",
       "    }\n",
       "</style>\n",
       "<table border=\"1\" class=\"dataframe\">\n",
       "  <thead>\n",
       "    <tr style=\"text-align: right;\">\n",
       "      <th></th>\n",
       "      <th>titleId</th>\n",
       "      <th>ordering</th>\n",
       "      <th>title</th>\n",
       "      <th>region</th>\n",
       "      <th>language</th>\n",
       "      <th>types</th>\n",
       "      <th>attributes</th>\n",
       "      <th>isOriginalTitle</th>\n",
       "    </tr>\n",
       "  </thead>\n",
       "  <tbody>\n",
       "    <tr>\n",
       "      <th>2638153</th>\n",
       "      <td>tt3767372</td>\n",
       "      <td>3</td>\n",
       "      <td>Piku</td>\n",
       "      <td>IN</td>\n",
       "      <td>\\N</td>\n",
       "      <td>\\N</td>\n",
       "      <td>\\N</td>\n",
       "      <td>0</td>\n",
       "    </tr>\n",
       "  </tbody>\n",
       "</table>\n",
       "</div>"
      ],
      "text/plain": [
       "           titleId  ordering title region language types attributes  \\\n",
       "2638153  tt3767372         3  Piku     IN       \\N    \\N         \\N   \n",
       "\n",
       "        isOriginalTitle  \n",
       "2638153               0  "
      ]
     },
     "execution_count": 112,
     "metadata": {},
     "output_type": "execute_result"
    }
   ],
   "source": [
    "mov_in[mov_in.title.str.contains('Piku')]"
   ]
  },
  {
   "cell_type": "markdown",
   "metadata": {},
   "source": [
    "## Load actors"
   ]
  },
  {
   "cell_type": "code",
   "execution_count": 38,
   "metadata": {},
   "outputs": [
    {
     "data": {
      "text/html": [
       "<div>\n",
       "<style scoped>\n",
       "    .dataframe tbody tr th:only-of-type {\n",
       "        vertical-align: middle;\n",
       "    }\n",
       "\n",
       "    .dataframe tbody tr th {\n",
       "        vertical-align: top;\n",
       "    }\n",
       "\n",
       "    .dataframe thead th {\n",
       "        text-align: right;\n",
       "    }\n",
       "</style>\n",
       "<table border=\"1\" class=\"dataframe\">\n",
       "  <thead>\n",
       "    <tr style=\"text-align: right;\">\n",
       "      <th></th>\n",
       "      <th>tconst</th>\n",
       "      <th>ordering</th>\n",
       "      <th>nconst</th>\n",
       "      <th>category</th>\n",
       "      <th>job</th>\n",
       "      <th>characters</th>\n",
       "    </tr>\n",
       "  </thead>\n",
       "  <tbody>\n",
       "    <tr>\n",
       "      <th>0</th>\n",
       "      <td>tt0000001</td>\n",
       "      <td>1</td>\n",
       "      <td>nm1588970</td>\n",
       "      <td>self</td>\n",
       "      <td>\\N</td>\n",
       "      <td>[\"Herself\"]</td>\n",
       "    </tr>\n",
       "    <tr>\n",
       "      <th>1</th>\n",
       "      <td>tt0000001</td>\n",
       "      <td>2</td>\n",
       "      <td>nm0005690</td>\n",
       "      <td>director</td>\n",
       "      <td>\\N</td>\n",
       "      <td>\\N</td>\n",
       "    </tr>\n",
       "    <tr>\n",
       "      <th>2</th>\n",
       "      <td>tt0000001</td>\n",
       "      <td>3</td>\n",
       "      <td>nm0374658</td>\n",
       "      <td>cinematographer</td>\n",
       "      <td>director of photography</td>\n",
       "      <td>\\N</td>\n",
       "    </tr>\n",
       "    <tr>\n",
       "      <th>3</th>\n",
       "      <td>tt0000002</td>\n",
       "      <td>1</td>\n",
       "      <td>nm0721526</td>\n",
       "      <td>director</td>\n",
       "      <td>\\N</td>\n",
       "      <td>\\N</td>\n",
       "    </tr>\n",
       "    <tr>\n",
       "      <th>4</th>\n",
       "      <td>tt0000002</td>\n",
       "      <td>2</td>\n",
       "      <td>nm1335271</td>\n",
       "      <td>composer</td>\n",
       "      <td>\\N</td>\n",
       "      <td>\\N</td>\n",
       "    </tr>\n",
       "  </tbody>\n",
       "</table>\n",
       "</div>"
      ],
      "text/plain": [
       "      tconst  ordering     nconst         category                      job  \\\n",
       "0  tt0000001         1  nm1588970             self                       \\N   \n",
       "1  tt0000001         2  nm0005690         director                       \\N   \n",
       "2  tt0000001         3  nm0374658  cinematographer  director of photography   \n",
       "3  tt0000002         1  nm0721526         director                       \\N   \n",
       "4  tt0000002         2  nm1335271         composer                       \\N   \n",
       "\n",
       "    characters  \n",
       "0  [\"Herself\"]  \n",
       "1           \\N  \n",
       "2           \\N  \n",
       "3           \\N  \n",
       "4           \\N  "
      ]
     },
     "execution_count": 38,
     "metadata": {},
     "output_type": "execute_result"
    }
   ],
   "source": [
    "act=pd.read_csv('data/title.principals.tsv.gz',sep='\\t')\n",
    "act.head()"
   ]
  },
  {
   "cell_type": "code",
   "execution_count": 39,
   "metadata": {},
   "outputs": [],
   "source": [
    "act_in=act[act.tconst.isin(mov_in.titleId)]"
   ]
  },
  {
   "cell_type": "code",
   "execution_count": 120,
   "metadata": {},
   "outputs": [
    {
     "data": {
      "text/html": [
       "<div>\n",
       "<style scoped>\n",
       "    .dataframe tbody tr th:only-of-type {\n",
       "        vertical-align: middle;\n",
       "    }\n",
       "\n",
       "    .dataframe tbody tr th {\n",
       "        vertical-align: top;\n",
       "    }\n",
       "\n",
       "    .dataframe thead th {\n",
       "        text-align: right;\n",
       "    }\n",
       "</style>\n",
       "<table border=\"1\" class=\"dataframe\">\n",
       "  <thead>\n",
       "    <tr style=\"text-align: right;\">\n",
       "      <th></th>\n",
       "      <th>tconst</th>\n",
       "      <th>ordering</th>\n",
       "      <th>nconst</th>\n",
       "      <th>category</th>\n",
       "      <th>job</th>\n",
       "      <th>characters</th>\n",
       "    </tr>\n",
       "  </thead>\n",
       "  <tbody>\n",
       "    <tr>\n",
       "      <th>17283</th>\n",
       "      <td>tt0003311</td>\n",
       "      <td>1</td>\n",
       "      <td>nm0196409</td>\n",
       "      <td>actor</td>\n",
       "      <td>\\N</td>\n",
       "      <td>[\"Raja Harishchandra\"]</td>\n",
       "    </tr>\n",
       "    <tr>\n",
       "      <th>17284</th>\n",
       "      <td>tt0003311</td>\n",
       "      <td>2</td>\n",
       "      <td>nm0762507</td>\n",
       "      <td>actor</td>\n",
       "      <td>\\N</td>\n",
       "      <td>[\"Taramati\"]</td>\n",
       "    </tr>\n",
       "    <tr>\n",
       "      <th>17285</th>\n",
       "      <td>tt0003311</td>\n",
       "      <td>3</td>\n",
       "      <td>nm0679609</td>\n",
       "      <td>actor</td>\n",
       "      <td>\\N</td>\n",
       "      <td>[\"Rohitas\"]</td>\n",
       "    </tr>\n",
       "    <tr>\n",
       "      <th>17286</th>\n",
       "      <td>tt0003311</td>\n",
       "      <td>4</td>\n",
       "      <td>nm0762500</td>\n",
       "      <td>actor</td>\n",
       "      <td>\\N</td>\n",
       "      <td>[\"Vishwamitra\"]</td>\n",
       "    </tr>\n",
       "    <tr>\n",
       "      <th>17287</th>\n",
       "      <td>tt0003311</td>\n",
       "      <td>5</td>\n",
       "      <td>nm0679610</td>\n",
       "      <td>director</td>\n",
       "      <td>\\N</td>\n",
       "      <td>\\N</td>\n",
       "    </tr>\n",
       "  </tbody>\n",
       "</table>\n",
       "</div>"
      ],
      "text/plain": [
       "          tconst  ordering     nconst  category job              characters\n",
       "17283  tt0003311         1  nm0196409     actor  \\N  [\"Raja Harishchandra\"]\n",
       "17284  tt0003311         2  nm0762507     actor  \\N            [\"Taramati\"]\n",
       "17285  tt0003311         3  nm0679609     actor  \\N             [\"Rohitas\"]\n",
       "17286  tt0003311         4  nm0762500     actor  \\N         [\"Vishwamitra\"]\n",
       "17287  tt0003311         5  nm0679610  director  \\N                      \\N"
      ]
     },
     "execution_count": 120,
     "metadata": {},
     "output_type": "execute_result"
    }
   ],
   "source": [
    "act_in.head()"
   ]
  },
  {
   "cell_type": "code",
   "execution_count": 40,
   "metadata": {},
   "outputs": [
    {
     "data": {
      "text/html": [
       "<div>\n",
       "<style scoped>\n",
       "    .dataframe tbody tr th:only-of-type {\n",
       "        vertical-align: middle;\n",
       "    }\n",
       "\n",
       "    .dataframe tbody tr th {\n",
       "        vertical-align: top;\n",
       "    }\n",
       "\n",
       "    .dataframe thead th {\n",
       "        text-align: right;\n",
       "    }\n",
       "</style>\n",
       "<table border=\"1\" class=\"dataframe\">\n",
       "  <thead>\n",
       "    <tr style=\"text-align: right;\">\n",
       "      <th></th>\n",
       "      <th>nconst</th>\n",
       "      <th>primaryName</th>\n",
       "      <th>birthYear</th>\n",
       "      <th>deathYear</th>\n",
       "      <th>primaryProfession</th>\n",
       "      <th>knownForTitles</th>\n",
       "    </tr>\n",
       "  </thead>\n",
       "  <tbody>\n",
       "    <tr>\n",
       "      <th>0</th>\n",
       "      <td>nm0000001</td>\n",
       "      <td>Fred Astaire</td>\n",
       "      <td>1899</td>\n",
       "      <td>1987</td>\n",
       "      <td>soundtrack,actor,miscellaneous</td>\n",
       "      <td>tt0043044,tt0053137,tt0072308,tt0050419</td>\n",
       "    </tr>\n",
       "    <tr>\n",
       "      <th>1</th>\n",
       "      <td>nm0000002</td>\n",
       "      <td>Lauren Bacall</td>\n",
       "      <td>1924</td>\n",
       "      <td>2014</td>\n",
       "      <td>actress,soundtrack</td>\n",
       "      <td>tt0037382,tt0038355,tt0071877,tt0117057</td>\n",
       "    </tr>\n",
       "    <tr>\n",
       "      <th>2</th>\n",
       "      <td>nm0000003</td>\n",
       "      <td>Brigitte Bardot</td>\n",
       "      <td>1934</td>\n",
       "      <td>\\N</td>\n",
       "      <td>actress,soundtrack,producer</td>\n",
       "      <td>tt0057345,tt0059956,tt0054452,tt0049189</td>\n",
       "    </tr>\n",
       "    <tr>\n",
       "      <th>3</th>\n",
       "      <td>nm0000004</td>\n",
       "      <td>John Belushi</td>\n",
       "      <td>1949</td>\n",
       "      <td>1982</td>\n",
       "      <td>actor,writer,soundtrack</td>\n",
       "      <td>tt0077975,tt0078723,tt0080455,tt0072562</td>\n",
       "    </tr>\n",
       "    <tr>\n",
       "      <th>4</th>\n",
       "      <td>nm0000005</td>\n",
       "      <td>Ingmar Bergman</td>\n",
       "      <td>1918</td>\n",
       "      <td>2007</td>\n",
       "      <td>writer,director,actor</td>\n",
       "      <td>tt0060827,tt0050986,tt0083922,tt0050976</td>\n",
       "    </tr>\n",
       "  </tbody>\n",
       "</table>\n",
       "</div>"
      ],
      "text/plain": [
       "      nconst      primaryName birthYear deathYear  \\\n",
       "0  nm0000001     Fred Astaire      1899      1987   \n",
       "1  nm0000002    Lauren Bacall      1924      2014   \n",
       "2  nm0000003  Brigitte Bardot      1934        \\N   \n",
       "3  nm0000004     John Belushi      1949      1982   \n",
       "4  nm0000005   Ingmar Bergman      1918      2007   \n",
       "\n",
       "                primaryProfession                           knownForTitles  \n",
       "0  soundtrack,actor,miscellaneous  tt0043044,tt0053137,tt0072308,tt0050419  \n",
       "1              actress,soundtrack  tt0037382,tt0038355,tt0071877,tt0117057  \n",
       "2     actress,soundtrack,producer  tt0057345,tt0059956,tt0054452,tt0049189  \n",
       "3         actor,writer,soundtrack  tt0077975,tt0078723,tt0080455,tt0072562  \n",
       "4           writer,director,actor  tt0060827,tt0050986,tt0083922,tt0050976  "
      ]
     },
     "execution_count": 40,
     "metadata": {},
     "output_type": "execute_result"
    }
   ],
   "source": [
    "names=pd.read_csv('data/name.basics.tsv.gz', sep='\\t')\n",
    "names.head()"
   ]
  },
  {
   "cell_type": "code",
   "execution_count": 41,
   "metadata": {},
   "outputs": [
    {
     "data": {
      "text/html": [
       "<div>\n",
       "<style scoped>\n",
       "    .dataframe tbody tr th:only-of-type {\n",
       "        vertical-align: middle;\n",
       "    }\n",
       "\n",
       "    .dataframe tbody tr th {\n",
       "        vertical-align: top;\n",
       "    }\n",
       "\n",
       "    .dataframe thead th {\n",
       "        text-align: right;\n",
       "    }\n",
       "</style>\n",
       "<table border=\"1\" class=\"dataframe\">\n",
       "  <thead>\n",
       "    <tr style=\"text-align: right;\">\n",
       "      <th></th>\n",
       "      <th>nconst</th>\n",
       "      <th>primaryName</th>\n",
       "      <th>birthYear</th>\n",
       "      <th>deathYear</th>\n",
       "      <th>primaryProfession</th>\n",
       "      <th>knownForTitles</th>\n",
       "    </tr>\n",
       "  </thead>\n",
       "  <tbody>\n",
       "    <tr>\n",
       "      <th>50</th>\n",
       "      <td>nm0000051</td>\n",
       "      <td>James Mason</td>\n",
       "      <td>1909</td>\n",
       "      <td>1984</td>\n",
       "      <td>actor,producer,writer</td>\n",
       "      <td>tt0046672,tt0084855,tt0056193,tt0047522</td>\n",
       "    </tr>\n",
       "    <tr>\n",
       "      <th>58</th>\n",
       "      <td>nm0000059</td>\n",
       "      <td>Laurence Olivier</td>\n",
       "      <td>1907</td>\n",
       "      <td>1989</td>\n",
       "      <td>actor,producer,director</td>\n",
       "      <td>tt0040416,tt0032976,tt0069281,tt0054331</td>\n",
       "    </tr>\n",
       "    <tr>\n",
       "      <th>91</th>\n",
       "      <td>nm0000092</td>\n",
       "      <td>John Cleese</td>\n",
       "      <td>1939</td>\n",
       "      <td>\\N</td>\n",
       "      <td>actor,writer,producer</td>\n",
       "      <td>tt0063929,tt0071853,tt0085959,tt0095159</td>\n",
       "    </tr>\n",
       "    <tr>\n",
       "      <th>95</th>\n",
       "      <td>nm0000096</td>\n",
       "      <td>Gillian Anderson</td>\n",
       "      <td>1968</td>\n",
       "      <td>\\N</td>\n",
       "      <td>actress,producer,soundtrack</td>\n",
       "      <td>tt0442632,tt0455590,tt2294189,tt0106179</td>\n",
       "    </tr>\n",
       "    <tr>\n",
       "      <th>103</th>\n",
       "      <td>nm0000104</td>\n",
       "      <td>Antonio Banderas</td>\n",
       "      <td>1960</td>\n",
       "      <td>\\N</td>\n",
       "      <td>actor,soundtrack,producer</td>\n",
       "      <td>tt0112851,tt1189073,tt0120746,tt0120657</td>\n",
       "    </tr>\n",
       "  </tbody>\n",
       "</table>\n",
       "</div>"
      ],
      "text/plain": [
       "        nconst       primaryName birthYear deathYear  \\\n",
       "50   nm0000051       James Mason      1909      1984   \n",
       "58   nm0000059  Laurence Olivier      1907      1989   \n",
       "91   nm0000092       John Cleese      1939        \\N   \n",
       "95   nm0000096  Gillian Anderson      1968        \\N   \n",
       "103  nm0000104  Antonio Banderas      1960        \\N   \n",
       "\n",
       "               primaryProfession                           knownForTitles  \n",
       "50         actor,producer,writer  tt0046672,tt0084855,tt0056193,tt0047522  \n",
       "58       actor,producer,director  tt0040416,tt0032976,tt0069281,tt0054331  \n",
       "91         actor,writer,producer  tt0063929,tt0071853,tt0085959,tt0095159  \n",
       "95   actress,producer,soundtrack  tt0442632,tt0455590,tt2294189,tt0106179  \n",
       "103    actor,soundtrack,producer  tt0112851,tt1189073,tt0120746,tt0120657  "
      ]
     },
     "execution_count": 41,
     "metadata": {},
     "output_type": "execute_result"
    }
   ],
   "source": [
    "in_acts_list=act_in.nconst.unique()\n",
    "names_in=names[names.nconst.isin(in_acts_list)]\n",
    "names_in.head()"
   ]
  },
  {
   "cell_type": "code",
   "execution_count": 130,
   "metadata": {},
   "outputs": [
    {
     "data": {
      "text/html": [
       "<div>\n",
       "<style scoped>\n",
       "    .dataframe tbody tr th:only-of-type {\n",
       "        vertical-align: middle;\n",
       "    }\n",
       "\n",
       "    .dataframe tbody tr th {\n",
       "        vertical-align: top;\n",
       "    }\n",
       "\n",
       "    .dataframe thead th {\n",
       "        text-align: right;\n",
       "    }\n",
       "</style>\n",
       "<table border=\"1\" class=\"dataframe\">\n",
       "  <thead>\n",
       "    <tr style=\"text-align: right;\">\n",
       "      <th></th>\n",
       "      <th>nconst</th>\n",
       "      <th>primaryName</th>\n",
       "      <th>birthYear</th>\n",
       "      <th>deathYear</th>\n",
       "      <th>primaryProfession</th>\n",
       "      <th>knownForTitles</th>\n",
       "    </tr>\n",
       "  </thead>\n",
       "  <tbody>\n",
       "    <tr>\n",
       "      <th>50</th>\n",
       "      <td>nm0000051</td>\n",
       "      <td>James Mason</td>\n",
       "      <td>1909</td>\n",
       "      <td>1984</td>\n",
       "      <td>actor,producer,writer</td>\n",
       "      <td>tt0046672,tt0084855,tt0056193,tt0047522</td>\n",
       "    </tr>\n",
       "    <tr>\n",
       "      <th>58</th>\n",
       "      <td>nm0000059</td>\n",
       "      <td>Laurence Olivier</td>\n",
       "      <td>1907</td>\n",
       "      <td>1989</td>\n",
       "      <td>actor,producer,director</td>\n",
       "      <td>tt0040416,tt0032976,tt0069281,tt0054331</td>\n",
       "    </tr>\n",
       "    <tr>\n",
       "      <th>91</th>\n",
       "      <td>nm0000092</td>\n",
       "      <td>John Cleese</td>\n",
       "      <td>1939</td>\n",
       "      <td>\\N</td>\n",
       "      <td>actor,writer,producer</td>\n",
       "      <td>tt0063929,tt0071853,tt0085959,tt0095159</td>\n",
       "    </tr>\n",
       "    <tr>\n",
       "      <th>95</th>\n",
       "      <td>nm0000096</td>\n",
       "      <td>Gillian Anderson</td>\n",
       "      <td>1968</td>\n",
       "      <td>\\N</td>\n",
       "      <td>actress,producer,soundtrack</td>\n",
       "      <td>tt0442632,tt0455590,tt2294189,tt0106179</td>\n",
       "    </tr>\n",
       "    <tr>\n",
       "      <th>103</th>\n",
       "      <td>nm0000104</td>\n",
       "      <td>Antonio Banderas</td>\n",
       "      <td>1960</td>\n",
       "      <td>\\N</td>\n",
       "      <td>actor,soundtrack,producer</td>\n",
       "      <td>tt0112851,tt1189073,tt0120746,tt0120657</td>\n",
       "    </tr>\n",
       "    <tr>\n",
       "      <th>106</th>\n",
       "      <td>nm0000107</td>\n",
       "      <td>Kim Basinger</td>\n",
       "      <td>1953</td>\n",
       "      <td>\\N</td>\n",
       "      <td>actress,soundtrack,producer</td>\n",
       "      <td>tt0096895,tt0109890,tt0119488,tt0337921</td>\n",
       "    </tr>\n",
       "    <tr>\n",
       "      <th>111</th>\n",
       "      <td>nm0000112</td>\n",
       "      <td>Pierce Brosnan</td>\n",
       "      <td>1953</td>\n",
       "      <td>\\N</td>\n",
       "      <td>actor,producer,soundtrack</td>\n",
       "      <td>tt0795421,tt0143145,tt0120347,tt0113189</td>\n",
       "    </tr>\n",
       "    <tr>\n",
       "      <th>114</th>\n",
       "      <td>nm0000115</td>\n",
       "      <td>Nicolas Cage</td>\n",
       "      <td>1964</td>\n",
       "      <td>\\N</td>\n",
       "      <td>actor,producer,soundtrack</td>\n",
       "      <td>tt0435705,tt0113627,tt0117500,tt0119094</td>\n",
       "    </tr>\n",
       "    <tr>\n",
       "      <th>116</th>\n",
       "      <td>nm0000117</td>\n",
       "      <td>Neve Campbell</td>\n",
       "      <td>1973</td>\n",
       "      <td>\\N</td>\n",
       "      <td>actress,producer,soundtrack</td>\n",
       "      <td>tt0120082,tt0134084,tt1262416,tt0117571</td>\n",
       "    </tr>\n",
       "    <tr>\n",
       "      <th>117</th>\n",
       "      <td>nm0000118</td>\n",
       "      <td>John Carpenter</td>\n",
       "      <td>1948</td>\n",
       "      <td>\\N</td>\n",
       "      <td>soundtrack,writer,music_department</td>\n",
       "      <td>tt0080749,tt0093777,tt0082340,tt0077651</td>\n",
       "    </tr>\n",
       "    <tr>\n",
       "      <th>123</th>\n",
       "      <td>nm0000124</td>\n",
       "      <td>Jennifer Connelly</td>\n",
       "      <td>1970</td>\n",
       "      <td>\\N</td>\n",
       "      <td>actress</td>\n",
       "      <td>tt0268978,tt0315983,tt0102803,tt0180093</td>\n",
       "    </tr>\n",
       "    <tr>\n",
       "      <th>124</th>\n",
       "      <td>nm0000125</td>\n",
       "      <td>Sean Connery</td>\n",
       "      <td>1930</td>\n",
       "      <td>\\N</td>\n",
       "      <td>actor,producer,soundtrack</td>\n",
       "      <td>tt0094226,tt0117500,tt0058150,tt0059800</td>\n",
       "    </tr>\n",
       "    <tr>\n",
       "      <th>126</th>\n",
       "      <td>nm0000127</td>\n",
       "      <td>Wes Craven</td>\n",
       "      <td>1939</td>\n",
       "      <td>2015</td>\n",
       "      <td>writer,producer,director</td>\n",
       "      <td>tt0117571,tt0105121,tt0087800,tt0111686</td>\n",
       "    </tr>\n",
       "    <tr>\n",
       "      <th>127</th>\n",
       "      <td>nm0000128</td>\n",
       "      <td>Russell Crowe</td>\n",
       "      <td>1964</td>\n",
       "      <td>\\N</td>\n",
       "      <td>actor,soundtrack,producer</td>\n",
       "      <td>tt0119488,tt0172495,tt0268978,tt1707386</td>\n",
       "    </tr>\n",
       "    <tr>\n",
       "      <th>129</th>\n",
       "      <td>nm0000130</td>\n",
       "      <td>Jamie Lee Curtis</td>\n",
       "      <td>1958</td>\n",
       "      <td>\\N</td>\n",
       "      <td>actress,producer,director</td>\n",
       "      <td>tt0322330,tt0111503,tt0095159,tt0086465</td>\n",
       "    </tr>\n",
       "    <tr>\n",
       "      <th>130</th>\n",
       "      <td>nm0000131</td>\n",
       "      <td>John Cusack</td>\n",
       "      <td>1966</td>\n",
       "      <td>\\N</td>\n",
       "      <td>actor,producer,writer</td>\n",
       "      <td>tt0119229,tt0098258,tt0450385,tt0146882</td>\n",
       "    </tr>\n",
       "    <tr>\n",
       "      <th>133</th>\n",
       "      <td>nm0000134</td>\n",
       "      <td>Robert De Niro</td>\n",
       "      <td>1943</td>\n",
       "      <td>\\N</td>\n",
       "      <td>actor,producer,soundtrack</td>\n",
       "      <td>tt0081398,tt0075314,tt0070379,tt0101540</td>\n",
       "    </tr>\n",
       "    <tr>\n",
       "      <th>135</th>\n",
       "      <td>nm0000136</td>\n",
       "      <td>Johnny Depp</td>\n",
       "      <td>1963</td>\n",
       "      <td>\\N</td>\n",
       "      <td>actor,producer,soundtrack</td>\n",
       "      <td>tt0325980,tt0383574,tt0408236,tt0449088</td>\n",
       "    </tr>\n",
       "    <tr>\n",
       "      <th>137</th>\n",
       "      <td>nm0000138</td>\n",
       "      <td>Leonardo DiCaprio</td>\n",
       "      <td>1974</td>\n",
       "      <td>\\N</td>\n",
       "      <td>actor,producer,writer</td>\n",
       "      <td>tt0993846,tt0407887,tt1375666,tt0120338</td>\n",
       "    </tr>\n",
       "    <tr>\n",
       "      <th>138</th>\n",
       "      <td>nm0000139</td>\n",
       "      <td>Cameron Diaz</td>\n",
       "      <td>1972</td>\n",
       "      <td>\\N</td>\n",
       "      <td>actress,producer,soundtrack</td>\n",
       "      <td>tt0119738,tt0259711,tt0160127,tt0129387</td>\n",
       "    </tr>\n",
       "    <tr>\n",
       "      <th>143</th>\n",
       "      <td>nm0000144</td>\n",
       "      <td>Cary Elwes</td>\n",
       "      <td>1962</td>\n",
       "      <td>\\N</td>\n",
       "      <td>actor,producer,director</td>\n",
       "      <td>tt0093779,tt0387564,tt0107977,tt0119468</td>\n",
       "    </tr>\n",
       "    <tr>\n",
       "      <th>145</th>\n",
       "      <td>nm0000146</td>\n",
       "      <td>Ralph Fiennes</td>\n",
       "      <td>1962</td>\n",
       "      <td>\\N</td>\n",
       "      <td>actor,director,soundtrack</td>\n",
       "      <td>tt0387131,tt2278388,tt0108052,tt1201607</td>\n",
       "    </tr>\n",
       "    <tr>\n",
       "      <th>151</th>\n",
       "      <td>nm0000152</td>\n",
       "      <td>Richard Gere</td>\n",
       "      <td>1949</td>\n",
       "      <td>\\N</td>\n",
       "      <td>actor,soundtrack,producer</td>\n",
       "      <td>tt0100405,tt0119395,tt0299658,tt0358135</td>\n",
       "    </tr>\n",
       "    <tr>\n",
       "      <th>154</th>\n",
       "      <td>nm0000155</td>\n",
       "      <td>Whoopi Goldberg</td>\n",
       "      <td>1955</td>\n",
       "      <td>\\N</td>\n",
       "      <td>actress,producer,writer</td>\n",
       "      <td>tt0108147,tt0105417,tt0099653,tt0088939</td>\n",
       "    </tr>\n",
       "    <tr>\n",
       "      <th>160</th>\n",
       "      <td>nm0000161</td>\n",
       "      <td>Salma Hayek</td>\n",
       "      <td>1966</td>\n",
       "      <td>\\N</td>\n",
       "      <td>actress,producer,soundtrack</td>\n",
       "      <td>tt1615065,tt0120679,tt0120891,tt0112851</td>\n",
       "    </tr>\n",
       "    <tr>\n",
       "      <th>167</th>\n",
       "      <td>nm0000168</td>\n",
       "      <td>Samuel L. Jackson</td>\n",
       "      <td>1948</td>\n",
       "      <td>\\N</td>\n",
       "      <td>actor,producer,soundtrack</td>\n",
       "      <td>tt0119396,tt0110912,tt0417148,tt3460252</td>\n",
       "    </tr>\n",
       "    <tr>\n",
       "      <th>169</th>\n",
       "      <td>nm0000170</td>\n",
       "      <td>Milla Jovovich</td>\n",
       "      <td>1975</td>\n",
       "      <td>\\N</td>\n",
       "      <td>actress,soundtrack,composer</td>\n",
       "      <td>tt1220198,tt0119116,tt0432021,tt1220634</td>\n",
       "    </tr>\n",
       "    <tr>\n",
       "      <th>171</th>\n",
       "      <td>nm0000172</td>\n",
       "      <td>Harvey Keitel</td>\n",
       "      <td>1939</td>\n",
       "      <td>\\N</td>\n",
       "      <td>actor,producer,soundtrack</td>\n",
       "      <td>tt2278388,tt0103759,tt0105236,tt0110912</td>\n",
       "    </tr>\n",
       "    <tr>\n",
       "      <th>184</th>\n",
       "      <td>nm0000185</td>\n",
       "      <td>Dolph Lundgren</td>\n",
       "      <td>1957</td>\n",
       "      <td>\\N</td>\n",
       "      <td>actor,producer,director</td>\n",
       "      <td>tt0093507,tt1764651,tt0105698,tt0089927</td>\n",
       "    </tr>\n",
       "    <tr>\n",
       "      <th>190</th>\n",
       "      <td>nm0000191</td>\n",
       "      <td>Ewan McGregor</td>\n",
       "      <td>1971</td>\n",
       "      <td>\\N</td>\n",
       "      <td>actor,writer,soundtrack</td>\n",
       "      <td>tt2763304,tt1322269,tt0117951,tt0203009</td>\n",
       "    </tr>\n",
       "    <tr>\n",
       "      <th>...</th>\n",
       "      <td>...</td>\n",
       "      <td>...</td>\n",
       "      <td>...</td>\n",
       "      <td>...</td>\n",
       "      <td>...</td>\n",
       "      <td>...</td>\n",
       "    </tr>\n",
       "    <tr>\n",
       "      <th>8948195</th>\n",
       "      <td>nm9979658</td>\n",
       "      <td>Ajmal Zayn</td>\n",
       "      <td>\\N</td>\n",
       "      <td>\\N</td>\n",
       "      <td>actor</td>\n",
       "      <td>\\N</td>\n",
       "    </tr>\n",
       "    <tr>\n",
       "      <th>8949106</th>\n",
       "      <td>nm9980642</td>\n",
       "      <td>Sharvan Agarwal</td>\n",
       "      <td>\\N</td>\n",
       "      <td>\\N</td>\n",
       "      <td>producer</td>\n",
       "      <td>tt7274806</td>\n",
       "    </tr>\n",
       "    <tr>\n",
       "      <th>8949107</th>\n",
       "      <td>nm9980643</td>\n",
       "      <td>Sanjay Surana</td>\n",
       "      <td>\\N</td>\n",
       "      <td>\\N</td>\n",
       "      <td>producer</td>\n",
       "      <td>tt7274806</td>\n",
       "    </tr>\n",
       "    <tr>\n",
       "      <th>8949344</th>\n",
       "      <td>nm9980896</td>\n",
       "      <td>Rama Narayanan</td>\n",
       "      <td>\\N</td>\n",
       "      <td>\\N</td>\n",
       "      <td>director,writer</td>\n",
       "      <td>tt0320701,tt8715016,tt8929818,tt8919136</td>\n",
       "    </tr>\n",
       "    <tr>\n",
       "      <th>8949725</th>\n",
       "      <td>nm9981309</td>\n",
       "      <td>Utsav Arora</td>\n",
       "      <td>\\N</td>\n",
       "      <td>\\N</td>\n",
       "      <td>director,writer,cinematographer</td>\n",
       "      <td>tt8716480</td>\n",
       "    </tr>\n",
       "    <tr>\n",
       "      <th>8949726</th>\n",
       "      <td>nm9981310</td>\n",
       "      <td>Rajbir Singh Gill</td>\n",
       "      <td>\\N</td>\n",
       "      <td>\\N</td>\n",
       "      <td>actor</td>\n",
       "      <td>tt8716480</td>\n",
       "    </tr>\n",
       "    <tr>\n",
       "      <th>8949727</th>\n",
       "      <td>nm9981311</td>\n",
       "      <td>Palwinder Pal Singh</td>\n",
       "      <td>\\N</td>\n",
       "      <td>\\N</td>\n",
       "      <td>actor</td>\n",
       "      <td>tt8716480</td>\n",
       "    </tr>\n",
       "    <tr>\n",
       "      <th>8949728</th>\n",
       "      <td>nm9981312</td>\n",
       "      <td>Dalbir Singh Chinna</td>\n",
       "      <td>\\N</td>\n",
       "      <td>\\N</td>\n",
       "      <td>actor</td>\n",
       "      <td>tt8716480</td>\n",
       "    </tr>\n",
       "    <tr>\n",
       "      <th>8949729</th>\n",
       "      <td>nm9981313</td>\n",
       "      <td>Naveen Pandhi</td>\n",
       "      <td>\\N</td>\n",
       "      <td>\\N</td>\n",
       "      <td>actor</td>\n",
       "      <td>tt8716480</td>\n",
       "    </tr>\n",
       "    <tr>\n",
       "      <th>8949730</th>\n",
       "      <td>nm9981314</td>\n",
       "      <td>Lemon Stack</td>\n",
       "      <td>\\N</td>\n",
       "      <td>\\N</td>\n",
       "      <td>producer</td>\n",
       "      <td>tt8716480</td>\n",
       "    </tr>\n",
       "    <tr>\n",
       "      <th>8949731</th>\n",
       "      <td>nm9981315</td>\n",
       "      <td>Rahul Mehra</td>\n",
       "      <td>\\N</td>\n",
       "      <td>\\N</td>\n",
       "      <td>cinematographer,editor</td>\n",
       "      <td>tt8716480</td>\n",
       "    </tr>\n",
       "    <tr>\n",
       "      <th>8950568</th>\n",
       "      <td>nm9982248</td>\n",
       "      <td>Sonali Ghosh</td>\n",
       "      <td>\\N</td>\n",
       "      <td>\\N</td>\n",
       "      <td>actress</td>\n",
       "      <td>\\N</td>\n",
       "    </tr>\n",
       "    <tr>\n",
       "      <th>8951850</th>\n",
       "      <td>nm9983650</td>\n",
       "      <td>Siddharth Dhamija</td>\n",
       "      <td>\\N</td>\n",
       "      <td>\\N</td>\n",
       "      <td>actor</td>\n",
       "      <td>\\N</td>\n",
       "    </tr>\n",
       "    <tr>\n",
       "      <th>8952879</th>\n",
       "      <td>nm9984810</td>\n",
       "      <td>Sangeetha</td>\n",
       "      <td>\\N</td>\n",
       "      <td>\\N</td>\n",
       "      <td>actress</td>\n",
       "      <td>tt7466810</td>\n",
       "    </tr>\n",
       "    <tr>\n",
       "      <th>8953159</th>\n",
       "      <td>nm9985123</td>\n",
       "      <td>Sipra Roy</td>\n",
       "      <td>\\N</td>\n",
       "      <td>\\N</td>\n",
       "      <td>producer</td>\n",
       "      <td>\\N</td>\n",
       "    </tr>\n",
       "    <tr>\n",
       "      <th>8955164</th>\n",
       "      <td>nm9987227</td>\n",
       "      <td>Latha</td>\n",
       "      <td>\\N</td>\n",
       "      <td>\\N</td>\n",
       "      <td>producer</td>\n",
       "      <td>tt7719976</td>\n",
       "    </tr>\n",
       "    <tr>\n",
       "      <th>8956286</th>\n",
       "      <td>nm9988385</td>\n",
       "      <td>Shakuntala Manik</td>\n",
       "      <td>\\N</td>\n",
       "      <td>\\N</td>\n",
       "      <td>actress</td>\n",
       "      <td>\\N</td>\n",
       "    </tr>\n",
       "    <tr>\n",
       "      <th>8956332</th>\n",
       "      <td>nm9988435</td>\n",
       "      <td>Anjana Krishnakumar</td>\n",
       "      <td>\\N</td>\n",
       "      <td>\\N</td>\n",
       "      <td>director</td>\n",
       "      <td>tt7738784</td>\n",
       "    </tr>\n",
       "    <tr>\n",
       "      <th>8956333</th>\n",
       "      <td>nm9988436</td>\n",
       "      <td>Amudhavan Karuppiah</td>\n",
       "      <td>\\N</td>\n",
       "      <td>\\N</td>\n",
       "      <td>director</td>\n",
       "      <td>tt7738784</td>\n",
       "    </tr>\n",
       "    <tr>\n",
       "      <th>8957118</th>\n",
       "      <td>nm9989246</td>\n",
       "      <td>Rambabu Bandaru</td>\n",
       "      <td>\\N</td>\n",
       "      <td>\\N</td>\n",
       "      <td>producer</td>\n",
       "      <td>tt8733898</td>\n",
       "    </tr>\n",
       "    <tr>\n",
       "      <th>8957119</th>\n",
       "      <td>nm9989247</td>\n",
       "      <td>Srinivasaa Chitturi</td>\n",
       "      <td>\\N</td>\n",
       "      <td>\\N</td>\n",
       "      <td>producer</td>\n",
       "      <td>tt8733898</td>\n",
       "    </tr>\n",
       "    <tr>\n",
       "      <th>8957729</th>\n",
       "      <td>nm9989884</td>\n",
       "      <td>Guru Gopinath</td>\n",
       "      <td>\\N</td>\n",
       "      <td>\\N</td>\n",
       "      <td>actor</td>\n",
       "      <td>\\N</td>\n",
       "    </tr>\n",
       "    <tr>\n",
       "      <th>8958450</th>\n",
       "      <td>nm9990646</td>\n",
       "      <td>Shonali Gaikwad</td>\n",
       "      <td>\\N</td>\n",
       "      <td>\\N</td>\n",
       "      <td>production_designer</td>\n",
       "      <td>tt8653270</td>\n",
       "    </tr>\n",
       "    <tr>\n",
       "      <th>8959622</th>\n",
       "      <td>nm9992120</td>\n",
       "      <td>Aghajani Kashmeri</td>\n",
       "      <td>\\N</td>\n",
       "      <td>\\N</td>\n",
       "      <td>actor</td>\n",
       "      <td>tt0375980</td>\n",
       "    </tr>\n",
       "    <tr>\n",
       "      <th>8959623</th>\n",
       "      <td>nm9992121</td>\n",
       "      <td>Faredoon Irani</td>\n",
       "      <td>\\N</td>\n",
       "      <td>\\N</td>\n",
       "      <td>producer</td>\n",
       "      <td>tt0388404</td>\n",
       "    </tr>\n",
       "    <tr>\n",
       "      <th>8960451</th>\n",
       "      <td>nm9993123</td>\n",
       "      <td>Rajdeep Dhanuka</td>\n",
       "      <td>\\N</td>\n",
       "      <td>\\N</td>\n",
       "      <td>director,writer,editor</td>\n",
       "      <td>tt8742880,tt8866550,tt9089824,tt8866396</td>\n",
       "    </tr>\n",
       "    <tr>\n",
       "      <th>8960452</th>\n",
       "      <td>nm9993124</td>\n",
       "      <td>Gaia Delepine</td>\n",
       "      <td>\\N</td>\n",
       "      <td>\\N</td>\n",
       "      <td>actress,writer</td>\n",
       "      <td>tt8742880</td>\n",
       "    </tr>\n",
       "    <tr>\n",
       "      <th>8960453</th>\n",
       "      <td>nm9993125</td>\n",
       "      <td>Alejandro Bordier</td>\n",
       "      <td>\\N</td>\n",
       "      <td>\\N</td>\n",
       "      <td>assistant_director,actor</td>\n",
       "      <td>tt8866550,tt8742880,tt9121640</td>\n",
       "    </tr>\n",
       "    <tr>\n",
       "      <th>8960454</th>\n",
       "      <td>nm9993126</td>\n",
       "      <td>Gurjot Singh</td>\n",
       "      <td>\\N</td>\n",
       "      <td>\\N</td>\n",
       "      <td>composer</td>\n",
       "      <td>tt8742880</td>\n",
       "    </tr>\n",
       "    <tr>\n",
       "      <th>8960455</th>\n",
       "      <td>nm9993127</td>\n",
       "      <td>Aaryaman Kutty</td>\n",
       "      <td>\\N</td>\n",
       "      <td>\\N</td>\n",
       "      <td>camera_department,cinematographer</td>\n",
       "      <td>tt9089824,tt8742880,tt8866550</td>\n",
       "    </tr>\n",
       "  </tbody>\n",
       "</table>\n",
       "<p>75395 rows × 6 columns</p>\n",
       "</div>"
      ],
      "text/plain": [
       "            nconst          primaryName birthYear deathYear  \\\n",
       "50       nm0000051          James Mason      1909      1984   \n",
       "58       nm0000059     Laurence Olivier      1907      1989   \n",
       "91       nm0000092          John Cleese      1939        \\N   \n",
       "95       nm0000096     Gillian Anderson      1968        \\N   \n",
       "103      nm0000104     Antonio Banderas      1960        \\N   \n",
       "106      nm0000107         Kim Basinger      1953        \\N   \n",
       "111      nm0000112       Pierce Brosnan      1953        \\N   \n",
       "114      nm0000115         Nicolas Cage      1964        \\N   \n",
       "116      nm0000117        Neve Campbell      1973        \\N   \n",
       "117      nm0000118       John Carpenter      1948        \\N   \n",
       "123      nm0000124    Jennifer Connelly      1970        \\N   \n",
       "124      nm0000125         Sean Connery      1930        \\N   \n",
       "126      nm0000127           Wes Craven      1939      2015   \n",
       "127      nm0000128        Russell Crowe      1964        \\N   \n",
       "129      nm0000130     Jamie Lee Curtis      1958        \\N   \n",
       "130      nm0000131          John Cusack      1966        \\N   \n",
       "133      nm0000134       Robert De Niro      1943        \\N   \n",
       "135      nm0000136          Johnny Depp      1963        \\N   \n",
       "137      nm0000138    Leonardo DiCaprio      1974        \\N   \n",
       "138      nm0000139         Cameron Diaz      1972        \\N   \n",
       "143      nm0000144           Cary Elwes      1962        \\N   \n",
       "145      nm0000146        Ralph Fiennes      1962        \\N   \n",
       "151      nm0000152         Richard Gere      1949        \\N   \n",
       "154      nm0000155      Whoopi Goldberg      1955        \\N   \n",
       "160      nm0000161          Salma Hayek      1966        \\N   \n",
       "167      nm0000168    Samuel L. Jackson      1948        \\N   \n",
       "169      nm0000170       Milla Jovovich      1975        \\N   \n",
       "171      nm0000172        Harvey Keitel      1939        \\N   \n",
       "184      nm0000185       Dolph Lundgren      1957        \\N   \n",
       "190      nm0000191        Ewan McGregor      1971        \\N   \n",
       "...            ...                  ...       ...       ...   \n",
       "8948195  nm9979658           Ajmal Zayn        \\N        \\N   \n",
       "8949106  nm9980642      Sharvan Agarwal        \\N        \\N   \n",
       "8949107  nm9980643        Sanjay Surana        \\N        \\N   \n",
       "8949344  nm9980896       Rama Narayanan        \\N        \\N   \n",
       "8949725  nm9981309          Utsav Arora        \\N        \\N   \n",
       "8949726  nm9981310    Rajbir Singh Gill        \\N        \\N   \n",
       "8949727  nm9981311  Palwinder Pal Singh        \\N        \\N   \n",
       "8949728  nm9981312  Dalbir Singh Chinna        \\N        \\N   \n",
       "8949729  nm9981313        Naveen Pandhi        \\N        \\N   \n",
       "8949730  nm9981314          Lemon Stack        \\N        \\N   \n",
       "8949731  nm9981315          Rahul Mehra        \\N        \\N   \n",
       "8950568  nm9982248         Sonali Ghosh        \\N        \\N   \n",
       "8951850  nm9983650    Siddharth Dhamija        \\N        \\N   \n",
       "8952879  nm9984810            Sangeetha        \\N        \\N   \n",
       "8953159  nm9985123            Sipra Roy        \\N        \\N   \n",
       "8955164  nm9987227                Latha        \\N        \\N   \n",
       "8956286  nm9988385     Shakuntala Manik        \\N        \\N   \n",
       "8956332  nm9988435  Anjana Krishnakumar        \\N        \\N   \n",
       "8956333  nm9988436  Amudhavan Karuppiah        \\N        \\N   \n",
       "8957118  nm9989246      Rambabu Bandaru        \\N        \\N   \n",
       "8957119  nm9989247  Srinivasaa Chitturi        \\N        \\N   \n",
       "8957729  nm9989884        Guru Gopinath        \\N        \\N   \n",
       "8958450  nm9990646      Shonali Gaikwad        \\N        \\N   \n",
       "8959622  nm9992120    Aghajani Kashmeri        \\N        \\N   \n",
       "8959623  nm9992121       Faredoon Irani        \\N        \\N   \n",
       "8960451  nm9993123      Rajdeep Dhanuka        \\N        \\N   \n",
       "8960452  nm9993124        Gaia Delepine        \\N        \\N   \n",
       "8960453  nm9993125    Alejandro Bordier        \\N        \\N   \n",
       "8960454  nm9993126         Gurjot Singh        \\N        \\N   \n",
       "8960455  nm9993127       Aaryaman Kutty        \\N        \\N   \n",
       "\n",
       "                          primaryProfession  \\\n",
       "50                    actor,producer,writer   \n",
       "58                  actor,producer,director   \n",
       "91                    actor,writer,producer   \n",
       "95              actress,producer,soundtrack   \n",
       "103               actor,soundtrack,producer   \n",
       "106             actress,soundtrack,producer   \n",
       "111               actor,producer,soundtrack   \n",
       "114               actor,producer,soundtrack   \n",
       "116             actress,producer,soundtrack   \n",
       "117      soundtrack,writer,music_department   \n",
       "123                                 actress   \n",
       "124               actor,producer,soundtrack   \n",
       "126                writer,producer,director   \n",
       "127               actor,soundtrack,producer   \n",
       "129               actress,producer,director   \n",
       "130                   actor,producer,writer   \n",
       "133               actor,producer,soundtrack   \n",
       "135               actor,producer,soundtrack   \n",
       "137                   actor,producer,writer   \n",
       "138             actress,producer,soundtrack   \n",
       "143                 actor,producer,director   \n",
       "145               actor,director,soundtrack   \n",
       "151               actor,soundtrack,producer   \n",
       "154                 actress,producer,writer   \n",
       "160             actress,producer,soundtrack   \n",
       "167               actor,producer,soundtrack   \n",
       "169             actress,soundtrack,composer   \n",
       "171               actor,producer,soundtrack   \n",
       "184                 actor,producer,director   \n",
       "190                 actor,writer,soundtrack   \n",
       "...                                     ...   \n",
       "8948195                               actor   \n",
       "8949106                            producer   \n",
       "8949107                            producer   \n",
       "8949344                     director,writer   \n",
       "8949725     director,writer,cinematographer   \n",
       "8949726                               actor   \n",
       "8949727                               actor   \n",
       "8949728                               actor   \n",
       "8949729                               actor   \n",
       "8949730                            producer   \n",
       "8949731              cinematographer,editor   \n",
       "8950568                             actress   \n",
       "8951850                               actor   \n",
       "8952879                             actress   \n",
       "8953159                            producer   \n",
       "8955164                            producer   \n",
       "8956286                             actress   \n",
       "8956332                            director   \n",
       "8956333                            director   \n",
       "8957118                            producer   \n",
       "8957119                            producer   \n",
       "8957729                               actor   \n",
       "8958450                 production_designer   \n",
       "8959622                               actor   \n",
       "8959623                            producer   \n",
       "8960451              director,writer,editor   \n",
       "8960452                      actress,writer   \n",
       "8960453            assistant_director,actor   \n",
       "8960454                            composer   \n",
       "8960455   camera_department,cinematographer   \n",
       "\n",
       "                                  knownForTitles  \n",
       "50       tt0046672,tt0084855,tt0056193,tt0047522  \n",
       "58       tt0040416,tt0032976,tt0069281,tt0054331  \n",
       "91       tt0063929,tt0071853,tt0085959,tt0095159  \n",
       "95       tt0442632,tt0455590,tt2294189,tt0106179  \n",
       "103      tt0112851,tt1189073,tt0120746,tt0120657  \n",
       "106      tt0096895,tt0109890,tt0119488,tt0337921  \n",
       "111      tt0795421,tt0143145,tt0120347,tt0113189  \n",
       "114      tt0435705,tt0113627,tt0117500,tt0119094  \n",
       "116      tt0120082,tt0134084,tt1262416,tt0117571  \n",
       "117      tt0080749,tt0093777,tt0082340,tt0077651  \n",
       "123      tt0268978,tt0315983,tt0102803,tt0180093  \n",
       "124      tt0094226,tt0117500,tt0058150,tt0059800  \n",
       "126      tt0117571,tt0105121,tt0087800,tt0111686  \n",
       "127      tt0119488,tt0172495,tt0268978,tt1707386  \n",
       "129      tt0322330,tt0111503,tt0095159,tt0086465  \n",
       "130      tt0119229,tt0098258,tt0450385,tt0146882  \n",
       "133      tt0081398,tt0075314,tt0070379,tt0101540  \n",
       "135      tt0325980,tt0383574,tt0408236,tt0449088  \n",
       "137      tt0993846,tt0407887,tt1375666,tt0120338  \n",
       "138      tt0119738,tt0259711,tt0160127,tt0129387  \n",
       "143      tt0093779,tt0387564,tt0107977,tt0119468  \n",
       "145      tt0387131,tt2278388,tt0108052,tt1201607  \n",
       "151      tt0100405,tt0119395,tt0299658,tt0358135  \n",
       "154      tt0108147,tt0105417,tt0099653,tt0088939  \n",
       "160      tt1615065,tt0120679,tt0120891,tt0112851  \n",
       "167      tt0119396,tt0110912,tt0417148,tt3460252  \n",
       "169      tt1220198,tt0119116,tt0432021,tt1220634  \n",
       "171      tt2278388,tt0103759,tt0105236,tt0110912  \n",
       "184      tt0093507,tt1764651,tt0105698,tt0089927  \n",
       "190      tt2763304,tt1322269,tt0117951,tt0203009  \n",
       "...                                          ...  \n",
       "8948195                                       \\N  \n",
       "8949106                                tt7274806  \n",
       "8949107                                tt7274806  \n",
       "8949344  tt0320701,tt8715016,tt8929818,tt8919136  \n",
       "8949725                                tt8716480  \n",
       "8949726                                tt8716480  \n",
       "8949727                                tt8716480  \n",
       "8949728                                tt8716480  \n",
       "8949729                                tt8716480  \n",
       "8949730                                tt8716480  \n",
       "8949731                                tt8716480  \n",
       "8950568                                       \\N  \n",
       "8951850                                       \\N  \n",
       "8952879                                tt7466810  \n",
       "8953159                                       \\N  \n",
       "8955164                                tt7719976  \n",
       "8956286                                       \\N  \n",
       "8956332                                tt7738784  \n",
       "8956333                                tt7738784  \n",
       "8957118                                tt8733898  \n",
       "8957119                                tt8733898  \n",
       "8957729                                       \\N  \n",
       "8958450                                tt8653270  \n",
       "8959622                                tt0375980  \n",
       "8959623                                tt0388404  \n",
       "8960451  tt8742880,tt8866550,tt9089824,tt8866396  \n",
       "8960452                                tt8742880  \n",
       "8960453            tt8866550,tt8742880,tt9121640  \n",
       "8960454                                tt8742880  \n",
       "8960455            tt9089824,tt8742880,tt8866550  \n",
       "\n",
       "[75395 rows x 6 columns]"
      ]
     },
     "execution_count": 130,
     "metadata": {},
     "output_type": "execute_result"
    }
   ],
   "source": [
    "names_in"
   ]
  },
  {
   "cell_type": "code",
   "execution_count": 42,
   "metadata": {},
   "outputs": [],
   "source": [
    "del act, names, mov\n",
    "act=act_in\n",
    "names=names_in\n",
    "mov=mov_in"
   ]
  },
  {
   "cell_type": "code",
   "execution_count": 43,
   "metadata": {},
   "outputs": [],
   "source": [
    "act.to_pickle('data/person_movie.pk')\n",
    "names.to_pickle('data/person_names.pk')\n",
    "mov.to_pickle('data/movie_titles.pk')"
   ]
  },
  {
   "cell_type": "code",
   "execution_count": 102,
   "metadata": {},
   "outputs": [
    {
     "name": "stdout",
     "output_type": "stream",
     "text": [
      "<class 'str'>\n"
     ]
    }
   ],
   "source": [
    "import hashlib\n",
    "mystring = 'foo'\n",
    "hash_object = hashlib.md5(mystring.encode()).hexdigest()\n",
    "print(hash_object.hexdigest())"
   ]
  },
  {
   "cell_type": "markdown",
   "metadata": {},
   "source": [
    "# check parsed pages"
   ]
  },
  {
   "cell_type": "code",
   "execution_count": 131,
   "metadata": {},
   "outputs": [],
   "source": [
    "import os\n",
    "os.chdir('/Users/akshit.jain/repos/commoncrawl')\n",
    "articles=pd.read_pickle('output/http_www_news18_com_news_auto_/parsed_pages.pk')"
   ]
  },
  {
   "cell_type": "code",
   "execution_count": 132,
   "metadata": {},
   "outputs": [],
   "source": [
    "# articles=articles[:500]\n",
    "articles=articles[~articles.meta.apply(lambda x: x.story is None)].reset_index()\n"
   ]
  },
  {
   "cell_type": "code",
   "execution_count": 133,
   "metadata": {},
   "outputs": [
    {
     "name": "stdout",
     "output_type": "stream",
     "text": [
      "\r\n",
      "\tAuction house Artcurial Motorcars has revealed some of the collector cars set to go under the hammer at its upcoming auction, held alongside the Rétromobile classic and collector car show in Paris, Friday, February 9, 2018.   News18.com Presents Tech and Auto Awards 2017 | Vote For Your Favourite Smartphone, Car, Two-Wheeler And More! \n",
      "\r",
      "The star of next year's sale is likely to be a Ferrari 275P, chassis number #0816, owned by Pierre Bardinon, which won the Le Mans 24 hour race in 1964 with Jean Guichet and Nino Vaccarella at the wheel. This was the eighth and final win for the Ferrari team at Le Mans. Following the win, the car was sold and shipped to the USA where it continued to be driven in races for several years.  \n",
      "\n",
      "\n",
      "  \t \r\n",
      "\tWhile the full auction catalog is expected to be finalized by mid-December, a selection of models have already been revealed, including a 1939 Bugatti 57C Atalante coupé; several Porsche cars, including a 904 GTS from the collection of Jean-Claude Miloé; around 10 models from the Volante Collection, many with bodywork by Vanvooren; as well as an historic collection of Citroën DS cars with bodywork by Chapron.  News18.com Presents Tech and Auto Awards 2017 | Car of The Year: Jeep Compass or Maruti Suzuki Dzire? Vote and Win \r",
      "In 2017, Artcurial Motorcars' traditional auction at the Rétromobile trade fair totaled €35.6 million, with seven vehicles passing the one million euro mark. The previous year, a 1957 Ferrari 335 Sport Scaglietti, also from the Bardinon collection, broke a European record by selling for more than €32 million.  Also Watch: Maruti Suzuki's Senior Executive Director, RS Kalsi Asks #PehniKya?    \n",
      "\n",
      " 1964 Le MansArtcurial MotocarsFerraiFerrari 275P   \n"
     ]
    }
   ],
   "source": [
    "print(articles.iloc[5].meta.story)"
   ]
  },
  {
   "cell_type": "code",
   "execution_count": 51,
   "metadata": {
    "collapsed": true
   },
   "outputs": [
    {
     "name": "stdout",
     "output_type": "stream",
     "text": [
      "Collecting whoosh\n",
      "\u001b[?25l  Downloading https://files.pythonhosted.org/packages/ba/19/24d0f1f454a2c1eb689ca28d2f178db81e5024f42d82729a4ff6771155cf/Whoosh-2.7.4-py2.py3-none-any.whl (468kB)\n",
      "\u001b[K    100% |████████████████████████████████| 471kB 1.6MB/s ta 0:00:01\n",
      "\u001b[?25hInstalling collected packages: whoosh\n",
      "Successfully installed whoosh-2.7.4\n"
     ]
    }
   ],
   "source": [
    "! pip3 install whoosh"
   ]
  },
  {
   "cell_type": "code",
   "execution_count": 137,
   "metadata": {},
   "outputs": [],
   "source": [
    "from whoosh.fields import Schema, TEXT, KEYWORD, ID, STORED\n",
    "from whoosh.analysis import StemmingAnalyzer\n",
    "\n",
    "schema = Schema(body=TEXT(analyzer=StemmingAnalyzer(), stored=True),\n",
    "                url=ID(stored=True), id=ID(stored=True))"
   ]
  },
  {
   "cell_type": "code",
   "execution_count": 138,
   "metadata": {},
   "outputs": [],
   "source": [
    "import os, os.path\n",
    "from whoosh import index\n",
    "\n",
    "if not os.path.exists(\"indexdir\"):\n",
    "    os.mkdir(\"indexdir\")\n",
    "\n",
    "ix = index.create_in(\"indexdir\", schema)"
   ]
  },
  {
   "cell_type": "code",
   "execution_count": 139,
   "metadata": {
    "collapsed": true
   },
   "outputs": [
    {
     "name": "stdout",
     "output_type": "stream",
     "text": [
      "#0\n",
      "#100\n",
      "#200\n",
      "#300\n",
      "#400\n",
      "#500\n",
      "#600\n",
      "#700\n",
      "#800\n",
      "#900\n",
      "#1000\n",
      "#1100\n",
      "#1200\n",
      "#1300\n"
     ]
    },
    {
     "ename": "IndexingError",
     "evalue": "This writer is closed",
     "output_type": "error",
     "traceback": [
      "\u001b[0;31m---------------------------------------------------------------------------\u001b[0m",
      "\u001b[0;31mIndexingError\u001b[0m                             Traceback (most recent call last)",
      "\u001b[0;32m<ipython-input-139-e935d6f115a8>\u001b[0m in \u001b[0;36m<module>\u001b[0;34m\u001b[0m\n\u001b[1;32m     13\u001b[0m         \u001b[0mwriter\u001b[0m\u001b[0;34m.\u001b[0m\u001b[0mcommit\u001b[0m\u001b[0;34m(\u001b[0m\u001b[0;34m)\u001b[0m\u001b[0;34m\u001b[0m\u001b[0;34m\u001b[0m\u001b[0m\n\u001b[1;32m     14\u001b[0m     \u001b[0;32mfinally\u001b[0m\u001b[0;34m:\u001b[0m\u001b[0;34m\u001b[0m\u001b[0;34m\u001b[0m\u001b[0m\n\u001b[0;32m---> 15\u001b[0;31m         \u001b[0;32mpass\u001b[0m\u001b[0;34m\u001b[0m\u001b[0;34m\u001b[0m\u001b[0m\n\u001b[0m\u001b[1;32m     16\u001b[0m         \u001b[0;31m#writer.close()\u001b[0m\u001b[0;34m\u001b[0m\u001b[0;34m\u001b[0m\u001b[0;34m\u001b[0m\u001b[0m\n\u001b[1;32m     17\u001b[0m \u001b[0;34m\u001b[0m\u001b[0m\n",
      "\u001b[0;32m/usr/local/lib/python3.7/site-packages/whoosh/writing.py\u001b[0m in \u001b[0;36m__exit__\u001b[0;34m(self, exc_type, exc_val, exc_tb)\u001b[0m\n\u001b[1;32m    208\u001b[0m             \u001b[0mself\u001b[0m\u001b[0;34m.\u001b[0m\u001b[0mcancel\u001b[0m\u001b[0;34m(\u001b[0m\u001b[0;34m)\u001b[0m\u001b[0;34m\u001b[0m\u001b[0;34m\u001b[0m\u001b[0m\n\u001b[1;32m    209\u001b[0m         \u001b[0;32melse\u001b[0m\u001b[0;34m:\u001b[0m\u001b[0;34m\u001b[0m\u001b[0;34m\u001b[0m\u001b[0m\n\u001b[0;32m--> 210\u001b[0;31m             \u001b[0mself\u001b[0m\u001b[0;34m.\u001b[0m\u001b[0mcommit\u001b[0m\u001b[0;34m(\u001b[0m\u001b[0;34m)\u001b[0m\u001b[0;34m\u001b[0m\u001b[0;34m\u001b[0m\u001b[0m\n\u001b[0m\u001b[1;32m    211\u001b[0m \u001b[0;34m\u001b[0m\u001b[0m\n\u001b[1;32m    212\u001b[0m     \u001b[0;32mdef\u001b[0m \u001b[0mgroup\u001b[0m\u001b[0;34m(\u001b[0m\u001b[0mself\u001b[0m\u001b[0;34m)\u001b[0m\u001b[0;34m:\u001b[0m\u001b[0;34m\u001b[0m\u001b[0;34m\u001b[0m\u001b[0m\n",
      "\u001b[0;32m/usr/local/lib/python3.7/site-packages/whoosh/writing.py\u001b[0m in \u001b[0;36mcommit\u001b[0;34m(self, *args, **kwargs)\u001b[0m\n\u001b[1;32m   1035\u001b[0m     \u001b[0;32mdef\u001b[0m \u001b[0mcommit\u001b[0m\u001b[0;34m(\u001b[0m\u001b[0mself\u001b[0m\u001b[0;34m,\u001b[0m \u001b[0;34m*\u001b[0m\u001b[0margs\u001b[0m\u001b[0;34m,\u001b[0m \u001b[0;34m**\u001b[0m\u001b[0mkwargs\u001b[0m\u001b[0;34m)\u001b[0m\u001b[0;34m:\u001b[0m\u001b[0;34m\u001b[0m\u001b[0;34m\u001b[0m\u001b[0m\n\u001b[1;32m   1036\u001b[0m         \u001b[0;32mif\u001b[0m \u001b[0mself\u001b[0m\u001b[0;34m.\u001b[0m\u001b[0mwriter\u001b[0m\u001b[0;34m:\u001b[0m\u001b[0;34m\u001b[0m\u001b[0;34m\u001b[0m\u001b[0m\n\u001b[0;32m-> 1037\u001b[0;31m             \u001b[0mself\u001b[0m\u001b[0;34m.\u001b[0m\u001b[0mwriter\u001b[0m\u001b[0;34m.\u001b[0m\u001b[0mcommit\u001b[0m\u001b[0;34m(\u001b[0m\u001b[0;34m*\u001b[0m\u001b[0margs\u001b[0m\u001b[0;34m,\u001b[0m \u001b[0;34m**\u001b[0m\u001b[0mkwargs\u001b[0m\u001b[0;34m)\u001b[0m\u001b[0;34m\u001b[0m\u001b[0;34m\u001b[0m\u001b[0m\n\u001b[0m\u001b[1;32m   1038\u001b[0m         \u001b[0;32melse\u001b[0m\u001b[0;34m:\u001b[0m\u001b[0;34m\u001b[0m\u001b[0;34m\u001b[0m\u001b[0m\n\u001b[1;32m   1039\u001b[0m             \u001b[0mself\u001b[0m\u001b[0;34m.\u001b[0m\u001b[0mcommitargs\u001b[0m\u001b[0;34m,\u001b[0m \u001b[0mself\u001b[0m\u001b[0;34m.\u001b[0m\u001b[0mcommitkwargs\u001b[0m \u001b[0;34m=\u001b[0m \u001b[0margs\u001b[0m\u001b[0;34m,\u001b[0m \u001b[0mkwargs\u001b[0m\u001b[0;34m\u001b[0m\u001b[0;34m\u001b[0m\u001b[0m\n",
      "\u001b[0;32m/usr/local/lib/python3.7/site-packages/whoosh/writing.py\u001b[0m in \u001b[0;36mcommit\u001b[0;34m(self, mergetype, optimize, merge)\u001b[0m\n\u001b[1;32m    918\u001b[0m         \"\"\"\n\u001b[1;32m    919\u001b[0m \u001b[0;34m\u001b[0m\u001b[0m\n\u001b[0;32m--> 920\u001b[0;31m         \u001b[0mself\u001b[0m\u001b[0;34m.\u001b[0m\u001b[0m_check_state\u001b[0m\u001b[0;34m(\u001b[0m\u001b[0;34m)\u001b[0m\u001b[0;34m\u001b[0m\u001b[0;34m\u001b[0m\u001b[0m\n\u001b[0m\u001b[1;32m    921\u001b[0m         \u001b[0;31m# Merge old segments if necessary\u001b[0m\u001b[0;34m\u001b[0m\u001b[0;34m\u001b[0m\u001b[0;34m\u001b[0m\u001b[0m\n\u001b[1;32m    922\u001b[0m         \u001b[0mfinalsegments\u001b[0m \u001b[0;34m=\u001b[0m \u001b[0mself\u001b[0m\u001b[0;34m.\u001b[0m\u001b[0m_merge_segments\u001b[0m\u001b[0;34m(\u001b[0m\u001b[0mmergetype\u001b[0m\u001b[0;34m,\u001b[0m \u001b[0moptimize\u001b[0m\u001b[0;34m,\u001b[0m \u001b[0mmerge\u001b[0m\u001b[0;34m)\u001b[0m\u001b[0;34m\u001b[0m\u001b[0;34m\u001b[0m\u001b[0m\n",
      "\u001b[0;32m/usr/local/lib/python3.7/site-packages/whoosh/writing.py\u001b[0m in \u001b[0;36m_check_state\u001b[0;34m(self)\u001b[0m\n\u001b[1;32m    553\u001b[0m     \u001b[0;32mdef\u001b[0m \u001b[0m_check_state\u001b[0m\u001b[0;34m(\u001b[0m\u001b[0mself\u001b[0m\u001b[0;34m)\u001b[0m\u001b[0;34m:\u001b[0m\u001b[0;34m\u001b[0m\u001b[0;34m\u001b[0m\u001b[0m\n\u001b[1;32m    554\u001b[0m         \u001b[0;32mif\u001b[0m \u001b[0mself\u001b[0m\u001b[0;34m.\u001b[0m\u001b[0mis_closed\u001b[0m\u001b[0;34m:\u001b[0m\u001b[0;34m\u001b[0m\u001b[0;34m\u001b[0m\u001b[0m\n\u001b[0;32m--> 555\u001b[0;31m             \u001b[0;32mraise\u001b[0m \u001b[0mIndexingError\u001b[0m\u001b[0;34m(\u001b[0m\u001b[0;34m\"This writer is closed\"\u001b[0m\u001b[0;34m)\u001b[0m\u001b[0;34m\u001b[0m\u001b[0;34m\u001b[0m\u001b[0m\n\u001b[0m\u001b[1;32m    556\u001b[0m \u001b[0;34m\u001b[0m\u001b[0m\n\u001b[1;32m    557\u001b[0m     \u001b[0;32mdef\u001b[0m \u001b[0m_setup_doc_offsets\u001b[0m\u001b[0;34m(\u001b[0m\u001b[0mself\u001b[0m\u001b[0;34m)\u001b[0m\u001b[0;34m:\u001b[0m\u001b[0;34m\u001b[0m\u001b[0;34m\u001b[0m\u001b[0m\n",
      "\u001b[0;31mIndexingError\u001b[0m: This writer is closed"
     ]
    }
   ],
   "source": [
    "from whoosh import writing\n",
    "from whoosh.writing import BufferedWriter, AsyncWriter\n",
    "\n",
    "with AsyncWriter(ix) as writer:\n",
    "    try:\n",
    "        writer.mergetype = writing.CLEAR\n",
    "        def add_doc(article, id):\n",
    "            writer.add_document(body=article.story, url=article.url, id=str(id))\n",
    "        for idx, row in articles.iterrows():\n",
    "            if idx%100==0:\n",
    "                print('#{}'.format(idx))\n",
    "            add_doc(row.meta, idx)\n",
    "        writer.commit()\n",
    "    finally:\n",
    "        pass\n",
    "        #writer.close()\n",
    "        "
   ]
  },
  {
   "cell_type": "code",
   "execution_count": 90,
   "metadata": {
    "collapsed": true
   },
   "outputs": [
    {
     "name": "stdout",
     "output_type": "stream",
     "text": [
      "1 <Hit {'body': '\\r\\n\\tAs the fuel prices have reached an all-time high in India, and with no sign of respite from the BJP-led central government, people are looking for alternative options of commuting. The petrol prices in Delhi as of 23rd May, 2018 stands at Rs 77.17 and diesel at Rs 68.34 (IOCL sourced prices). Public transportation or carpooling are a couple of options to offset the increasing fuel prices, but there are a lot of people in India who have to drive their own vehicle to office, because of lack of public transportation in their respective areas.   \\rWhile electric cars are a credible option, the choices are very few. In comes the CNG (compressed natural gas) cars that run both on CNG and petrol. People living in metro cities have a big advantage of driving their cars on CNG fuel, as it is both cheap to refill, and better in mileage as compared to the diesel and petrol. However, people tend to go for an aftermarket fitment of CNG kits that might not be as safe as the company fitted CNG kits. There are a handful of CNG fitted cars to choose from and here’s the list- \\n  Tata Nano GenX. (Image: Tata Motors)  \\n\\n\\nTata Nano EMax CNG \\rStarting Price – Rs 2.96 Lakh \\n\\rThe first car on our list is the forgotten Indian wonder – the Tata Nano entry level compact hatchback. Tata Motors did one smart move by adding a company fitted CNG kit to the most affordable car in India, which, in turn, makes it the most affordable CNG cars in India. It’s available only in one variant and is called the Tata Nano EMax XM prices at Rs 2.96 Lakh.    Maruti Alto K10 Side Profile (Image: News18.com)  Maruti Suzuki Alto CNG\\rStarting Price – Rs 3.71 Lakh \\rThere are people who might not go for the Tata Nano CNG, even with its lucrative price tag. If reliability is one of your concerns for not buying a Tata Nano, look no further than the Maruti Suzuki Alto hatchback. India’s largest car manufacturer enjoys 50%+ market share because it has the right products at right price range. There are 4 CNG variants to choose from – 2 each on 800cc and K10 models. The starting price for Alto 800 CNG is Rs 3.71 Lakh, while Alto K10 CNG starts at Rs 4.14 Lakh.    Maruti Suzuki WagonR. (Photo: Maruti Suzuki)  Maruti Suzuki Wagon R CNG\\rStarting Price – Rs 4.68 Lakh \\rThe Maruti Suzuki Wagon R has been one of the most successful hatchbacks of India thanks to its generous cabin space and incredible price tag. It has constantly featured in the top 5 most sold cars in India. Maruti Suzuki, seeing its popularity, added CNG to the tall-boy hatchback. The CNG fitted Wagon R starts at Rs 4.68 Lakh.    Maruti Suzuki Celerio. (Photo Courtesy: Maruti Suzuki)  Maruti Suzuki Celerio CNG\\rStarting Price – Rs 5.14 Lakh \\rThe thing with CNG cars is that apart from 1 Tata and numerous Maruti cars, no other manufacturer is offering it for retail buyers. Both Hyundai and Mahindra have CNG products, but they are meant only for fleet owners. This is where Maruti takes the pie from other OEMs. Yet another Maruti Suzuki product to offer CNG kit is Celerio hatchback, which is offered in 2 variants at a starting price of Rs 5.14 Lakh.    Maruti Suzuki Ertiga Limited Edition. (Photo: Maruti Suzuki)  Maruti Suzuki Ertiga CNG\\rStarting Price – Rs 8.27 Lakh \\rLast on our list is yet another Maruti Suzuki product, and that too, an unexpected one. Maruti Suzuki recently added a CNG version to its popular Ertiga seven-seater MPV. However, the CNG version is available only in one variant VX and that too with only manual gearbox (although an automatic gearbox is available in petrol models). The Maruti Suzuki Ertiga VX CNG is priced at Rs 8.27 Lakh.   Also Watch:    *All Price Ex-Showroom, Delhi  \\n\\n 2018 Maruti Suzuki Alto2018 Maruti Suzuki ErtigaAffordable CNG carsCNG Cars in India   | Edited by: Arjit Garg ', 'id': '425', 'url': 'https://www.news18.com/news/auto/fuel-prices-reaches-all-time-high-heres-the-top-affordable-cng-cars-to-buy-in-india-maruti-suzuki-tata-hyundai-1757199.html'}>\n"
     ]
    }
   ],
   "source": [
    "from whoosh.qparser import QueryParser\n",
    "\n",
    "qp = QueryParser(\"body\", schema=ix.schema)\n",
    "q = qp.parse(u\"nano\")\n",
    "\n",
    "with ix.searcher() as s:\n",
    "    results = s.search(q)\n",
    "    print(len(results), results[0])"
   ]
  },
  {
   "cell_type": "markdown",
   "metadata": {},
   "source": [
    "# structured instance occ. in unstructured data"
   ]
  },
  {
   "cell_type": "code",
   "execution_count": 47,
   "metadata": {},
   "outputs": [
    {
     "data": {
      "text/html": [
       "<div>\n",
       "<style scoped>\n",
       "    .dataframe tbody tr th:only-of-type {\n",
       "        vertical-align: middle;\n",
       "    }\n",
       "\n",
       "    .dataframe tbody tr th {\n",
       "        vertical-align: top;\n",
       "    }\n",
       "\n",
       "    .dataframe thead th {\n",
       "        text-align: right;\n",
       "    }\n",
       "</style>\n",
       "<table border=\"1\" class=\"dataframe\">\n",
       "  <thead>\n",
       "    <tr style=\"text-align: right;\">\n",
       "      <th></th>\n",
       "      <th>nconst</th>\n",
       "      <th>primaryName</th>\n",
       "      <th>birthYear</th>\n",
       "      <th>deathYear</th>\n",
       "      <th>primaryProfession</th>\n",
       "      <th>knownForTitles</th>\n",
       "    </tr>\n",
       "  </thead>\n",
       "  <tbody>\n",
       "    <tr>\n",
       "      <th>820</th>\n",
       "      <td>nm0000821</td>\n",
       "      <td>Amitabh Bachchan</td>\n",
       "      <td>1942</td>\n",
       "      <td>\\N</td>\n",
       "      <td>actor,producer,writer</td>\n",
       "      <td>tt0337578,tt0375611,tt5571734,tt0248126</td>\n",
       "    </tr>\n",
       "    <tr>\n",
       "      <th>5564843</th>\n",
       "      <td>nm5928994</td>\n",
       "      <td>Junior Amitabh Bachchan</td>\n",
       "      <td>\\N</td>\n",
       "      <td>\\N</td>\n",
       "      <td>actor</td>\n",
       "      <td>tt4319640,tt0405069,tt3949164,tt6209476</td>\n",
       "    </tr>\n",
       "  </tbody>\n",
       "</table>\n",
       "</div>"
      ],
      "text/plain": [
       "            nconst              primaryName birthYear deathYear  \\\n",
       "820      nm0000821         Amitabh Bachchan      1942        \\N   \n",
       "5564843  nm5928994  Junior Amitabh Bachchan        \\N        \\N   \n",
       "\n",
       "             primaryProfession                           knownForTitles  \n",
       "820      actor,producer,writer  tt0337578,tt0375611,tt5571734,tt0248126  \n",
       "5564843                  actor  tt4319640,tt0405069,tt3949164,tt6209476  "
      ]
     },
     "execution_count": 47,
     "metadata": {},
     "output_type": "execute_result"
    }
   ],
   "source": [
    "names[names.primaryName.str.contains('Amitabh Bachchan')]"
   ]
  },
  {
   "cell_type": "code",
   "execution_count": 62,
   "metadata": {},
   "outputs": [
    {
     "data": {
      "text/html": [
       "<div>\n",
       "<style scoped>\n",
       "    .dataframe tbody tr th:only-of-type {\n",
       "        vertical-align: middle;\n",
       "    }\n",
       "\n",
       "    .dataframe tbody tr th {\n",
       "        vertical-align: top;\n",
       "    }\n",
       "\n",
       "    .dataframe thead th {\n",
       "        text-align: right;\n",
       "    }\n",
       "</style>\n",
       "<table border=\"1\" class=\"dataframe\">\n",
       "  <thead>\n",
       "    <tr style=\"text-align: right;\">\n",
       "      <th></th>\n",
       "      <th>title</th>\n",
       "      <th>primaryName</th>\n",
       "      <th>category</th>\n",
       "    </tr>\n",
       "  </thead>\n",
       "  <tbody>\n",
       "    <tr>\n",
       "      <th>0</th>\n",
       "      <td>Raja Harishchandra</td>\n",
       "      <td>D.D. Dabke</td>\n",
       "      <td>actor</td>\n",
       "    </tr>\n",
       "    <tr>\n",
       "      <th>1</th>\n",
       "      <td>King Harishchandra</td>\n",
       "      <td>D.D. Dabke</td>\n",
       "      <td>actor</td>\n",
       "    </tr>\n",
       "    <tr>\n",
       "      <th>2</th>\n",
       "      <td>Raja Harishchandra</td>\n",
       "      <td>P.G. Sane</td>\n",
       "      <td>actor</td>\n",
       "    </tr>\n",
       "    <tr>\n",
       "      <th>3</th>\n",
       "      <td>King Harishchandra</td>\n",
       "      <td>P.G. Sane</td>\n",
       "      <td>actor</td>\n",
       "    </tr>\n",
       "    <tr>\n",
       "      <th>4</th>\n",
       "      <td>Raja Harishchandra</td>\n",
       "      <td>Bhalachandra D. Phalke</td>\n",
       "      <td>actor</td>\n",
       "    </tr>\n",
       "  </tbody>\n",
       "</table>\n",
       "</div>"
      ],
      "text/plain": [
       "                title             primaryName category\n",
       "0  Raja Harishchandra              D.D. Dabke    actor\n",
       "1  King Harishchandra              D.D. Dabke    actor\n",
       "2  Raja Harishchandra               P.G. Sane    actor\n",
       "3  King Harishchandra               P.G. Sane    actor\n",
       "4  Raja Harishchandra  Bhalachandra D. Phalke    actor"
      ]
     },
     "execution_count": 62,
     "metadata": {},
     "output_type": "execute_result"
    }
   ],
   "source": [
    "act_denorm=pd.merge(act[['tconst','nconst','category']], names[['nconst','primaryName']], on='nconst',how='inner')\n",
    "mov_cast=pd.merge(act_denorm, mov[['titleId','title']], left_on='tconst', right_on='titleId',how='inner')[['title','primaryName','category']]\n",
    "mov_cast.head()"
   ]
  },
  {
   "cell_type": "code",
   "execution_count": 71,
   "metadata": {},
   "outputs": [],
   "source": [
    "mov_cast.rename(columns={'title':'movie','primaryName':'actor','category':'role'}, inplace=True)\n",
    "mov_cast.to_pickle('data/indian_movies_cast.pk')"
   ]
  },
  {
   "cell_type": "code",
   "execution_count": 72,
   "metadata": {},
   "outputs": [
    {
     "data": {
      "text/html": [
       "<div>\n",
       "<style scoped>\n",
       "    .dataframe tbody tr th:only-of-type {\n",
       "        vertical-align: middle;\n",
       "    }\n",
       "\n",
       "    .dataframe tbody tr th {\n",
       "        vertical-align: top;\n",
       "    }\n",
       "\n",
       "    .dataframe thead th {\n",
       "        text-align: right;\n",
       "    }\n",
       "</style>\n",
       "<table border=\"1\" class=\"dataframe\">\n",
       "  <thead>\n",
       "    <tr style=\"text-align: right;\">\n",
       "      <th></th>\n",
       "      <th>movie</th>\n",
       "      <th>actor</th>\n",
       "      <th>role</th>\n",
       "    </tr>\n",
       "  </thead>\n",
       "  <tbody>\n",
       "    <tr>\n",
       "      <th>0</th>\n",
       "      <td>Raja Harishchandra</td>\n",
       "      <td>D.D. Dabke</td>\n",
       "      <td>actor</td>\n",
       "    </tr>\n",
       "    <tr>\n",
       "      <th>1</th>\n",
       "      <td>King Harishchandra</td>\n",
       "      <td>D.D. Dabke</td>\n",
       "      <td>actor</td>\n",
       "    </tr>\n",
       "    <tr>\n",
       "      <th>2</th>\n",
       "      <td>Raja Harishchandra</td>\n",
       "      <td>P.G. Sane</td>\n",
       "      <td>actor</td>\n",
       "    </tr>\n",
       "    <tr>\n",
       "      <th>3</th>\n",
       "      <td>King Harishchandra</td>\n",
       "      <td>P.G. Sane</td>\n",
       "      <td>actor</td>\n",
       "    </tr>\n",
       "    <tr>\n",
       "      <th>4</th>\n",
       "      <td>Raja Harishchandra</td>\n",
       "      <td>Bhalachandra D. Phalke</td>\n",
       "      <td>actor</td>\n",
       "    </tr>\n",
       "  </tbody>\n",
       "</table>\n",
       "</div>"
      ],
      "text/plain": [
       "                movie                   actor   role\n",
       "0  Raja Harishchandra              D.D. Dabke  actor\n",
       "1  King Harishchandra              D.D. Dabke  actor\n",
       "2  Raja Harishchandra               P.G. Sane  actor\n",
       "3  King Harishchandra               P.G. Sane  actor\n",
       "4  Raja Harishchandra  Bhalachandra D. Phalke  actor"
      ]
     },
     "execution_count": 72,
     "metadata": {},
     "output_type": "execute_result"
    }
   ],
   "source": [
    "mov_cast.head()"
   ]
  },
  {
   "cell_type": "code",
   "execution_count": 74,
   "metadata": {},
   "outputs": [],
   "source": [
    "_df=mov_cast[mov_cast.actor=='Amitabh Bachchan']"
   ]
  },
  {
   "cell_type": "code",
   "execution_count": 95,
   "metadata": {},
   "outputs": [
    {
     "data": {
      "text/html": [
       "<div>\n",
       "<style scoped>\n",
       "    .dataframe tbody tr th:only-of-type {\n",
       "        vertical-align: middle;\n",
       "    }\n",
       "\n",
       "    .dataframe tbody tr th {\n",
       "        vertical-align: top;\n",
       "    }\n",
       "\n",
       "    .dataframe thead th {\n",
       "        text-align: right;\n",
       "    }\n",
       "</style>\n",
       "<table border=\"1\" class=\"dataframe\">\n",
       "  <thead>\n",
       "    <tr style=\"text-align: right;\">\n",
       "      <th></th>\n",
       "      <th>movie</th>\n",
       "      <th>actor</th>\n",
       "      <th>role</th>\n",
       "    </tr>\n",
       "  </thead>\n",
       "  <tbody>\n",
       "    <tr>\n",
       "      <th>10373</th>\n",
       "      <td>Mili</td>\n",
       "      <td>Amitabh Bachchan</td>\n",
       "      <td>actor</td>\n",
       "    </tr>\n",
       "    <tr>\n",
       "      <th>10401</th>\n",
       "      <td>Mahaan</td>\n",
       "      <td>Amitabh Bachchan</td>\n",
       "      <td>actor</td>\n",
       "    </tr>\n",
       "    <tr>\n",
       "      <th>11943</th>\n",
       "      <td>Kishore Kumar-Zindagi Ek Safar</td>\n",
       "      <td>Amitabh Bachchan</td>\n",
       "      <td>actor</td>\n",
       "    </tr>\n",
       "    <tr>\n",
       "      <th>11944</th>\n",
       "      <td>Zindagi Ek Safar</td>\n",
       "      <td>Amitabh Bachchan</td>\n",
       "      <td>actor</td>\n",
       "    </tr>\n",
       "    <tr>\n",
       "      <th>13163</th>\n",
       "      <td>Alaap</td>\n",
       "      <td>Amitabh Bachchan</td>\n",
       "      <td>actor</td>\n",
       "    </tr>\n",
       "    <tr>\n",
       "      <th>15812</th>\n",
       "      <td>Parwana</td>\n",
       "      <td>Amitabh Bachchan</td>\n",
       "      <td>actor</td>\n",
       "    </tr>\n",
       "    <tr>\n",
       "      <th>17025</th>\n",
       "      <td>Ganga Ki Saugand</td>\n",
       "      <td>Amitabh Bachchan</td>\n",
       "      <td>actor</td>\n",
       "    </tr>\n",
       "    <tr>\n",
       "      <th>19580</th>\n",
       "      <td>Paan khaye Saiyan Hamaar</td>\n",
       "      <td>Amitabh Bachchan</td>\n",
       "      <td>actor</td>\n",
       "    </tr>\n",
       "    <tr>\n",
       "      <th>22804</th>\n",
       "      <td>Saudagar</td>\n",
       "      <td>Amitabh Bachchan</td>\n",
       "      <td>actor</td>\n",
       "    </tr>\n",
       "    <tr>\n",
       "      <th>22961</th>\n",
       "      <td>Mysterious Manoeuvre</td>\n",
       "      <td>Amitabh Bachchan</td>\n",
       "      <td>actor</td>\n",
       "    </tr>\n",
       "    <tr>\n",
       "      <th>23923</th>\n",
       "      <td>Soorma Bhopali</td>\n",
       "      <td>Amitabh Bachchan</td>\n",
       "      <td>actor</td>\n",
       "    </tr>\n",
       "    <tr>\n",
       "      <th>25321</th>\n",
       "      <td>Bombay to Goa</td>\n",
       "      <td>Amitabh Bachchan</td>\n",
       "      <td>actor</td>\n",
       "    </tr>\n",
       "    <tr>\n",
       "      <th>26918</th>\n",
       "      <td>Sholay</td>\n",
       "      <td>Amitabh Bachchan</td>\n",
       "      <td>actor</td>\n",
       "    </tr>\n",
       "    <tr>\n",
       "      <th>30262</th>\n",
       "      <td>Aadalat</td>\n",
       "      <td>Amitabh Bachchan</td>\n",
       "      <td>actor</td>\n",
       "    </tr>\n",
       "    <tr>\n",
       "      <th>33429</th>\n",
       "      <td>Zanjeer</td>\n",
       "      <td>Amitabh Bachchan</td>\n",
       "      <td>actor</td>\n",
       "    </tr>\n",
       "    <tr>\n",
       "      <th>33447</th>\n",
       "      <td>Namak Halaal</td>\n",
       "      <td>Amitabh Bachchan</td>\n",
       "      <td>actor</td>\n",
       "    </tr>\n",
       "    <tr>\n",
       "      <th>34500</th>\n",
       "      <td>Sanjog</td>\n",
       "      <td>Amitabh Bachchan</td>\n",
       "      <td>actor</td>\n",
       "    </tr>\n",
       "    <tr>\n",
       "      <th>34505</th>\n",
       "      <td>Benaam</td>\n",
       "      <td>Amitabh Bachchan</td>\n",
       "      <td>actor</td>\n",
       "    </tr>\n",
       "    <tr>\n",
       "      <th>34518</th>\n",
       "      <td>Zameer</td>\n",
       "      <td>Amitabh Bachchan</td>\n",
       "      <td>actor</td>\n",
       "    </tr>\n",
       "    <tr>\n",
       "      <th>36541</th>\n",
       "      <td>Kaalia</td>\n",
       "      <td>Amitabh Bachchan</td>\n",
       "      <td>actor</td>\n",
       "    </tr>\n",
       "    <tr>\n",
       "      <th>36563</th>\n",
       "      <td>Mard</td>\n",
       "      <td>Amitabh Bachchan</td>\n",
       "      <td>actor</td>\n",
       "    </tr>\n",
       "    <tr>\n",
       "      <th>36571</th>\n",
       "      <td>Shahenshah</td>\n",
       "      <td>Amitabh Bachchan</td>\n",
       "      <td>actor</td>\n",
       "    </tr>\n",
       "    <tr>\n",
       "      <th>38221</th>\n",
       "      <td>Shakti</td>\n",
       "      <td>Amitabh Bachchan</td>\n",
       "      <td>actor</td>\n",
       "    </tr>\n",
       "    <tr>\n",
       "      <th>40613</th>\n",
       "      <td>Bandhe Haath</td>\n",
       "      <td>Amitabh Bachchan</td>\n",
       "      <td>actor</td>\n",
       "    </tr>\n",
       "    <tr>\n",
       "      <th>42408</th>\n",
       "      <td>Bollywood: The Greatest Love Story Ever Told</td>\n",
       "      <td>Amitabh Bachchan</td>\n",
       "      <td>self</td>\n",
       "    </tr>\n",
       "    <tr>\n",
       "      <th>42990</th>\n",
       "      <td>Walayati Babu</td>\n",
       "      <td>Amitabh Bachchan</td>\n",
       "      <td>actor</td>\n",
       "    </tr>\n",
       "    <tr>\n",
       "      <th>45721</th>\n",
       "      <td>Kasauti</td>\n",
       "      <td>Amitabh Bachchan</td>\n",
       "      <td>actor</td>\n",
       "    </tr>\n",
       "    <tr>\n",
       "      <th>45734</th>\n",
       "      <td>Majboor</td>\n",
       "      <td>Amitabh Bachchan</td>\n",
       "      <td>actor</td>\n",
       "    </tr>\n",
       "    <tr>\n",
       "      <th>45735</th>\n",
       "      <td>Compulsed</td>\n",
       "      <td>Amitabh Bachchan</td>\n",
       "      <td>actor</td>\n",
       "    </tr>\n",
       "    <tr>\n",
       "      <th>45749</th>\n",
       "      <td>Don</td>\n",
       "      <td>Amitabh Bachchan</td>\n",
       "      <td>actor</td>\n",
       "    </tr>\n",
       "    <tr>\n",
       "      <th>...</th>\n",
       "      <td>...</td>\n",
       "      <td>...</td>\n",
       "      <td>...</td>\n",
       "    </tr>\n",
       "    <tr>\n",
       "      <th>103075</th>\n",
       "      <td>Episode #1.12</td>\n",
       "      <td>Amitabh Bachchan</td>\n",
       "      <td>actor</td>\n",
       "    </tr>\n",
       "    <tr>\n",
       "      <th>103084</th>\n",
       "      <td>Episode #1.13</td>\n",
       "      <td>Amitabh Bachchan</td>\n",
       "      <td>actor</td>\n",
       "    </tr>\n",
       "    <tr>\n",
       "      <th>103092</th>\n",
       "      <td>Episode #1.14</td>\n",
       "      <td>Amitabh Bachchan</td>\n",
       "      <td>actor</td>\n",
       "    </tr>\n",
       "    <tr>\n",
       "      <th>103100</th>\n",
       "      <td>Episode #1.15</td>\n",
       "      <td>Amitabh Bachchan</td>\n",
       "      <td>actor</td>\n",
       "    </tr>\n",
       "    <tr>\n",
       "      <th>103109</th>\n",
       "      <td>Episode #1.16</td>\n",
       "      <td>Amitabh Bachchan</td>\n",
       "      <td>actor</td>\n",
       "    </tr>\n",
       "    <tr>\n",
       "      <th>103117</th>\n",
       "      <td>Episode #1.17</td>\n",
       "      <td>Amitabh Bachchan</td>\n",
       "      <td>actor</td>\n",
       "    </tr>\n",
       "    <tr>\n",
       "      <th>103126</th>\n",
       "      <td>Episode #1.18</td>\n",
       "      <td>Amitabh Bachchan</td>\n",
       "      <td>actor</td>\n",
       "    </tr>\n",
       "    <tr>\n",
       "      <th>103135</th>\n",
       "      <td>Episode #1.19</td>\n",
       "      <td>Amitabh Bachchan</td>\n",
       "      <td>actor</td>\n",
       "    </tr>\n",
       "    <tr>\n",
       "      <th>103145</th>\n",
       "      <td>Episode #1.20</td>\n",
       "      <td>Amitabh Bachchan</td>\n",
       "      <td>actor</td>\n",
       "    </tr>\n",
       "    <tr>\n",
       "      <th>103155</th>\n",
       "      <td>Making of Bhoothnath Returns</td>\n",
       "      <td>Amitabh Bachchan</td>\n",
       "      <td>self</td>\n",
       "    </tr>\n",
       "    <tr>\n",
       "      <th>103165</th>\n",
       "      <td>Te3n</td>\n",
       "      <td>Amitabh Bachchan</td>\n",
       "      <td>actor</td>\n",
       "    </tr>\n",
       "    <tr>\n",
       "      <th>103175</th>\n",
       "      <td>Eer Bir Phatte</td>\n",
       "      <td>Amitabh Bachchan</td>\n",
       "      <td>actor</td>\n",
       "    </tr>\n",
       "    <tr>\n",
       "      <th>103178</th>\n",
       "      <td>Kabhi Kabhi</td>\n",
       "      <td>Amitabh Bachchan</td>\n",
       "      <td>actor</td>\n",
       "    </tr>\n",
       "    <tr>\n",
       "      <th>103181</th>\n",
       "      <td>Khabardar</td>\n",
       "      <td>Amitabh Bachchan</td>\n",
       "      <td>actor</td>\n",
       "    </tr>\n",
       "    <tr>\n",
       "      <th>103187</th>\n",
       "      <td>Kabhi Nahi</td>\n",
       "      <td>Amitabh Bachchan</td>\n",
       "      <td>actor</td>\n",
       "    </tr>\n",
       "    <tr>\n",
       "      <th>103189</th>\n",
       "      <td>Aa Ae O</td>\n",
       "      <td>Amitabh Bachchan</td>\n",
       "      <td>actor</td>\n",
       "    </tr>\n",
       "    <tr>\n",
       "      <th>103194</th>\n",
       "      <td>Oye Bubbly</td>\n",
       "      <td>Amitabh Bachchan</td>\n",
       "      <td>actor</td>\n",
       "    </tr>\n",
       "    <tr>\n",
       "      <th>103204</th>\n",
       "      <td>Astra Force</td>\n",
       "      <td>Amitabh Bachchan</td>\n",
       "      <td>actor</td>\n",
       "    </tr>\n",
       "    <tr>\n",
       "      <th>103206</th>\n",
       "      <td>Pink</td>\n",
       "      <td>Amitabh Bachchan</td>\n",
       "      <td>actor</td>\n",
       "    </tr>\n",
       "    <tr>\n",
       "      <th>103216</th>\n",
       "      <td>Dabba Gul</td>\n",
       "      <td>Amitabh Bachchan</td>\n",
       "      <td>actor</td>\n",
       "    </tr>\n",
       "    <tr>\n",
       "      <th>103221</th>\n",
       "      <td>Sarkar 3</td>\n",
       "      <td>Amitabh Bachchan</td>\n",
       "      <td>actor</td>\n",
       "    </tr>\n",
       "    <tr>\n",
       "      <th>103231</th>\n",
       "      <td>Begum Jaan</td>\n",
       "      <td>Amitabh Bachchan</td>\n",
       "      <td>actor</td>\n",
       "    </tr>\n",
       "    <tr>\n",
       "      <th>103241</th>\n",
       "      <td>Aankhen 2</td>\n",
       "      <td>Amitabh Bachchan</td>\n",
       "      <td>actor</td>\n",
       "    </tr>\n",
       "    <tr>\n",
       "      <th>103251</th>\n",
       "      <td>Veergatha</td>\n",
       "      <td>Amitabh Bachchan</td>\n",
       "      <td>actor</td>\n",
       "    </tr>\n",
       "    <tr>\n",
       "      <th>103256</th>\n",
       "      <td>Wah Taj</td>\n",
       "      <td>Amitabh Bachchan</td>\n",
       "      <td>actor</td>\n",
       "    </tr>\n",
       "    <tr>\n",
       "      <th>103266</th>\n",
       "      <td>Thugs of Hindostan</td>\n",
       "      <td>Amitabh Bachchan</td>\n",
       "      <td>actor</td>\n",
       "    </tr>\n",
       "    <tr>\n",
       "      <th>103276</th>\n",
       "      <td>Women Prayed and Preyed Upon-documentary2013</td>\n",
       "      <td>Amitabh Bachchan</td>\n",
       "      <td>actor</td>\n",
       "    </tr>\n",
       "    <tr>\n",
       "      <th>103281</th>\n",
       "      <td>Brahmastra</td>\n",
       "      <td>Amitabh Bachchan</td>\n",
       "      <td>actor</td>\n",
       "    </tr>\n",
       "    <tr>\n",
       "      <th>103291</th>\n",
       "      <td>Sye Raa Narasimha Reddy</td>\n",
       "      <td>Amitabh Bachchan</td>\n",
       "      <td>actor</td>\n",
       "    </tr>\n",
       "    <tr>\n",
       "      <th>103301</th>\n",
       "      <td>Star Verdict</td>\n",
       "      <td>Amitabh Bachchan</td>\n",
       "      <td>self</td>\n",
       "    </tr>\n",
       "  </tbody>\n",
       "</table>\n",
       "<p>254 rows × 3 columns</p>\n",
       "</div>"
      ],
      "text/plain": [
       "                                               movie             actor   role\n",
       "10373                                           Mili  Amitabh Bachchan  actor\n",
       "10401                                         Mahaan  Amitabh Bachchan  actor\n",
       "11943                 Kishore Kumar-Zindagi Ek Safar  Amitabh Bachchan  actor\n",
       "11944                               Zindagi Ek Safar  Amitabh Bachchan  actor\n",
       "13163                                          Alaap  Amitabh Bachchan  actor\n",
       "15812                                        Parwana  Amitabh Bachchan  actor\n",
       "17025                               Ganga Ki Saugand  Amitabh Bachchan  actor\n",
       "19580                       Paan khaye Saiyan Hamaar  Amitabh Bachchan  actor\n",
       "22804                                       Saudagar  Amitabh Bachchan  actor\n",
       "22961                           Mysterious Manoeuvre  Amitabh Bachchan  actor\n",
       "23923                                 Soorma Bhopali  Amitabh Bachchan  actor\n",
       "25321                                  Bombay to Goa  Amitabh Bachchan  actor\n",
       "26918                                         Sholay  Amitabh Bachchan  actor\n",
       "30262                                        Aadalat  Amitabh Bachchan  actor\n",
       "33429                                        Zanjeer  Amitabh Bachchan  actor\n",
       "33447                                   Namak Halaal  Amitabh Bachchan  actor\n",
       "34500                                         Sanjog  Amitabh Bachchan  actor\n",
       "34505                                         Benaam  Amitabh Bachchan  actor\n",
       "34518                                         Zameer  Amitabh Bachchan  actor\n",
       "36541                                         Kaalia  Amitabh Bachchan  actor\n",
       "36563                                           Mard  Amitabh Bachchan  actor\n",
       "36571                                     Shahenshah  Amitabh Bachchan  actor\n",
       "38221                                         Shakti  Amitabh Bachchan  actor\n",
       "40613                                   Bandhe Haath  Amitabh Bachchan  actor\n",
       "42408   Bollywood: The Greatest Love Story Ever Told  Amitabh Bachchan   self\n",
       "42990                                  Walayati Babu  Amitabh Bachchan  actor\n",
       "45721                                        Kasauti  Amitabh Bachchan  actor\n",
       "45734                                        Majboor  Amitabh Bachchan  actor\n",
       "45735                                      Compulsed  Amitabh Bachchan  actor\n",
       "45749                                            Don  Amitabh Bachchan  actor\n",
       "...                                              ...               ...    ...\n",
       "103075                                 Episode #1.12  Amitabh Bachchan  actor\n",
       "103084                                 Episode #1.13  Amitabh Bachchan  actor\n",
       "103092                                 Episode #1.14  Amitabh Bachchan  actor\n",
       "103100                                 Episode #1.15  Amitabh Bachchan  actor\n",
       "103109                                 Episode #1.16  Amitabh Bachchan  actor\n",
       "103117                                 Episode #1.17  Amitabh Bachchan  actor\n",
       "103126                                 Episode #1.18  Amitabh Bachchan  actor\n",
       "103135                                 Episode #1.19  Amitabh Bachchan  actor\n",
       "103145                                 Episode #1.20  Amitabh Bachchan  actor\n",
       "103155                  Making of Bhoothnath Returns  Amitabh Bachchan   self\n",
       "103165                                          Te3n  Amitabh Bachchan  actor\n",
       "103175                                Eer Bir Phatte  Amitabh Bachchan  actor\n",
       "103178                                   Kabhi Kabhi  Amitabh Bachchan  actor\n",
       "103181                                     Khabardar  Amitabh Bachchan  actor\n",
       "103187                                    Kabhi Nahi  Amitabh Bachchan  actor\n",
       "103189                                       Aa Ae O  Amitabh Bachchan  actor\n",
       "103194                                    Oye Bubbly  Amitabh Bachchan  actor\n",
       "103204                                   Astra Force  Amitabh Bachchan  actor\n",
       "103206                                          Pink  Amitabh Bachchan  actor\n",
       "103216                                     Dabba Gul  Amitabh Bachchan  actor\n",
       "103221                                      Sarkar 3  Amitabh Bachchan  actor\n",
       "103231                                    Begum Jaan  Amitabh Bachchan  actor\n",
       "103241                                     Aankhen 2  Amitabh Bachchan  actor\n",
       "103251                                     Veergatha  Amitabh Bachchan  actor\n",
       "103256                                       Wah Taj  Amitabh Bachchan  actor\n",
       "103266                            Thugs of Hindostan  Amitabh Bachchan  actor\n",
       "103276  Women Prayed and Preyed Upon-documentary2013  Amitabh Bachchan  actor\n",
       "103281                                    Brahmastra  Amitabh Bachchan  actor\n",
       "103291                       Sye Raa Narasimha Reddy  Amitabh Bachchan  actor\n",
       "103301                                  Star Verdict  Amitabh Bachchan   self\n",
       "\n",
       "[254 rows x 3 columns]"
      ]
     },
     "execution_count": 95,
     "metadata": {},
     "output_type": "execute_result"
    }
   ],
   "source": [
    "_df"
   ]
  },
  {
   "cell_type": "code",
   "execution_count": 142,
   "metadata": {},
   "outputs": [],
   "source": [
    "models=\"\"\"KTM 125 Duke\n",
    "Jawa\n",
    "Yamaha YZF R15 V3\n",
    "Honda Activa 5G\n",
    "Royal Enfield Classic 350\n",
    "KTM 200 Duke\n",
    "Bajaj Pulsar 150\n",
    "TVS Apache RTR 160\n",
    "Royal Enfield Bullet 350\n",
    "Hero Splendor Plus\n",
    "Bajaj Pulsar 220 F\n",
    "TVS Apache RTR 160 4V\n",
    "Honda CB Shine\n",
    "Bajaj Pulsar NS200\n",
    "TVS Apache RTR 200 4V Race Edition 2.0\n",
    "Yamaha FZ S FI (V 2.0)\n",
    "Bajaj Pulsar RS200\n",
    "Honda Dio\n",
    "Honda CB Hornet 160R\n",
    "KTM 390 Duke\n",
    "Hero Destini 125\n",
    "TVS Jupiter\n",
    "Hero HF Deluxe\n",
    "TVS Apache RR 310\n",
    "Hero Super Splendor\n",
    "KTM RC 200\n",
    "Honda CB Unicorn 150\n",
    "Royal Enfield Interceptor 650\n",
    "Bajaj Dominar 400\n",
    "Honda CBR250R\n",
    "Honda Activa 125\n",
    "Suzuki Intruder\n",
    "KTM RC 390\n",
    "TVS Apache RTR 180\n",
    "Hero Passion Pro\n",
    "Suzuki Access 125\n",
    "Honda CB Shine SP\n",
    "Honda Grazia\n",
    "Suzuki Burgman Street\n",
    "Bajaj Pulsar NS160\n",
    "\"\"\"\n",
    "models=models.split('\\n')"
   ]
  },
  {
   "cell_type": "code",
   "execution_count": 173,
   "metadata": {},
   "outputs": [
    {
     "name": "stdout",
     "output_type": "stream",
     "text": [
      "Royal Enfield Interceptor 650\n",
      "10\n"
     ]
    },
    {
     "data": {
      "text/html": [
       "Since the <b class=\"match term0\">Royal</b> <b class=\"match term1\">Enfield</b> <b class=\"match term2\">650</b> twins were unveiled...note that most of <b class=\"match term0\">Royal</b> <b class=\"match term1\">Enfield</b> have. The <b class=\"match term0\">Royal</b> <b class=\"match term1\">Enfield</b> <b class=\"match term3\">Interceptor</b> <b class=\"match term2\">650</b> and Continental GT <b class=\"match term2\">650</b> has already reached...first modern <b class=\"match term0\">Royal</b> <b class=\"match term1\">Enfield</b> <b class=\"match term2\">650</b> twin engine. This new...Also new to the <b class=\"match term0\">Royal</b> <b class=\"match term1\">Enfield</b> <b class=\"match term3\">Interceptor</b> <b class=\"match term2\">650</b>, is the six-speed gearbox...months.  \n",
       "\n",
       " 2018 <b class=\"match term4\">royal</b> <b class=\"match term0\">enfield</b> <b class=\"match term1\">interceptor</b> 650interceptorinterceptor"
      ],
      "text/plain": [
       "<IPython.core.display.HTML object>"
      ]
     },
     "metadata": {},
     "output_type": "display_data"
    },
    {
     "data": {
      "text/html": [
       "motorcycle based on <b class=\"match term0\">Royal</b> <b class=\"match term1\">Enfield</b> Classic 500 to reach...<b class=\"match term0\">Royal</b> <b class=\"match term1\">Enfield</b> Scrambler also...This year <b class=\"match term0\">Royal</b> <b class=\"match term1\">Enfield</b> already has the...by the first modern <b class=\"match term0\">Royal</b> <b class=\"match term1\">Enfield</b> <b class=\"match term2\">650</b> twin engine. This new...Also new to the <b class=\"match term0\">Royal</b> <b class=\"match term1\">Enfield</b> <b class=\"match term3\">Interceptor</b> <b class=\"match term2\">650</b>, is the six-speed gearbox"
      ],
      "text/plain": [
       "<IPython.core.display.HTML object>"
      ]
     },
     "metadata": {},
     "output_type": "display_data"
    },
    {
     "data": {
      "text/html": [
       "The <b class=\"match term0\">Royal</b> <b class=\"match term1\">Enfield</b> <b class=\"match term3\">Interceptor</b> <b class=\"match term2\">650</b> and the Continental...of that, both the <b class=\"match term0\">Royal</b> <b class=\"match term1\">Enfield</b> <b class=\"match term3\">Interceptor</b> <b class=\"match term2\">650</b> and the Continental...calm and composed.   <b class=\"match term0\">Royal</b> <b class=\"match term1\">Enfield</b> <b class=\"match term3\">Interceptor</b> <b class=\"match term2\">650</b>. (Image: Manav Sinha/ News18.com...built for the <b class=\"match term0\">Royal</b> <b class=\"match term1\">Enfield</b> Twins by Pirelli...<b class=\"match term1\">Enfield</b> Continental GT 650royal <b class=\"match term0\">enfield</b> <b class=\"match term1\">interceptor</b>   | Edited by: Arjit"
      ],
      "text/plain": [
       "<IPython.core.display.HTML object>"
      ]
     },
     "metadata": {},
     "output_type": "display_data"
    },
    {
     "data": {
      "text/html": [
       "The <b class=\"match term0\">Royal</b> <b class=\"match term1\">Enfield</b> <b class=\"match term3\">Interceptor</b> <b class=\"match term2\">650</b> and the Continental...of that, both the <b class=\"match term0\">Royal</b> <b class=\"match term1\">Enfield</b> <b class=\"match term3\">Interceptor</b> <b class=\"match term2\">650</b> and the Continental...you have known about <b class=\"match term0\">Royal</b> <b class=\"match term1\">Enfield</b> engines until now...calm and composed.   <b class=\"match term0\">Royal</b> <b class=\"match term1\">Enfield</b> <b class=\"match term3\">Interceptor</b> <b class=\"match term2\">650</b>. (Image: Manav Sinha/ News18.com...<b class=\"match term1\">Enfield</b> Continental GT 650royal <b class=\"match term0\">enfield</b> <b class=\"match term1\">interceptor</b>   | Edited by: Arjit"
      ],
      "text/plain": [
       "<IPython.core.display.HTML object>"
      ]
     },
     "metadata": {},
     "output_type": "display_data"
    },
    {
     "data": {
      "text/html": [
       "The <b class=\"match term0\">Royal</b> <b class=\"match term1\">Enfield</b> <b class=\"match term3\">Interceptor</b> <b class=\"match term2\">650</b> and the Continental...of that, both the <b class=\"match term0\">Royal</b> <b class=\"match term1\">Enfield</b> <b class=\"match term3\">Interceptor</b> <b class=\"match term2\">650</b> and the Continental...and it comes with <b class=\"match term0\">Royal</b> <b class=\"match term1\">Enfield</b>’s first-ever 6-speed...calm and composed.   <b class=\"match term0\">Royal</b> <b class=\"match term1\">Enfield</b> <b class=\"match term3\">Interceptor</b> <b class=\"match term2\">650</b>. (Image: Manav Sinha/ News18.com...<b class=\"match term1\">Enfield</b> Continental GT 650royal <b class=\"match term0\">enfield</b> <b class=\"match term1\">interceptor</b>   | Edited by: Arjit"
      ],
      "text/plain": [
       "<IPython.core.display.HTML object>"
      ]
     },
     "metadata": {},
     "output_type": "display_data"
    },
    {
     "data": {
      "text/html": [
       "The <b class=\"match term0\">Royal</b> <b class=\"match term1\">Enfield</b> <b class=\"match term3\">Interceptor</b> <b class=\"match term2\">650</b> and the Continental...of that, both the <b class=\"match term0\">Royal</b> <b class=\"match term1\">Enfield</b> <b class=\"match term3\">Interceptor</b> <b class=\"match term2\">650</b> and the Continental...and it comes with <b class=\"match term0\">Royal</b> <b class=\"match term1\">Enfield</b>’s first-ever 6-speed...calm and composed.   <b class=\"match term0\">Royal</b> <b class=\"match term1\">Enfield</b> <b class=\"match term3\">Interceptor</b> <b class=\"match term2\">650</b>. (Image: Manav Sinha/ News18.com...<b class=\"match term1\">Enfield</b> Continental GT 650royal <b class=\"match term0\">enfield</b> <b class=\"match term1\">interceptor</b>   | Edited by: Arjit"
      ],
      "text/plain": [
       "<IPython.core.display.HTML object>"
      ]
     },
     "metadata": {},
     "output_type": "display_data"
    },
    {
     "data": {
      "text/html": [
       "The <b class=\"match term0\">Royal</b> <b class=\"match term1\">Enfield</b> <b class=\"match term3\">Interceptor</b> <b class=\"match term2\">650</b> and the Continental...of that, both the <b class=\"match term0\">Royal</b> <b class=\"match term1\">Enfield</b> <b class=\"match term3\">Interceptor</b> <b class=\"match term2\">650</b> and the Continental...calm and composed.   <b class=\"match term0\">Royal</b> <b class=\"match term1\">Enfield</b> <b class=\"match term3\">Interceptor</b> <b class=\"match term2\">650</b>. (Image: Manav Sinha/ News18.com...built for the <b class=\"match term0\">Royal</b> <b class=\"match term1\">Enfield</b> Twins by Pirelli...<b class=\"match term1\">Enfield</b> Continental GT 650royal <b class=\"match term0\">enfield</b> <b class=\"match term1\">interceptor</b>   | Edited by: Arjit"
      ],
      "text/plain": [
       "<IPython.core.display.HTML object>"
      ]
     },
     "metadata": {},
     "output_type": "display_data"
    },
    {
     "data": {
      "text/html": [
       "The <b class=\"match term0\">Royal</b> <b class=\"match term1\">Enfield</b> <b class=\"match term3\">Interceptor</b> <b class=\"match term2\">650</b> and the Continental...of that, both the <b class=\"match term0\">Royal</b> <b class=\"match term1\">Enfield</b> <b class=\"match term3\">Interceptor</b> <b class=\"match term2\">650</b> and the Continental...the heart of the new <b class=\"match term0\">Royal</b> <b class=\"match term1\">Enfield</b> Twins – and that is...calm and composed.   <b class=\"match term0\">Royal</b> <b class=\"match term1\">Enfield</b> <b class=\"match term3\">Interceptor</b> <b class=\"match term2\">650</b>. (Image: Manav Sinha/ News18.com...<b class=\"match term1\">Enfield</b> Continental GT 650royal <b class=\"match term0\">enfield</b> <b class=\"match term1\">interceptor</b>   | Edited by: Arjit"
      ],
      "text/plain": [
       "<IPython.core.display.HTML object>"
      ]
     },
     "metadata": {},
     "output_type": "display_data"
    },
    {
     "data": {
      "text/html": [
       "The <b class=\"match term0\">Royal</b> <b class=\"match term1\">Enfield</b> <b class=\"match term3\">Interceptor</b> <b class=\"match term2\">650</b> and the Continental...of that, both the <b class=\"match term0\">Royal</b> <b class=\"match term1\">Enfield</b> <b class=\"match term3\">Interceptor</b> <b class=\"match term2\">650</b> and the Continental...calm and composed.   <b class=\"match term0\">Royal</b> <b class=\"match term1\">Enfield</b> <b class=\"match term3\">Interceptor</b> <b class=\"match term2\">650</b>. (Image: Manav Sinha/ News18.com...built for the <b class=\"match term0\">Royal</b> <b class=\"match term1\">Enfield</b> Twins by Pirelli...<b class=\"match term1\">Enfield</b> Continental GT 650royal <b class=\"match term0\">enfield</b> <b class=\"match term1\">interceptor</b>   | Edited by: Arjit"
      ],
      "text/plain": [
       "<IPython.core.display.HTML object>"
      ]
     },
     "metadata": {},
     "output_type": "display_data"
    },
    {
     "data": {
      "text/html": [
       "<b class=\"match term0\">Royal</b> <b class=\"match term1\">Enfield</b> announced its entry...spares and service.  \r",
       "<b class=\"match term0\">Royal</b> <b class=\"match term1\">Enfield</b> has appointed Grupo...to have an exclusive <b class=\"match term0\">Royal</b> <b class=\"match term1\">Enfield</b> store. \n",
       "  <b class=\"match term0\">Royal</b> <b class=\"match term1\">Enfield</b> <b class=\"match term3\">Interceptor</b> <b class=\"match term2\">650</b> and Continental <b class=\"match term2\">650</b> at Rider Mania 2017. (Image...<b class=\"match term0\">Royal</b> <b class=\"match term1\">Enfield</b>)  \n",
       "\n",
       " \r\n",
       " Speaking on <b class=\"match term0\">Royal</b> <b class=\"match term1\">Enfield</b>’s entry into Argentina...Watch:    \n",
       "\n",
       " 2018 <b class=\"match term4\">royal</b> <b class=\"match term0\">enfield</b> <b class=\"match term1\">interceptor</b> 650Buenos"
      ],
      "text/plain": [
       "<IPython.core.display.HTML object>"
      ]
     },
     "metadata": {},
     "output_type": "display_data"
    }
   ],
   "source": [
    "from whoosh.qparser import QueryParser\n",
    "from whoosh.query import Phrase, And,Term\n",
    "\n",
    "qp = QueryParser(\"body\", schema=ix.schema)\n",
    "# q = qp.parse(u'\"Amitabh Bachchan\" AND \"thugs of hindostan\"')\n",
    "# i=5\n",
    "i+=1\n",
    "model=models[i]\n",
    "print(model)\n",
    "q = qp.parse(u'\"{}\"'.format(model))\n",
    "# q = And([Phrase('body', u\"Amitabh Bachchan\"), Phrase('body', u\"Big B\")])#Term('body',\"Sholay\")\n",
    "# q = Phrase('body', '\"dominar\"')# u\"amitabh bachchan\")\n",
    "# q = Term('body',\"dominar\")\n",
    "s=ix.searcher()\n",
    "hits = s.search(q)\n",
    "print(len(hits))\n",
    "from IPython.core.display import display, HTML\n",
    "for hit in hits:\n",
    "    display(HTML(hit.highlights('body',top=5,)))"
   ]
  },
  {
   "cell_type": "code",
   "execution_count": 97,
   "metadata": {},
   "outputs": [
    {
     "data": {
      "text/plain": [
       "<Hit {'body': '\\r\\n\\tBajaj Auto has silently hiked prices of its flagship motorcycle the 2018 Dominar 400 by Rs 2,000 for both the variants. Launched few months at a starting price of Rs 1.42 lakh (ex-showroom), the non-ABS version now costs Rs 1.44 lakh (ex-showroom) and the variant with dual-channel ABS is priced at Rs 1.56 lakh (ex-showroom).  \\rThe 2018 Bajaj Dominar 400 gets new exterior colours including Rock Matte Black, Glacier Blue and Canyon Red shade along with already existing Midnight Blue, Twilight Plum, Moon White and Matt Black colors. Along with the new exterior colours the bike also gets new golden alloy wheels. \\n\\rThe Dominar 400 is powered by a 373cc triple spark four valves DTS-i engine with fuel injection and liquid cooling which produces 35PS of power and 35Nm of torque. The 373.2cc DTS-i engine delivers linear performance through its smooth six-speed transmission and slipper clutch.  \\n\\n \\r\\n The motorcycle has a large 43mm telescopic front fork with a dual spring mono suspension. The twin channel ABS empowered 320mm front disc and 230mm rear disc ensures good braking capabilities. Dominar 400 is the only motorcycle in India to have a full LED mosaic headlamp with balanced white light and vertical AHO (Automatic Headlights On).  \\t \\r\\n\\tIn the Indian market, Bajaj Dominar 400 competes against the likes of Mahindra Mojo and Royal Enfield Himalayan.  Also Watch: Harley Davidson Flat Track Experience With Marco Belli | Interview    \\n\\n 2018 Bajaj Dominar 400BajajBajaj AutoBajaj Dominar   | Edited by: Ayushmann Chawla ', 'id': '20', 'url': 'https://www.news18.com/news/auto/2018-bajaj-dominar-400-prices-hiked-by-rs-2000-1706711.html'}>"
      ]
     },
     "execution_count": 97,
     "metadata": {},
     "output_type": "execute_result"
    }
   ],
   "source": [
    "hits[0]"
   ]
  },
  {
   "cell_type": "code",
   "execution_count": 76,
   "metadata": {},
   "outputs": [
    {
     "data": {
      "text/plain": [
       "ParseResult(scheme='https', netloc='news18.com', path='/news/auto/aston-martin-reveals-sports-car-for-the-skies-at-farnborough-airshow-1817055.html', params='', query='', fragment='')"
      ]
     },
     "execution_count": 76,
     "metadata": {},
     "output_type": "execute_result"
    }
   ],
   "source": [
    "from urllib.parse import urlparse\n",
    "urlparse('https://news18.com/news/auto/aston-martin-reveals-sports-car-for-the-skies-at-farnborough-airshow-1817055.html')"
   ]
  },
  {
   "cell_type": "code",
   "execution_count": 71,
   "metadata": {},
   "outputs": [
    {
     "data": {
      "text/html": [
       "purpose vehicle '<b class=\"match term0\">Innova</b>' priced between Rs...s flagship brand '<b class=\"match term0\">Innova</b>', celebrating 10 years...N Raja said both <b class=\"match term0\">Innova</b> and the Fortuner"
      ],
      "text/plain": [
       "<IPython.core.display.HTML object>"
      ]
     },
     "metadata": {},
     "output_type": "display_data"
    },
    {
     "data": {
      "text/html": [
       "Suzuki Alto, Toyota <b class=\"match term0\">Innova</b> and Mahindra Scorpio...Honda City, Toyota <b class=\"match term0\">Innova</b>, Mercedes C and E Class"
      ],
      "text/plain": [
       "<IPython.core.display.HTML object>"
      ]
     },
     "metadata": {},
     "output_type": "display_data"
    },
    {
     "data": {
      "text/html": [
       "the maker of <b class=\"match term0\">Innova</b> and Fortuner is looking"
      ],
      "text/plain": [
       "<IPython.core.display.HTML object>"
      ]
     },
     "metadata": {},
     "output_type": "display_data"
    },
    {
     "data": {
      "text/html": [
       "Ertiga and Toyota <b class=\"match term0\">Innova</b> at ₹10-₹15 lakh, whereas"
      ],
      "text/plain": [
       "<IPython.core.display.HTML object>"
      ]
     },
     "metadata": {},
     "output_type": "display_data"
    }
   ],
   "source": []
  },
  {
   "cell_type": "code",
   "execution_count": 174,
   "metadata": {},
   "outputs": [],
   "source": [
    "doc=articles.iloc[int(hits[0]['id'])].meta.story"
   ]
  },
  {
   "cell_type": "code",
   "execution_count": 144,
   "metadata": {},
   "outputs": [
    {
     "data": {
      "text/plain": [
       "And([Phrase('body', ['amitabh', 'bachchan'], slop=1, boost=1.000000), Term('body', 'piku')])"
      ]
     },
     "execution_count": 144,
     "metadata": {},
     "output_type": "execute_result"
    }
   ],
   "source": [
    "q"
   ]
  },
  {
   "cell_type": "code",
   "execution_count": null,
   "metadata": {},
   "outputs": [],
   "source": [
    "s.close()"
   ]
  }
 ],
 "metadata": {
  "kernelspec": {
   "display_name": "Python (default)",
   "language": "python",
   "name": "pydefault"
  },
  "language_info": {
   "codemirror_mode": {
    "name": "ipython",
    "version": 3
   },
   "file_extension": ".py",
   "mimetype": "text/x-python",
   "name": "python",
   "nbconvert_exporter": "python",
   "pygments_lexer": "ipython3",
   "version": "3.7.1"
  }
 },
 "nbformat": 4,
 "nbformat_minor": 2
}
