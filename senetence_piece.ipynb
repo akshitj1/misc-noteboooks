{
 "cells": [
  {
   "cell_type": "code",
   "execution_count": 1,
   "metadata": {},
   "outputs": [],
   "source": [
    "import os\n",
    "os.chdir('/Users/akshit.jain/repos/commoncrawl/')"
   ]
  },
  {
   "cell_type": "code",
   "execution_count": 2,
   "metadata": {},
   "outputs": [],
   "source": [
    "import pandas as pd\n"
   ]
  },
  {
   "cell_type": "code",
   "execution_count": 3,
   "metadata": {},
   "outputs": [],
   "source": [
    "ar=pd.read_pickle('output/parsed_pages.pk')\n",
    "ar=ar.meta"
   ]
  },
  {
   "cell_type": "code",
   "execution_count": 56,
   "metadata": {},
   "outputs": [],
   "source": [
    "text_corpus_file='data/movies_raw_corpus.txt'\n",
    "os.remove(text_corpus_file)\n",
    "import re\n",
    "def clean(doc):\n",
    "    if type(doc)!=str:\n",
    "        return ''\n",
    "    return re.sub(r'\\s+', ' ', doc.lower())\n",
    "with open(text_corpus_file, 'w+') as f:\n",
    "    ar.map(lambda x: f.write('{}\\n'.format(clean(x.story))))"
   ]
  },
  {
   "cell_type": "code",
   "execution_count": 76,
   "metadata": {},
   "outputs": [
    {
     "name": "stdout",
     "output_type": "stream",
     "text": [
      "unigram_model_trainer.cc(475) LOG(INFO) Starts training with : \n",
      "input: \"data/movies_raw_corpus.txt\"\n",
      "model_prefix: \"movies_tok\"\n",
      "model_type: UNIGRAM\n",
      "vocab_size: 5000\n",
      "input_format: \"\"\n",
      "character_coverage: 0.99\n",
      "input_sentence_size: 10000000\n",
      "mining_sentence_size: 2000000\n",
      "training_sentence_size: 10000000\n",
      "seed_sentencepiece_size: 1000000\n",
      "shrinking_factor: 0.75\n",
      "num_threads: 16\n",
      "num_sub_iterations: 2\n",
      "max_sentencepiece_length: 16\n",
      "split_by_unicode_script: true\n",
      "split_by_whitespace: true\n",
      "hard_vocab_limit: true\n",
      "unk_id: 0\n",
      "bos_id: 1\n",
      "eos_id: 2\n",
      "pad_id: -1\n",
      "\n",
      "trainer_interface.cc(156) LOG(INFO) Loading corpus: data/movies_raw_corpus.txt\n",
      "trainer_interface.cc(184) LOG(INFO) Loading: ▁to▁promote▁his▁upcoming▁film▁gold,▁akshay▁kumar▁requested▁his▁twitter▁followers▁on▁friday▁morning▁to▁ask▁him▁questions▁using▁#askakshay▁and▁his▁fans▁were▁more▁than▁eager▁to▁know▁more▁about▁their▁favourite▁superstar.▁they▁asked▁him▁all▁sorts▁of▁questions▁including▁what▁he▁loves▁to▁cook▁the▁most,▁how▁he▁spends▁time▁with▁his▁family,▁his▁favourite▁thing▁about▁mumbai▁and▁whether▁he▁eats▁street▁food.▁one▁user▁asked▁him▁who▁among▁the▁younger▁actors▁he▁thinks▁can▁match▁up▁to▁him.▁akshay▁replied,▁“it's▁gotta▁be▁ravnveer▁singh’s▁unmatched▁energy.”▁when▁asked▁what▁he▁loves▁the▁most▁about▁bengali▁people,▁he▁complemented▁his▁co-star▁mouni▁roy,▁saying▁she▁showed▁him▁“how▁bengalis▁love▁to▁feed▁people▁all▁the▁time.”▁based▁on▁the▁questions▁asked,▁compiled▁below▁are▁a▁few▁interesting▁little-known▁facts▁about▁akshay▁kumar:▁-▁best▁friend:▁his▁son▁aarav▁-▁of▁all▁his▁characters,▁his▁favourite:▁rowdy▁rathore▁-▁had▁he▁not▁been▁an▁actor,▁he’d▁be:▁in▁the▁army▁or▁a▁martial▁arts▁coach▁-▁best▁thing▁about▁mumbai:▁its▁beaches▁-▁best▁thing▁about▁acting:▁the▁jobs▁that▁it▁creates▁for▁people▁-▁he▁loves▁to▁cook:▁thai▁green▁chicken▁curry▁-▁most▁memorable▁moment▁as▁an▁actor:▁when▁he▁brought▁his▁parents▁to▁a▁movie▁set▁for▁the▁first▁time▁-▁favourite▁sport:▁an▁early▁morning▁game▁of▁beach▁volleyball▁-▁favourite▁food:▁sushi▁gold▁is▁about▁a▁hockey▁player▁who▁wants▁to▁win▁a▁medal▁for▁india▁in▁hockey▁in▁the▁pre-independence▁period.▁produced▁by▁farhan▁akhtar▁and▁ritesh▁sidhwani’s▁excel▁entertainment,▁it▁has▁been▁written▁and▁directed▁by▁reema▁kagti.▁it▁will▁release▁on▁august▁15.▁akshay▁kumarakshay▁kumar▁10▁thingsakshay▁kumar▁goldakshay▁kumar▁twitter\tsize=0\n",
      "trainer_interface.cc(190) LOG(WARNING) Empty string found. removed\n",
      "trainer_interface.cc(190) LOG(WARNING) Empty string found. removed\n",
      "trainer_interface.cc(190) LOG(WARNING) Empty string found. removed\n",
      "trainer_interface.cc(190) LOG(WARNING) Empty string found. removed\n",
      "trainer_interface.cc(190) LOG(WARNING) Empty string found. removed\n",
      "trainer_interface.cc(190) LOG(WARNING) Empty string found. removed\n",
      "trainer_interface.cc(190) LOG(WARNING) Empty string found. removed\n",
      "trainer_interface.cc(190) LOG(WARNING) Empty string found. removed\n",
      "trainer_interface.cc(190) LOG(WARNING) Empty string found. removed\n",
      "trainer_interface.cc(190) LOG(WARNING) Empty string found. removed\n",
      "trainer_interface.cc(190) LOG(WARNING) Empty string found. removed\n",
      "trainer_interface.cc(190) LOG(WARNING) Empty string found. removed\n",
      "trainer_interface.cc(190) LOG(WARNING) Empty string found. removed\n",
      "trainer_interface.cc(190) LOG(WARNING) Empty string found. removed\n",
      "trainer_interface.cc(190) LOG(WARNING) Empty string found. removed\n",
      "trainer_interface.cc(190) LOG(WARNING) Empty string found. removed\n",
      "trainer_interface.cc(190) LOG(WARNING) Empty string found. removed\n",
      "trainer_interface.cc(190) LOG(WARNING) Empty string found. removed\n",
      "trainer_interface.cc(190) LOG(WARNING) Empty string found. removed\n",
      "trainer_interface.cc(190) LOG(WARNING) Empty string found. removed\n",
      "trainer_interface.cc(190) LOG(WARNING) Empty string found. removed\n",
      "trainer_interface.cc(190) LOG(WARNING) Empty string found. removed\n",
      "trainer_interface.cc(190) LOG(WARNING) Empty string found. removed\n",
      "trainer_interface.cc(190) LOG(WARNING) Empty string found. removed\n",
      "trainer_interface.cc(190) LOG(WARNING) Empty string found. removed\n",
      "trainer_interface.cc(190) LOG(WARNING) Empty string found. removed\n",
      "trainer_interface.cc(190) LOG(WARNING) Empty string found. removed\n",
      "trainer_interface.cc(190) LOG(WARNING) Empty string found. removed\n",
      "trainer_interface.cc(190) LOG(WARNING) Empty string found. removed\n",
      "trainer_interface.cc(190) LOG(WARNING) Empty string found. removed\n",
      "trainer_interface.cc(190) LOG(WARNING) Empty string found. removed\n",
      "trainer_interface.cc(190) LOG(WARNING) Empty string found. removed\n",
      "trainer_interface.cc(190) LOG(WARNING) Empty string found. removed\n",
      "trainer_interface.cc(190) LOG(WARNING) Empty string found. removed\n",
      "trainer_interface.cc(190) LOG(WARNING) Empty string found. removed\n",
      "trainer_interface.cc(190) LOG(WARNING) Empty string found. removed\n",
      "trainer_interface.cc(190) LOG(WARNING) Empty string found. removed\n",
      "trainer_interface.cc(190) LOG(WARNING) Empty string found. removed\n",
      "trainer_interface.cc(190) LOG(WARNING) Empty string found. removed\n",
      "trainer_interface.cc(190) LOG(WARNING) Empty string found. removed\n",
      "trainer_interface.cc(190) LOG(WARNING) Empty string found. removed\n",
      "trainer_interface.cc(190) LOG(WARNING) Empty string found. removed\n",
      "trainer_interface.cc(190) LOG(WARNING) Empty string found. removed\n",
      "trainer_interface.cc(190) LOG(WARNING) Empty string found. removed\n",
      "trainer_interface.cc(190) LOG(WARNING) Empty string found. removed\n",
      "trainer_interface.cc(190) LOG(WARNING) Empty string found. removed\n",
      "trainer_interface.cc(190) LOG(WARNING) Empty string found. removed\n",
      "trainer_interface.cc(190) LOG(WARNING) Empty string found. removed\n",
      "trainer_interface.cc(190) LOG(WARNING) Empty string found. removed\n",
      "trainer_interface.cc(190) LOG(WARNING) Empty string found. removed\n",
      "trainer_interface.cc(190) LOG(WARNING) Empty string found. removed\n",
      "trainer_interface.cc(190) LOG(WARNING) Empty string found. removed\n",
      "trainer_interface.cc(190) LOG(WARNING) Empty string found. removed\n",
      "trainer_interface.cc(190) LOG(WARNING) Empty string found. removed\n",
      "trainer_interface.cc(190) LOG(WARNING) Empty string found. removed\n",
      "trainer_interface.cc(190) LOG(WARNING) Empty string found. removed\n",
      "trainer_interface.cc(190) LOG(WARNING) Empty string found. removed\n",
      "trainer_interface.cc(190) LOG(WARNING) Empty string found. removed\n",
      "trainer_interface.cc(190) LOG(WARNING) Empty string found. removed\n",
      "trainer_interface.cc(190) LOG(WARNING) Empty string found. removed\n",
      "trainer_interface.cc(190) LOG(WARNING) Empty string found. removed\n",
      "trainer_interface.cc(190) LOG(WARNING) Empty string found. removed\n",
      "trainer_interface.cc(190) LOG(WARNING) Empty string found. removed\n",
      "trainer_interface.cc(190) LOG(WARNING) Empty string found. removed\n",
      "trainer_interface.cc(190) LOG(WARNING) Empty string found. removed\n",
      "trainer_interface.cc(190) LOG(WARNING) Empty string found. removed\n",
      "trainer_interface.cc(190) LOG(WARNING) Empty string found. removed\n",
      "trainer_interface.cc(190) LOG(WARNING) Empty string found. removed\n",
      "trainer_interface.cc(190) LOG(WARNING) Empty string found. removed\n",
      "trainer_interface.cc(190) LOG(WARNING) Empty string found. removed\n",
      "trainer_interface.cc(190) LOG(WARNING) Empty string found. removed\n",
      "trainer_interface.cc(190) LOG(WARNING) Empty string found. removed\n",
      "trainer_interface.cc(190) LOG(WARNING) Empty string found. removed\n",
      "trainer_interface.cc(190) LOG(WARNING) Empty string found. removed\n",
      "trainer_interface.cc(190) LOG(WARNING) Empty string found. removed\n",
      "trainer_interface.cc(190) LOG(WARNING) Empty string found. removed\n",
      "trainer_interface.cc(190) LOG(WARNING) Empty string found. removed\n",
      "trainer_interface.cc(190) LOG(WARNING) Empty string found. removed\n",
      "trainer_interface.cc(190) LOG(WARNING) Empty string found. removed\n",
      "trainer_interface.cc(190) LOG(WARNING) Empty string found. removed\n",
      "trainer_interface.cc(190) LOG(WARNING) Empty string found. removed\n",
      "trainer_interface.cc(190) LOG(WARNING) Empty string found. removed\n",
      "trainer_interface.cc(190) LOG(WARNING) Empty string found. removed\n",
      "trainer_interface.cc(190) LOG(WARNING) Empty string found. removed\n",
      "trainer_interface.cc(190) LOG(WARNING) Empty string found. removed\n",
      "trainer_interface.cc(190) LOG(WARNING) Empty string found. removed\n",
      "trainer_interface.cc(190) LOG(WARNING) Empty string found. removed\n",
      "trainer_interface.cc(190) LOG(WARNING) Empty string found. removed\n",
      "trainer_interface.cc(190) LOG(WARNING) Empty string found. removed\n",
      "trainer_interface.cc(190) LOG(WARNING) Empty string found. removed\n",
      "trainer_interface.cc(190) LOG(WARNING) Empty string found. removed\n",
      "trainer_interface.cc(190) LOG(WARNING) Empty string found. removed\n",
      "trainer_interface.cc(190) LOG(WARNING) Empty string found. removed\n",
      "trainer_interface.cc(190) LOG(WARNING) Empty string found. removed\n",
      "trainer_interface.cc(190) LOG(WARNING) Empty string found. removed\n",
      "trainer_interface.cc(190) LOG(WARNING) Empty string found. removed\n",
      "trainer_interface.cc(190) LOG(WARNING) Empty string found. removed\n",
      "trainer_interface.cc(190) LOG(WARNING) Empty string found. removed\n",
      "trainer_interface.cc(190) LOG(WARNING) Empty string found. removed\n",
      "trainer_interface.cc(190) LOG(WARNING) Empty string found. removed\n",
      "trainer_interface.cc(190) LOG(WARNING) Empty string found. removed\n",
      "trainer_interface.cc(190) LOG(WARNING) Empty string found. removed\n",
      "trainer_interface.cc(190) LOG(WARNING) Empty string found. removed\n",
      "trainer_interface.cc(190) LOG(WARNING) Empty string found. removed\n",
      "trainer_interface.cc(190) LOG(WARNING) Empty string found. removed\n",
      "trainer_interface.cc(190) LOG(WARNING) Empty string found. removed\n",
      "trainer_interface.cc(190) LOG(WARNING) Empty string found. removed\n"
     ]
    },
    {
     "name": "stdout",
     "output_type": "stream",
     "text": [
      "trainer_interface.cc(190) LOG(WARNING) Empty string found. removed\n",
      "trainer_interface.cc(190) LOG(WARNING) Empty string found. removed\n",
      "trainer_interface.cc(190) LOG(WARNING) Empty string found. removed\n",
      "trainer_interface.cc(190) LOG(WARNING) Empty string found. removed\n",
      "trainer_interface.cc(190) LOG(WARNING) Empty string found. removed\n",
      "trainer_interface.cc(190) LOG(WARNING) Empty string found. removed\n",
      "trainer_interface.cc(190) LOG(WARNING) Empty string found. removed\n",
      "trainer_interface.cc(190) LOG(WARNING) Empty string found. removed\n",
      "trainer_interface.cc(204) LOG(INFO) Loaded 1874 sentences\n",
      "trainer_interface.cc(223) LOG(INFO) all chars count=2529466\n",
      "trainer_interface.cc(230) LOG(INFO) Done: 99.0016% characters are covered.\n",
      "trainer_interface.cc(238) LOG(INFO) alphabet size=35\n",
      "trainer_interface.cc(269) LOG(INFO) Done! 1874 sentences are loaded\n",
      "unigram_model_trainer.cc(121) LOG(INFO) Using 1874 sentences for making seed sentencepieces\n",
      "unigram_model_trainer.cc(149) LOG(INFO) Making suffix array...\n",
      "unigram_model_trainer.cc(153) LOG(INFO) Extracting frequent sub strings...\n",
      "unigram_model_trainer.cc(204) LOG(INFO) Initialized 65782 seed sentencepieces\n",
      "trainer_interface.cc(275) LOG(INFO) Tokenizing input sentences with whitespace: 1874\n",
      "trainer_interface.cc(284) LOG(INFO) Done! 45018\n",
      "unigram_model_trainer.cc(496) LOG(INFO) Using 45018 sentences for EM training\n",
      "unigram_model_trainer.cc(512) LOG(INFO) EM sub_iter=0 size=22765 obj=12.6308 num_tokens=106068 num_tokens/piece=4.65926\n",
      "unigram_model_trainer.cc(512) LOG(INFO) EM sub_iter=1 size=19662 obj=10.5881 num_tokens=106775 num_tokens/piece=5.43053\n",
      "unigram_model_trainer.cc(512) LOG(INFO) EM sub_iter=0 size=14745 obj=10.577 num_tokens=112732 num_tokens/piece=7.64544\n",
      "unigram_model_trainer.cc(512) LOG(INFO) EM sub_iter=1 size=14741 obj=10.546 num_tokens=112781 num_tokens/piece=7.65084\n",
      "unigram_model_trainer.cc(512) LOG(INFO) EM sub_iter=0 size=11055 obj=10.637 num_tokens=121848 num_tokens/piece=11.022\n",
      "unigram_model_trainer.cc(512) LOG(INFO) EM sub_iter=1 size=11055 obj=10.5991 num_tokens=121904 num_tokens/piece=11.027\n",
      "unigram_model_trainer.cc(512) LOG(INFO) EM sub_iter=0 size=8291 obj=10.7697 num_tokens=132563 num_tokens/piece=15.9888\n",
      "unigram_model_trainer.cc(512) LOG(INFO) EM sub_iter=1 size=8291 obj=10.7225 num_tokens=132621 num_tokens/piece=15.9958\n",
      "unigram_model_trainer.cc(512) LOG(INFO) EM sub_iter=0 size=6218 obj=10.9895 num_tokens=143513 num_tokens/piece=23.0803\n",
      "unigram_model_trainer.cc(512) LOG(INFO) EM sub_iter=1 size=6218 obj=10.9364 num_tokens=143505 num_tokens/piece=23.079\n",
      "unigram_model_trainer.cc(512) LOG(INFO) EM sub_iter=0 size=5500 obj=11.0587 num_tokens=148286 num_tokens/piece=26.9611\n",
      "unigram_model_trainer.cc(512) LOG(INFO) EM sub_iter=1 size=5500 obj=11.0375 num_tokens=148343 num_tokens/piece=26.9715\n",
      "trainer_interface.cc(340) LOG(INFO) Saving model: movies_tok.model\n",
      "trainer_interface.cc(351) LOG(INFO) Saving vocabs: movies_tok.vocab\n"
     ]
    }
   ],
   "source": [
    "! spm_train --input=data/movies_raw_corpus.txt --model_prefix=movies_tok --vocab_size=5000 --character_coverage=0.99 "
   ]
  },
  {
   "cell_type": "code",
   "execution_count": 77,
   "metadata": {},
   "outputs": [
    {
     "data": {
      "text/plain": [
       "True"
      ]
     },
     "execution_count": 77,
     "metadata": {},
     "output_type": "execute_result"
    }
   ],
   "source": [
    "import sentencepiece as spm\n",
    "s = spm.SentencePieceProcessor()\n",
    "s.Load('movies_tok.model')"
   ]
  },
  {
   "cell_type": "code",
   "execution_count": 80,
   "metadata": {
    "scrolled": false
   },
   "outputs": [
    {
     "name": "stdout",
     "output_type": "stream",
     "text": [
      "bigb\n",
      "------------------------------\n",
      "['▁big', 'b']\n"
     ]
    }
   ],
   "source": [
    "doc=clean(ar[0].story)\n",
    "doc='bigb'\n",
    "print(doc)\n",
    "print('-'*30)\n",
    "print(s.EncodeAsPieces(doc))"
   ]
  }
 ],
 "metadata": {
  "kernelspec": {
   "display_name": "Python (default)",
   "language": "python",
   "name": "pydefault"
  },
  "language_info": {
   "codemirror_mode": {
    "name": "ipython",
    "version": 3
   },
   "file_extension": ".py",
   "mimetype": "text/x-python",
   "name": "python",
   "nbconvert_exporter": "python",
   "pygments_lexer": "ipython3",
   "version": "3.7.1"
  }
 },
 "nbformat": 4,
 "nbformat_minor": 2
}
