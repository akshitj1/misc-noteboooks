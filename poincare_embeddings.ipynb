{
 "cells": [
  {
   "cell_type": "code",
   "execution_count": 37,
   "metadata": {
    "collapsed": true
   },
   "outputs": [
    {
     "name": "stdout",
     "output_type": "stream",
     "text": [
      "Collecting plotly\n",
      "\u001b[?25l  Downloading https://files.pythonhosted.org/packages/32/d6/82333db5a6f56f828d817d49ae6ea153125d70214a189686afe784e159ad/plotly-3.4.2-py2.py3-none-any.whl (37.8MB)\n",
      "\u001b[K    100% |████████████████████████████████| 37.8MB 327kB/s ta 0:00:011\n",
      "\u001b[?25hCollecting retrying>=1.3.3 (from plotly)\n",
      "  Downloading https://files.pythonhosted.org/packages/44/ef/beae4b4ef80902f22e3af073397f079c96969c69b2c7d52a57ea9ae61c9d/retrying-1.3.3.tar.gz\n",
      "Requirement already satisfied: pytz in /usr/local/lib/python3.7/site-packages (from plotly) (2018.7)\n",
      "Requirement already satisfied: six in /usr/local/lib/python3.7/site-packages (from plotly) (1.11.0)\n",
      "Requirement already satisfied: nbformat>=4.2 in /usr/local/lib/python3.7/site-packages (from plotly) (4.4.0)\n",
      "Requirement already satisfied: requests in /usr/local/lib/python3.7/site-packages (from plotly) (2.20.1)\n",
      "Requirement already satisfied: decorator>=4.0.6 in /usr/local/lib/python3.7/site-packages (from plotly) (4.3.0)\n",
      "Requirement already satisfied: ipython-genutils in /usr/local/lib/python3.7/site-packages (from nbformat>=4.2->plotly) (0.2.0)\n",
      "Requirement already satisfied: jupyter-core in /usr/local/lib/python3.7/site-packages (from nbformat>=4.2->plotly) (4.4.0)\n",
      "Requirement already satisfied: jsonschema!=2.5.0,>=2.4 in /usr/local/lib/python3.7/site-packages (from nbformat>=4.2->plotly) (2.6.0)\n",
      "Requirement already satisfied: traitlets>=4.1 in /usr/local/lib/python3.7/site-packages (from nbformat>=4.2->plotly) (4.3.2)\n",
      "Requirement already satisfied: urllib3<1.25,>=1.21.1 in /usr/local/lib/python3.7/site-packages (from requests->plotly) (1.24.1)\n",
      "Requirement already satisfied: chardet<3.1.0,>=3.0.2 in /usr/local/lib/python3.7/site-packages (from requests->plotly) (3.0.4)\n",
      "Requirement already satisfied: certifi>=2017.4.17 in /usr/local/lib/python3.7/site-packages (from requests->plotly) (2018.10.15)\n",
      "Requirement already satisfied: idna<2.8,>=2.5 in /usr/local/lib/python3.7/site-packages (from requests->plotly) (2.7)\n",
      "Building wheels for collected packages: retrying\n",
      "  Running setup.py bdist_wheel for retrying ... \u001b[?25ldone\n",
      "\u001b[?25h  Stored in directory: /Users/akshit.jain/Library/Caches/pip/wheels/d7/a9/33/acc7b709e2a35caa7d4cae442f6fe6fbf2c43f80823d46460c\n",
      "Successfully built retrying\n",
      "Installing collected packages: retrying, plotly\n",
      "Successfully installed plotly-3.4.2 retrying-1.3.3\n"
     ]
    }
   ],
   "source": [
    "# ! pip3 install gensim\n",
    "! pip3 install plotly"
   ]
  },
  {
   "cell_type": "code",
   "execution_count": 6,
   "metadata": {},
   "outputs": [],
   "source": [
    "! mkdir data/poincare"
   ]
  },
  {
   "cell_type": "code",
   "execution_count": 56,
   "metadata": {},
   "outputs": [],
   "source": [
    "import sys\n",
    "sys.path.append('/usr/local/lib/python3.7/site-packages/IPython/extensions/autoreload.py')"
   ]
  },
  {
   "cell_type": "code",
   "execution_count": 59,
   "metadata": {},
   "outputs": [
    {
     "name": "stdout",
     "output_type": "stream",
     "text": [
      "The autoreload extension is already loaded. To reload it, use:\n",
      "  %reload_ext autoreload\n"
     ]
    }
   ],
   "source": [
    "%load_ext autoreload\n",
    "%autoreload 2\n",
    "\n",
    "\n",
    "\n",
    "import os\n",
    "import logging\n",
    "import numpy as np\n",
    "\n",
    "from gensim.models.poincare import PoincareModel, PoincareKeyedVectors, PoincareRelations\n",
    "\n",
    "logging.basicConfig(level=logging.INFO)"
   ]
  },
  {
   "cell_type": "code",
   "execution_count": 72,
   "metadata": {},
   "outputs": [],
   "source": [
    "poincare_directory = os.path.join(os.getcwd(), 'data', 'poincare')\n",
    "data_directory = poincare_directory\n",
    "concept_graph_file = '~/Downloads/microsoft_concept_graph/data-concept/data-concept-instance-relations.txt'\n",
    "wordnet_mammal_file = os.path.join(data_directory, 'wordnet_mammal_hypernyms.tsv')"
   ]
  },
  {
   "cell_type": "code",
   "execution_count": 106,
   "metadata": {},
   "outputs": [],
   "source": [
    "import itertools\n",
    "relations = PoincareRelations(file_path=concept_graph_file, delimiter='\\t')\n",
    "relations=itertools.islice(relations, 100000)"
   ]
  },
  {
   "cell_type": "code",
   "execution_count": 107,
   "metadata": {},
   "outputs": [],
   "source": [
    "relations=[rel[:2] for rel in relations]"
   ]
  },
  {
   "cell_type": "code",
   "execution_count": 108,
   "metadata": {},
   "outputs": [
    {
     "name": "stderr",
     "output_type": "stream",
     "text": [
      "INFO:gensim.models.poincare:loading relations from train data..\n",
      "INFO:gensim.models.poincare:loaded 100000 relations from train data, 42644 nodes\n"
     ]
    }
   ],
   "source": [
    "model = PoincareModel(train_data=relations)"
   ]
  },
  {
   "cell_type": "code",
   "execution_count": 109,
   "metadata": {},
   "outputs": [
    {
     "name": "stderr",
     "output_type": "stream",
     "text": [
      "INFO:gensim.models.poincare:loading relations from train data..\n",
      "INFO:gensim.models.poincare:loaded 100000 relations from train data, 42644 nodes\n",
      "INFO:gensim.models.poincare:training model of size 2 with 1 workers on 100000 relations for 1 epochs and 0 burn-in epochs, using lr=0.10000 burn-in lr=0.01000 negative=10\n",
      "INFO:gensim.models.poincare:starting training (1 epochs)----------------------------------------\n",
      "INFO:gensim.models.poincare:training on epoch 1, examples #4990-#5000, loss: 23.59\n",
      "INFO:gensim.models.poincare:time taken for 5000 examples: 4.81 s, 1039.20 examples / s\n",
      "INFO:gensim.models.poincare:training on epoch 1, examples #9990-#10000, loss: 23.27\n",
      "INFO:gensim.models.poincare:time taken for 5000 examples: 4.92 s, 1015.29 examples / s\n",
      "INFO:gensim.models.poincare:training on epoch 1, examples #14990-#15000, loss: 23.14\n",
      "INFO:gensim.models.poincare:time taken for 5000 examples: 4.57 s, 1093.33 examples / s\n",
      "INFO:gensim.models.poincare:training on epoch 1, examples #19990-#20000, loss: 23.03\n",
      "INFO:gensim.models.poincare:time taken for 5000 examples: 4.99 s, 1002.05 examples / s\n",
      "INFO:gensim.models.poincare:training on epoch 1, examples #24990-#25000, loss: 22.94\n",
      "INFO:gensim.models.poincare:time taken for 5000 examples: 5.23 s, 956.73 examples / s\n",
      "INFO:gensim.models.poincare:training on epoch 1, examples #29990-#30000, loss: 22.94\n",
      "INFO:gensim.models.poincare:time taken for 5000 examples: 5.21 s, 960.33 examples / s\n",
      "INFO:gensim.models.poincare:training on epoch 1, examples #34990-#35000, loss: 22.77\n",
      "INFO:gensim.models.poincare:time taken for 5000 examples: 4.81 s, 1039.94 examples / s\n",
      "INFO:gensim.models.poincare:training on epoch 1, examples #39990-#40000, loss: 22.79\n",
      "INFO:gensim.models.poincare:time taken for 5000 examples: 5.14 s, 973.51 examples / s\n",
      "INFO:gensim.models.poincare:training on epoch 1, examples #44990-#45000, loss: 22.73\n",
      "INFO:gensim.models.poincare:time taken for 5000 examples: 5.22 s, 957.96 examples / s\n",
      "INFO:gensim.models.poincare:training on epoch 1, examples #49990-#50000, loss: 22.77\n",
      "INFO:gensim.models.poincare:time taken for 5000 examples: 5.59 s, 895.10 examples / s\n",
      "INFO:gensim.models.poincare:training on epoch 1, examples #54990-#55000, loss: 22.67\n",
      "INFO:gensim.models.poincare:time taken for 5000 examples: 5.22 s, 957.96 examples / s\n",
      "INFO:gensim.models.poincare:training on epoch 1, examples #59990-#60000, loss: 22.61\n",
      "INFO:gensim.models.poincare:time taken for 5000 examples: 5.22 s, 958.00 examples / s\n",
      "INFO:gensim.models.poincare:training on epoch 1, examples #64990-#65000, loss: 22.57\n",
      "INFO:gensim.models.poincare:time taken for 5000 examples: 4.90 s, 1021.13 examples / s\n",
      "INFO:gensim.models.poincare:training on epoch 1, examples #69990-#70000, loss: 22.57\n",
      "INFO:gensim.models.poincare:time taken for 5000 examples: 4.88 s, 1023.60 examples / s\n",
      "INFO:gensim.models.poincare:training on epoch 1, examples #74990-#75000, loss: 22.51\n",
      "INFO:gensim.models.poincare:time taken for 5000 examples: 5.10 s, 979.92 examples / s\n",
      "INFO:gensim.models.poincare:training on epoch 1, examples #79990-#80000, loss: 22.34\n",
      "INFO:gensim.models.poincare:time taken for 5000 examples: 5.22 s, 958.34 examples / s\n",
      "INFO:gensim.models.poincare:training on epoch 1, examples #84990-#85000, loss: 22.36\n",
      "INFO:gensim.models.poincare:time taken for 5000 examples: 4.82 s, 1036.93 examples / s\n",
      "INFO:gensim.models.poincare:training on epoch 1, examples #89990-#90000, loss: 22.30\n",
      "INFO:gensim.models.poincare:time taken for 5000 examples: 5.17 s, 967.11 examples / s\n",
      "INFO:gensim.models.poincare:training on epoch 1, examples #94990-#95000, loss: 22.21\n",
      "INFO:gensim.models.poincare:time taken for 5000 examples: 4.84 s, 1032.34 examples / s\n",
      "INFO:gensim.models.poincare:training on epoch 1, examples #99990-#100000, loss: 22.22\n",
      "INFO:gensim.models.poincare:time taken for 5000 examples: 4.60 s, 1086.71 examples / s\n",
      "INFO:gensim.models.poincare:training finished\n"
     ]
    }
   ],
   "source": [
    "model = PoincareModel(train_data=relations, size=2, burn_in=0)\n",
    "model.train(epochs=1, print_every=500)"
   ]
  },
  {
   "cell_type": "code",
   "execution_count": 110,
   "metadata": {
    "scrolled": true
   },
   "outputs": [
    {
     "name": "stderr",
     "output_type": "stream",
     "text": [
      "INFO:gensim.models.poincare:training model of size 2 with 1 workers on 100000 relations for 10 epochs and 0 burn-in epochs, using lr=0.10000 burn-in lr=0.01000 negative=10\n",
      "INFO:gensim.models.poincare:starting training (10 epochs)----------------------------------------\n",
      "INFO:gensim.models.poincare:training on epoch 1, examples #4990-#5000, loss: 21.79\n",
      "INFO:gensim.models.poincare:time taken for 5000 examples: 4.77 s, 1047.46 examples / s\n",
      "INFO:gensim.models.poincare:training on epoch 1, examples #9990-#10000, loss: 21.67\n",
      "INFO:gensim.models.poincare:time taken for 5000 examples: 4.75 s, 1051.54 examples / s\n",
      "INFO:gensim.models.poincare:training on epoch 1, examples #14990-#15000, loss: 21.70\n",
      "INFO:gensim.models.poincare:time taken for 5000 examples: 4.66 s, 1072.53 examples / s\n",
      "INFO:gensim.models.poincare:training on epoch 1, examples #19990-#20000, loss: 21.70\n",
      "INFO:gensim.models.poincare:time taken for 5000 examples: 4.42 s, 1130.53 examples / s\n",
      "INFO:gensim.models.poincare:training on epoch 1, examples #24990-#25000, loss: 21.62\n",
      "INFO:gensim.models.poincare:time taken for 5000 examples: 4.69 s, 1064.98 examples / s\n",
      "INFO:gensim.models.poincare:training on epoch 1, examples #29990-#30000, loss: 21.59\n",
      "INFO:gensim.models.poincare:time taken for 5000 examples: 4.67 s, 1071.26 examples / s\n",
      "INFO:gensim.models.poincare:training on epoch 1, examples #34990-#35000, loss: 21.54\n",
      "INFO:gensim.models.poincare:time taken for 5000 examples: 4.46 s, 1120.96 examples / s\n",
      "INFO:gensim.models.poincare:training on epoch 1, examples #39990-#40000, loss: 21.44\n",
      "INFO:gensim.models.poincare:time taken for 5000 examples: 4.27 s, 1172.17 examples / s\n",
      "INFO:gensim.models.poincare:training on epoch 1, examples #44990-#45000, loss: 21.49\n",
      "INFO:gensim.models.poincare:time taken for 5000 examples: 4.92 s, 1015.84 examples / s\n",
      "INFO:gensim.models.poincare:training on epoch 1, examples #49990-#50000, loss: 21.49\n",
      "INFO:gensim.models.poincare:time taken for 5000 examples: 4.80 s, 1041.78 examples / s\n",
      "INFO:gensim.models.poincare:training on epoch 1, examples #54990-#55000, loss: 21.42\n",
      "INFO:gensim.models.poincare:time taken for 5000 examples: 4.82 s, 1036.80 examples / s\n",
      "INFO:gensim.models.poincare:training on epoch 1, examples #59990-#60000, loss: 21.34\n",
      "INFO:gensim.models.poincare:time taken for 5000 examples: 5.01 s, 998.64 examples / s\n",
      "INFO:gensim.models.poincare:training on epoch 1, examples #64990-#65000, loss: 21.36\n",
      "INFO:gensim.models.poincare:time taken for 5000 examples: 4.96 s, 1008.46 examples / s\n",
      "INFO:gensim.models.poincare:training on epoch 1, examples #69990-#70000, loss: 21.34\n",
      "INFO:gensim.models.poincare:time taken for 5000 examples: 4.84 s, 1033.53 examples / s\n",
      "INFO:gensim.models.poincare:training on epoch 1, examples #74990-#75000, loss: 21.12\n",
      "INFO:gensim.models.poincare:time taken for 5000 examples: 4.30 s, 1163.15 examples / s\n",
      "INFO:gensim.models.poincare:training on epoch 1, examples #79990-#80000, loss: 21.20\n",
      "INFO:gensim.models.poincare:time taken for 5000 examples: 4.57 s, 1093.37 examples / s\n",
      "INFO:gensim.models.poincare:training on epoch 1, examples #84990-#85000, loss: 21.29\n",
      "INFO:gensim.models.poincare:time taken for 5000 examples: 4.82 s, 1037.91 examples / s\n",
      "INFO:gensim.models.poincare:training on epoch 1, examples #89990-#90000, loss: 21.18\n",
      "INFO:gensim.models.poincare:time taken for 5000 examples: 4.40 s, 1136.42 examples / s\n",
      "INFO:gensim.models.poincare:training on epoch 1, examples #94990-#95000, loss: 21.03\n",
      "INFO:gensim.models.poincare:time taken for 5000 examples: 4.46 s, 1120.47 examples / s\n",
      "INFO:gensim.models.poincare:training on epoch 1, examples #99990-#100000, loss: 21.05\n",
      "INFO:gensim.models.poincare:time taken for 5000 examples: 4.64 s, 1077.91 examples / s\n",
      "INFO:gensim.models.poincare:training on epoch 2, examples #4990-#5000, loss: 20.42\n",
      "INFO:gensim.models.poincare:time taken for 5000 examples: 4.76 s, 1049.73 examples / s\n",
      "INFO:gensim.models.poincare:training on epoch 2, examples #9990-#10000, loss: 20.62\n",
      "INFO:gensim.models.poincare:time taken for 5000 examples: 5.28 s, 947.05 examples / s\n",
      "INFO:gensim.models.poincare:training on epoch 2, examples #14990-#15000, loss: 20.51\n",
      "INFO:gensim.models.poincare:time taken for 5000 examples: 4.77 s, 1048.59 examples / s\n",
      "INFO:gensim.models.poincare:training on epoch 2, examples #19990-#20000, loss: 20.55\n",
      "INFO:gensim.models.poincare:time taken for 5000 examples: 5.23 s, 956.56 examples / s\n",
      "INFO:gensim.models.poincare:training on epoch 2, examples #24990-#25000, loss: 20.42\n",
      "INFO:gensim.models.poincare:time taken for 5000 examples: 4.57 s, 1094.70 examples / s\n",
      "INFO:gensim.models.poincare:training on epoch 2, examples #29990-#30000, loss: 20.42\n",
      "INFO:gensim.models.poincare:time taken for 5000 examples: 4.62 s, 1082.78 examples / s\n",
      "INFO:gensim.models.poincare:training on epoch 2, examples #34990-#35000, loss: 20.43\n",
      "INFO:gensim.models.poincare:time taken for 5000 examples: 4.83 s, 1034.56 examples / s\n",
      "INFO:gensim.models.poincare:training on epoch 2, examples #39990-#40000, loss: 20.38\n",
      "INFO:gensim.models.poincare:time taken for 5000 examples: 4.65 s, 1074.62 examples / s\n",
      "INFO:gensim.models.poincare:training on epoch 2, examples #44990-#45000, loss: 20.28\n",
      "INFO:gensim.models.poincare:time taken for 5000 examples: 4.90 s, 1019.59 examples / s\n",
      "INFO:gensim.models.poincare:training on epoch 2, examples #49990-#50000, loss: 20.27\n",
      "INFO:gensim.models.poincare:time taken for 5000 examples: 5.14 s, 973.51 examples / s\n",
      "INFO:gensim.models.poincare:training on epoch 2, examples #54990-#55000, loss: 20.27\n",
      "INFO:gensim.models.poincare:time taken for 5000 examples: 4.72 s, 1059.45 examples / s\n",
      "INFO:gensim.models.poincare:training on epoch 2, examples #59990-#60000, loss: 20.34\n",
      "INFO:gensim.models.poincare:time taken for 5000 examples: 4.73 s, 1056.78 examples / s\n",
      "INFO:gensim.models.poincare:training on epoch 2, examples #64990-#65000, loss: 20.27\n",
      "INFO:gensim.models.poincare:time taken for 5000 examples: 5.17 s, 966.52 examples / s\n",
      "INFO:gensim.models.poincare:training on epoch 2, examples #69990-#70000, loss: 20.15\n",
      "INFO:gensim.models.poincare:time taken for 5000 examples: 5.27 s, 948.81 examples / s\n",
      "INFO:gensim.models.poincare:training on epoch 2, examples #74990-#75000, loss: 20.23\n",
      "INFO:gensim.models.poincare:time taken for 5000 examples: 5.12 s, 976.00 examples / s\n",
      "INFO:gensim.models.poincare:training on epoch 2, examples #79990-#80000, loss: 20.28\n",
      "INFO:gensim.models.poincare:time taken for 5000 examples: 5.18 s, 965.82 examples / s\n",
      "INFO:gensim.models.poincare:training on epoch 2, examples #84990-#85000, loss: 20.15\n",
      "INFO:gensim.models.poincare:time taken for 5000 examples: 5.16 s, 968.45 examples / s\n",
      "INFO:gensim.models.poincare:training on epoch 2, examples #89990-#90000, loss: 20.06\n",
      "INFO:gensim.models.poincare:time taken for 5000 examples: 5.00 s, 1000.03 examples / s\n",
      "INFO:gensim.models.poincare:training on epoch 2, examples #94990-#95000, loss: 20.13\n",
      "INFO:gensim.models.poincare:time taken for 5000 examples: 4.74 s, 1054.11 examples / s\n",
      "INFO:gensim.models.poincare:training on epoch 2, examples #99990-#100000, loss: 20.16\n",
      "INFO:gensim.models.poincare:time taken for 5000 examples: 4.79 s, 1043.88 examples / s\n",
      "INFO:gensim.models.poincare:training on epoch 3, examples #4990-#5000, loss: 19.61\n",
      "INFO:gensim.models.poincare:time taken for 5000 examples: 5.28 s, 947.75 examples / s\n",
      "INFO:gensim.models.poincare:training on epoch 3, examples #9990-#10000, loss: 19.45\n",
      "INFO:gensim.models.poincare:time taken for 5000 examples: 4.92 s, 1015.81 examples / s\n",
      "INFO:gensim.models.poincare:training on epoch 3, examples #14990-#15000, loss: 19.57\n",
      "INFO:gensim.models.poincare:time taken for 5000 examples: 5.06 s, 988.85 examples / s\n",
      "INFO:gensim.models.poincare:training on epoch 3, examples #19990-#20000, loss: 19.53\n",
      "INFO:gensim.models.poincare:time taken for 5000 examples: 4.98 s, 1003.06 examples / s\n",
      "INFO:gensim.models.poincare:training on epoch 3, examples #24990-#25000, loss: 19.60\n",
      "INFO:gensim.models.poincare:time taken for 5000 examples: 5.13 s, 974.54 examples / s\n",
      "INFO:gensim.models.poincare:training on epoch 3, examples #29990-#30000, loss: 19.58\n",
      "INFO:gensim.models.poincare:time taken for 5000 examples: 5.14 s, 971.97 examples / s\n",
      "INFO:gensim.models.poincare:training on epoch 3, examples #34990-#35000, loss: 19.42\n"
     ]
    },
    {
     "name": "stderr",
     "output_type": "stream",
     "text": [
      "INFO:gensim.models.poincare:time taken for 5000 examples: 4.83 s, 1035.33 examples / s\n",
      "INFO:gensim.models.poincare:training on epoch 3, examples #39990-#40000, loss: 19.43\n",
      "INFO:gensim.models.poincare:time taken for 5000 examples: 5.43 s, 921.10 examples / s\n",
      "INFO:gensim.models.poincare:training on epoch 3, examples #44990-#45000, loss: 19.58\n",
      "INFO:gensim.models.poincare:time taken for 5000 examples: 5.17 s, 967.69 examples / s\n",
      "INFO:gensim.models.poincare:training on epoch 3, examples #49990-#50000, loss: 19.55\n",
      "INFO:gensim.models.poincare:time taken for 5000 examples: 4.86 s, 1028.45 examples / s\n",
      "INFO:gensim.models.poincare:training on epoch 3, examples #54990-#55000, loss: 19.38\n",
      "INFO:gensim.models.poincare:time taken for 5000 examples: 4.78 s, 1044.99 examples / s\n",
      "INFO:gensim.models.poincare:training on epoch 3, examples #59990-#60000, loss: 19.42\n",
      "INFO:gensim.models.poincare:time taken for 5000 examples: 4.73 s, 1057.08 examples / s\n",
      "INFO:gensim.models.poincare:training on epoch 3, examples #64990-#65000, loss: 19.56\n",
      "INFO:gensim.models.poincare:time taken for 5000 examples: 4.96 s, 1008.15 examples / s\n",
      "INFO:gensim.models.poincare:training on epoch 3, examples #69990-#70000, loss: 19.42\n",
      "INFO:gensim.models.poincare:time taken for 5000 examples: 5.04 s, 992.27 examples / s\n",
      "INFO:gensim.models.poincare:training on epoch 3, examples #74990-#75000, loss: 19.39\n",
      "INFO:gensim.models.poincare:time taken for 5000 examples: 4.64 s, 1077.00 examples / s\n",
      "INFO:gensim.models.poincare:training on epoch 3, examples #79990-#80000, loss: 19.41\n",
      "INFO:gensim.models.poincare:time taken for 5000 examples: 4.71 s, 1060.57 examples / s\n",
      "INFO:gensim.models.poincare:training on epoch 3, examples #84990-#85000, loss: 19.31\n",
      "INFO:gensim.models.poincare:time taken for 5000 examples: 4.68 s, 1068.91 examples / s\n",
      "INFO:gensim.models.poincare:training on epoch 3, examples #89990-#90000, loss: 19.40\n",
      "INFO:gensim.models.poincare:time taken for 5000 examples: 4.79 s, 1044.52 examples / s\n",
      "INFO:gensim.models.poincare:training on epoch 3, examples #94990-#95000, loss: 19.30\n",
      "INFO:gensim.models.poincare:time taken for 5000 examples: 4.63 s, 1080.93 examples / s\n",
      "INFO:gensim.models.poincare:training on epoch 3, examples #99990-#100000, loss: 19.36\n",
      "INFO:gensim.models.poincare:time taken for 5000 examples: 4.88 s, 1024.07 examples / s\n",
      "INFO:gensim.models.poincare:training on epoch 4, examples #4990-#5000, loss: 18.79\n",
      "INFO:gensim.models.poincare:time taken for 5000 examples: 4.49 s, 1112.61 examples / s\n",
      "INFO:gensim.models.poincare:training on epoch 4, examples #9990-#10000, loss: 18.89\n",
      "INFO:gensim.models.poincare:time taken for 5000 examples: 4.62 s, 1082.61 examples / s\n",
      "INFO:gensim.models.poincare:training on epoch 4, examples #14990-#15000, loss: 18.87\n",
      "INFO:gensim.models.poincare:time taken for 5000 examples: 4.96 s, 1007.89 examples / s\n",
      "INFO:gensim.models.poincare:training on epoch 4, examples #19990-#20000, loss: 18.72\n",
      "INFO:gensim.models.poincare:time taken for 5000 examples: 4.85 s, 1030.08 examples / s\n",
      "INFO:gensim.models.poincare:training on epoch 4, examples #24990-#25000, loss: 18.75\n",
      "INFO:gensim.models.poincare:time taken for 5000 examples: 5.11 s, 979.02 examples / s\n",
      "INFO:gensim.models.poincare:training on epoch 4, examples #29990-#30000, loss: 18.82\n",
      "INFO:gensim.models.poincare:time taken for 5000 examples: 4.72 s, 1059.06 examples / s\n",
      "INFO:gensim.models.poincare:training on epoch 4, examples #34990-#35000, loss: 18.91\n",
      "INFO:gensim.models.poincare:time taken for 5000 examples: 5.03 s, 993.62 examples / s\n",
      "INFO:gensim.models.poincare:training on epoch 4, examples #39990-#40000, loss: 18.76\n",
      "INFO:gensim.models.poincare:time taken for 5000 examples: 4.70 s, 1064.61 examples / s\n",
      "INFO:gensim.models.poincare:training on epoch 4, examples #44990-#45000, loss: 18.88\n",
      "INFO:gensim.models.poincare:time taken for 5000 examples: 4.62 s, 1082.88 examples / s\n",
      "INFO:gensim.models.poincare:training on epoch 4, examples #49990-#50000, loss: 18.77\n",
      "INFO:gensim.models.poincare:time taken for 5000 examples: 4.85 s, 1030.11 examples / s\n",
      "INFO:gensim.models.poincare:training on epoch 4, examples #54990-#55000, loss: 18.83\n",
      "INFO:gensim.models.poincare:time taken for 5000 examples: 4.77 s, 1048.22 examples / s\n",
      "INFO:gensim.models.poincare:training on epoch 4, examples #59990-#60000, loss: 18.72\n",
      "INFO:gensim.models.poincare:time taken for 5000 examples: 4.55 s, 1100.08 examples / s\n",
      "INFO:gensim.models.poincare:training on epoch 4, examples #64990-#65000, loss: 18.68\n",
      "INFO:gensim.models.poincare:time taken for 5000 examples: 5.18 s, 965.12 examples / s\n",
      "INFO:gensim.models.poincare:training on epoch 4, examples #69990-#70000, loss: 18.57\n",
      "INFO:gensim.models.poincare:time taken for 5000 examples: 4.69 s, 1066.80 examples / s\n",
      "INFO:gensim.models.poincare:training on epoch 4, examples #74990-#75000, loss: 18.75\n",
      "INFO:gensim.models.poincare:time taken for 5000 examples: 4.88 s, 1024.17 examples / s\n",
      "INFO:gensim.models.poincare:training on epoch 4, examples #79990-#80000, loss: 18.68\n",
      "INFO:gensim.models.poincare:time taken for 5000 examples: 5.03 s, 993.73 examples / s\n",
      "INFO:gensim.models.poincare:training on epoch 4, examples #84990-#85000, loss: 18.71\n",
      "INFO:gensim.models.poincare:time taken for 5000 examples: 5.11 s, 978.43 examples / s\n",
      "INFO:gensim.models.poincare:training on epoch 4, examples #89990-#90000, loss: 18.67\n",
      "INFO:gensim.models.poincare:time taken for 5000 examples: 4.85 s, 1031.35 examples / s\n",
      "INFO:gensim.models.poincare:training on epoch 4, examples #94990-#95000, loss: 18.67\n",
      "INFO:gensim.models.poincare:time taken for 5000 examples: 4.78 s, 1045.62 examples / s\n",
      "INFO:gensim.models.poincare:training on epoch 4, examples #99990-#100000, loss: 18.64\n",
      "INFO:gensim.models.poincare:time taken for 5000 examples: 4.89 s, 1021.76 examples / s\n",
      "INFO:gensim.models.poincare:training on epoch 5, examples #4990-#5000, loss: 18.36\n",
      "INFO:gensim.models.poincare:time taken for 5000 examples: 4.69 s, 1067.03 examples / s\n",
      "INFO:gensim.models.poincare:training on epoch 5, examples #9990-#10000, loss: 18.28\n",
      "INFO:gensim.models.poincare:time taken for 5000 examples: 5.13 s, 975.27 examples / s\n",
      "INFO:gensim.models.poincare:training on epoch 5, examples #14990-#15000, loss: 18.30\n",
      "INFO:gensim.models.poincare:time taken for 5000 examples: 4.71 s, 1061.60 examples / s\n",
      "INFO:gensim.models.poincare:training on epoch 5, examples #19990-#20000, loss: 18.18\n",
      "INFO:gensim.models.poincare:time taken for 5000 examples: 4.86 s, 1029.21 examples / s\n",
      "INFO:gensim.models.poincare:training on epoch 5, examples #24990-#25000, loss: 18.26\n",
      "INFO:gensim.models.poincare:time taken for 5000 examples: 4.58 s, 1091.17 examples / s\n",
      "INFO:gensim.models.poincare:training on epoch 5, examples #29990-#30000, loss: 18.13\n",
      "INFO:gensim.models.poincare:time taken for 5000 examples: 4.49 s, 1113.85 examples / s\n",
      "INFO:gensim.models.poincare:training on epoch 5, examples #34990-#35000, loss: 18.13\n",
      "INFO:gensim.models.poincare:time taken for 5000 examples: 4.75 s, 1053.00 examples / s\n",
      "INFO:gensim.models.poincare:training on epoch 5, examples #39990-#40000, loss: 18.12\n",
      "INFO:gensim.models.poincare:time taken for 5000 examples: 4.66 s, 1072.15 examples / s\n",
      "INFO:gensim.models.poincare:training on epoch 5, examples #44990-#45000, loss: 18.32\n",
      "INFO:gensim.models.poincare:time taken for 5000 examples: 4.69 s, 1065.93 examples / s\n",
      "INFO:gensim.models.poincare:training on epoch 5, examples #49990-#50000, loss: 18.18\n",
      "INFO:gensim.models.poincare:time taken for 5000 examples: 4.45 s, 1123.68 examples / s\n",
      "INFO:gensim.models.poincare:training on epoch 5, examples #54990-#55000, loss: 18.24\n",
      "INFO:gensim.models.poincare:time taken for 5000 examples: 4.60 s, 1087.52 examples / s\n",
      "INFO:gensim.models.poincare:training on epoch 5, examples #59990-#60000, loss: 18.14\n",
      "INFO:gensim.models.poincare:time taken for 5000 examples: 4.63 s, 1080.73 examples / s\n",
      "INFO:gensim.models.poincare:training on epoch 5, examples #64990-#65000, loss: 18.20\n",
      "INFO:gensim.models.poincare:time taken for 5000 examples: 4.62 s, 1082.56 examples / s\n",
      "INFO:gensim.models.poincare:training on epoch 5, examples #69990-#70000, loss: 18.18\n",
      "INFO:gensim.models.poincare:time taken for 5000 examples: 4.72 s, 1058.59 examples / s\n",
      "INFO:gensim.models.poincare:training on epoch 5, examples #74990-#75000, loss: 18.20\n"
     ]
    },
    {
     "name": "stderr",
     "output_type": "stream",
     "text": [
      "INFO:gensim.models.poincare:time taken for 5000 examples: 5.03 s, 993.13 examples / s\n",
      "INFO:gensim.models.poincare:training on epoch 5, examples #79990-#80000, loss: 18.07\n",
      "INFO:gensim.models.poincare:time taken for 5000 examples: 5.19 s, 962.64 examples / s\n",
      "INFO:gensim.models.poincare:training on epoch 5, examples #84990-#85000, loss: 18.05\n",
      "INFO:gensim.models.poincare:time taken for 5000 examples: 4.83 s, 1034.50 examples / s\n",
      "INFO:gensim.models.poincare:training on epoch 5, examples #89990-#90000, loss: 18.02\n",
      "INFO:gensim.models.poincare:time taken for 5000 examples: 4.66 s, 1072.85 examples / s\n",
      "INFO:gensim.models.poincare:training on epoch 5, examples #94990-#95000, loss: 18.08\n",
      "INFO:gensim.models.poincare:time taken for 5000 examples: 5.48 s, 913.15 examples / s\n",
      "INFO:gensim.models.poincare:training on epoch 5, examples #99990-#100000, loss: 18.00\n",
      "INFO:gensim.models.poincare:time taken for 5000 examples: 4.80 s, 1041.58 examples / s\n",
      "INFO:gensim.models.poincare:training on epoch 6, examples #4990-#5000, loss: 17.80\n",
      "INFO:gensim.models.poincare:time taken for 5000 examples: 4.93 s, 1014.40 examples / s\n",
      "INFO:gensim.models.poincare:training on epoch 6, examples #9990-#10000, loss: 17.71\n",
      "INFO:gensim.models.poincare:time taken for 5000 examples: 4.82 s, 1037.68 examples / s\n",
      "INFO:gensim.models.poincare:training on epoch 6, examples #14990-#15000, loss: 17.59\n",
      "INFO:gensim.models.poincare:time taken for 5000 examples: 4.71 s, 1060.74 examples / s\n",
      "INFO:gensim.models.poincare:training on epoch 6, examples #19990-#20000, loss: 17.79\n",
      "INFO:gensim.models.poincare:time taken for 5000 examples: 4.77 s, 1048.33 examples / s\n",
      "INFO:gensim.models.poincare:training on epoch 6, examples #24990-#25000, loss: 17.73\n",
      "INFO:gensim.models.poincare:time taken for 5000 examples: 4.92 s, 1017.06 examples / s\n",
      "INFO:gensim.models.poincare:training on epoch 6, examples #29990-#30000, loss: 17.77\n",
      "INFO:gensim.models.poincare:time taken for 5000 examples: 4.68 s, 1067.30 examples / s\n",
      "INFO:gensim.models.poincare:training on epoch 6, examples #34990-#35000, loss: 17.81\n",
      "INFO:gensim.models.poincare:time taken for 5000 examples: 4.70 s, 1062.83 examples / s\n",
      "INFO:gensim.models.poincare:training on epoch 6, examples #39990-#40000, loss: 17.70\n",
      "INFO:gensim.models.poincare:time taken for 5000 examples: 4.87 s, 1027.32 examples / s\n",
      "INFO:gensim.models.poincare:training on epoch 6, examples #44990-#45000, loss: 17.77\n",
      "INFO:gensim.models.poincare:time taken for 5000 examples: 4.80 s, 1042.14 examples / s\n",
      "INFO:gensim.models.poincare:training on epoch 6, examples #49990-#50000, loss: 17.68\n",
      "INFO:gensim.models.poincare:time taken for 5000 examples: 4.87 s, 1026.07 examples / s\n",
      "INFO:gensim.models.poincare:training on epoch 6, examples #54990-#55000, loss: 17.71\n",
      "INFO:gensim.models.poincare:time taken for 5000 examples: 4.54 s, 1100.50 examples / s\n",
      "INFO:gensim.models.poincare:training on epoch 6, examples #59990-#60000, loss: 17.67\n",
      "INFO:gensim.models.poincare:time taken for 5000 examples: 4.68 s, 1069.08 examples / s\n",
      "INFO:gensim.models.poincare:training on epoch 6, examples #64990-#65000, loss: 17.67\n",
      "INFO:gensim.models.poincare:time taken for 5000 examples: 4.84 s, 1033.58 examples / s\n",
      "INFO:gensim.models.poincare:training on epoch 6, examples #69990-#70000, loss: 17.79\n",
      "INFO:gensim.models.poincare:time taken for 5000 examples: 4.91 s, 1019.01 examples / s\n",
      "INFO:gensim.models.poincare:training on epoch 6, examples #74990-#75000, loss: 17.72\n",
      "INFO:gensim.models.poincare:time taken for 5000 examples: 5.66 s, 882.67 examples / s\n",
      "INFO:gensim.models.poincare:training on epoch 6, examples #79990-#80000, loss: 17.57\n",
      "INFO:gensim.models.poincare:time taken for 5000 examples: 4.71 s, 1062.37 examples / s\n",
      "INFO:gensim.models.poincare:training on epoch 6, examples #84990-#85000, loss: 17.66\n",
      "INFO:gensim.models.poincare:time taken for 5000 examples: 6.07 s, 823.66 examples / s\n",
      "INFO:gensim.models.poincare:training on epoch 6, examples #89990-#90000, loss: 17.72\n",
      "INFO:gensim.models.poincare:time taken for 5000 examples: 4.71 s, 1061.49 examples / s\n",
      "INFO:gensim.models.poincare:training on epoch 6, examples #94990-#95000, loss: 17.47\n",
      "INFO:gensim.models.poincare:time taken for 5000 examples: 4.80 s, 1040.86 examples / s\n",
      "INFO:gensim.models.poincare:training on epoch 6, examples #99990-#100000, loss: 17.64\n",
      "INFO:gensim.models.poincare:time taken for 5000 examples: 4.71 s, 1060.91 examples / s\n",
      "INFO:gensim.models.poincare:training on epoch 7, examples #4990-#5000, loss: 17.40\n",
      "INFO:gensim.models.poincare:time taken for 5000 examples: 4.79 s, 1043.55 examples / s\n",
      "INFO:gensim.models.poincare:training on epoch 7, examples #9990-#10000, loss: 17.27\n",
      "INFO:gensim.models.poincare:time taken for 5000 examples: 4.61 s, 1084.79 examples / s\n",
      "INFO:gensim.models.poincare:training on epoch 7, examples #14990-#15000, loss: 17.22\n",
      "INFO:gensim.models.poincare:time taken for 5000 examples: 5.19 s, 963.20 examples / s\n",
      "INFO:gensim.models.poincare:training on epoch 7, examples #19990-#20000, loss: 17.37\n",
      "INFO:gensim.models.poincare:time taken for 5000 examples: 4.91 s, 1018.93 examples / s\n",
      "INFO:gensim.models.poincare:training on epoch 7, examples #24990-#25000, loss: 17.25\n",
      "INFO:gensim.models.poincare:time taken for 5000 examples: 4.84 s, 1033.67 examples / s\n",
      "INFO:gensim.models.poincare:training on epoch 7, examples #29990-#30000, loss: 17.34\n",
      "INFO:gensim.models.poincare:time taken for 5000 examples: 4.77 s, 1047.57 examples / s\n",
      "INFO:gensim.models.poincare:training on epoch 7, examples #34990-#35000, loss: 17.34\n",
      "INFO:gensim.models.poincare:time taken for 5000 examples: 4.59 s, 1089.14 examples / s\n",
      "INFO:gensim.models.poincare:training on epoch 7, examples #39990-#40000, loss: 17.31\n",
      "INFO:gensim.models.poincare:time taken for 5000 examples: 4.94 s, 1013.02 examples / s\n",
      "INFO:gensim.models.poincare:training on epoch 7, examples #44990-#45000, loss: 17.19\n",
      "INFO:gensim.models.poincare:time taken for 5000 examples: 4.54 s, 1101.98 examples / s\n",
      "INFO:gensim.models.poincare:training on epoch 7, examples #49990-#50000, loss: 17.24\n",
      "INFO:gensim.models.poincare:time taken for 5000 examples: 4.66 s, 1073.20 examples / s\n",
      "INFO:gensim.models.poincare:training on epoch 7, examples #54990-#55000, loss: 17.19\n",
      "INFO:gensim.models.poincare:time taken for 5000 examples: 4.69 s, 1065.07 examples / s\n",
      "INFO:gensim.models.poincare:training on epoch 7, examples #59990-#60000, loss: 17.28\n",
      "INFO:gensim.models.poincare:time taken for 5000 examples: 4.45 s, 1124.69 examples / s\n",
      "INFO:gensim.models.poincare:training on epoch 7, examples #64990-#65000, loss: 17.15\n",
      "INFO:gensim.models.poincare:time taken for 5000 examples: 4.66 s, 1072.41 examples / s\n",
      "INFO:gensim.models.poincare:training on epoch 7, examples #69990-#70000, loss: 17.32\n",
      "INFO:gensim.models.poincare:time taken for 5000 examples: 4.49 s, 1112.42 examples / s\n",
      "INFO:gensim.models.poincare:training on epoch 7, examples #74990-#75000, loss: 17.35\n",
      "INFO:gensim.models.poincare:time taken for 5000 examples: 5.34 s, 936.48 examples / s\n",
      "INFO:gensim.models.poincare:training on epoch 7, examples #79990-#80000, loss: 17.29\n",
      "INFO:gensim.models.poincare:time taken for 5000 examples: 4.72 s, 1058.46 examples / s\n",
      "INFO:gensim.models.poincare:training on epoch 7, examples #84990-#85000, loss: 17.34\n",
      "INFO:gensim.models.poincare:time taken for 5000 examples: 4.74 s, 1055.22 examples / s\n",
      "INFO:gensim.models.poincare:training on epoch 7, examples #89990-#90000, loss: 17.42\n",
      "INFO:gensim.models.poincare:time taken for 5000 examples: 4.46 s, 1120.16 examples / s\n",
      "INFO:gensim.models.poincare:training on epoch 7, examples #94990-#95000, loss: 17.32\n",
      "INFO:gensim.models.poincare:time taken for 5000 examples: 4.62 s, 1081.11 examples / s\n",
      "INFO:gensim.models.poincare:training on epoch 7, examples #99990-#100000, loss: 17.31\n",
      "INFO:gensim.models.poincare:time taken for 5000 examples: 4.56 s, 1095.30 examples / s\n",
      "INFO:gensim.models.poincare:training on epoch 8, examples #4990-#5000, loss: 16.95\n",
      "INFO:gensim.models.poincare:time taken for 5000 examples: 4.85 s, 1030.77 examples / s\n",
      "INFO:gensim.models.poincare:training on epoch 8, examples #9990-#10000, loss: 16.95\n",
      "INFO:gensim.models.poincare:time taken for 5000 examples: 4.59 s, 1090.12 examples / s\n",
      "INFO:gensim.models.poincare:training on epoch 8, examples #14990-#15000, loss: 16.99\n"
     ]
    },
    {
     "name": "stderr",
     "output_type": "stream",
     "text": [
      "INFO:gensim.models.poincare:time taken for 5000 examples: 4.66 s, 1072.07 examples / s\n",
      "INFO:gensim.models.poincare:training on epoch 8, examples #19990-#20000, loss: 16.96\n",
      "INFO:gensim.models.poincare:time taken for 5000 examples: 4.89 s, 1023.47 examples / s\n",
      "INFO:gensim.models.poincare:training on epoch 8, examples #24990-#25000, loss: 16.93\n",
      "INFO:gensim.models.poincare:time taken for 5000 examples: 5.24 s, 953.78 examples / s\n",
      "INFO:gensim.models.poincare:training on epoch 8, examples #29990-#30000, loss: 16.87\n",
      "INFO:gensim.models.poincare:time taken for 5000 examples: 5.03 s, 994.22 examples / s\n",
      "INFO:gensim.models.poincare:training on epoch 8, examples #34990-#35000, loss: 16.94\n",
      "INFO:gensim.models.poincare:time taken for 5000 examples: 4.81 s, 1038.69 examples / s\n",
      "INFO:gensim.models.poincare:training on epoch 8, examples #39990-#40000, loss: 16.95\n",
      "INFO:gensim.models.poincare:time taken for 5000 examples: 5.55 s, 900.49 examples / s\n",
      "INFO:gensim.models.poincare:training on epoch 8, examples #44990-#45000, loss: 16.87\n",
      "INFO:gensim.models.poincare:time taken for 5000 examples: 5.10 s, 981.09 examples / s\n",
      "INFO:gensim.models.poincare:training on epoch 8, examples #49990-#50000, loss: 16.82\n",
      "INFO:gensim.models.poincare:time taken for 5000 examples: 4.71 s, 1060.49 examples / s\n",
      "INFO:gensim.models.poincare:training on epoch 8, examples #54990-#55000, loss: 16.92\n",
      "INFO:gensim.models.poincare:time taken for 5000 examples: 4.70 s, 1064.19 examples / s\n",
      "INFO:gensim.models.poincare:training on epoch 8, examples #59990-#60000, loss: 16.88\n",
      "INFO:gensim.models.poincare:time taken for 5000 examples: 4.72 s, 1059.64 examples / s\n",
      "INFO:gensim.models.poincare:training on epoch 8, examples #64990-#65000, loss: 16.88\n",
      "INFO:gensim.models.poincare:time taken for 5000 examples: 4.64 s, 1076.88 examples / s\n",
      "INFO:gensim.models.poincare:training on epoch 8, examples #69990-#70000, loss: 16.84\n",
      "INFO:gensim.models.poincare:time taken for 5000 examples: 4.99 s, 1001.49 examples / s\n",
      "INFO:gensim.models.poincare:training on epoch 8, examples #74990-#75000, loss: 16.85\n",
      "INFO:gensim.models.poincare:time taken for 5000 examples: 5.02 s, 996.36 examples / s\n",
      "INFO:gensim.models.poincare:training on epoch 8, examples #79990-#80000, loss: 16.95\n",
      "INFO:gensim.models.poincare:time taken for 5000 examples: 4.86 s, 1029.16 examples / s\n",
      "INFO:gensim.models.poincare:training on epoch 8, examples #84990-#85000, loss: 16.93\n",
      "INFO:gensim.models.poincare:time taken for 5000 examples: 4.87 s, 1027.03 examples / s\n",
      "INFO:gensim.models.poincare:training on epoch 8, examples #89990-#90000, loss: 16.88\n",
      "INFO:gensim.models.poincare:time taken for 5000 examples: 4.86 s, 1028.69 examples / s\n",
      "INFO:gensim.models.poincare:training on epoch 8, examples #94990-#95000, loss: 16.77\n",
      "INFO:gensim.models.poincare:time taken for 5000 examples: 4.53 s, 1103.93 examples / s\n",
      "INFO:gensim.models.poincare:training on epoch 8, examples #99990-#100000, loss: 17.09\n",
      "INFO:gensim.models.poincare:time taken for 5000 examples: 5.20 s, 961.38 examples / s\n",
      "INFO:gensim.models.poincare:training on epoch 9, examples #4990-#5000, loss: 16.61\n",
      "INFO:gensim.models.poincare:time taken for 5000 examples: 5.37 s, 930.94 examples / s\n",
      "INFO:gensim.models.poincare:training on epoch 9, examples #9990-#10000, loss: 16.57\n",
      "INFO:gensim.models.poincare:time taken for 5000 examples: 4.98 s, 1003.08 examples / s\n",
      "INFO:gensim.models.poincare:training on epoch 9, examples #14990-#15000, loss: 16.46\n",
      "INFO:gensim.models.poincare:time taken for 5000 examples: 4.76 s, 1049.80 examples / s\n",
      "INFO:gensim.models.poincare:training on epoch 9, examples #19990-#20000, loss: 16.64\n",
      "INFO:gensim.models.poincare:time taken for 5000 examples: 4.98 s, 1004.13 examples / s\n",
      "INFO:gensim.models.poincare:training on epoch 9, examples #24990-#25000, loss: 16.55\n",
      "INFO:gensim.models.poincare:time taken for 5000 examples: 4.76 s, 1049.79 examples / s\n",
      "INFO:gensim.models.poincare:training on epoch 9, examples #29990-#30000, loss: 16.61\n",
      "INFO:gensim.models.poincare:time taken for 5000 examples: 4.78 s, 1046.12 examples / s\n",
      "INFO:gensim.models.poincare:training on epoch 9, examples #34990-#35000, loss: 16.64\n",
      "INFO:gensim.models.poincare:time taken for 5000 examples: 4.76 s, 1050.97 examples / s\n",
      "INFO:gensim.models.poincare:training on epoch 9, examples #39990-#40000, loss: 16.47\n",
      "INFO:gensim.models.poincare:time taken for 5000 examples: 4.98 s, 1004.25 examples / s\n",
      "INFO:gensim.models.poincare:training on epoch 9, examples #44990-#45000, loss: 16.63\n",
      "INFO:gensim.models.poincare:time taken for 5000 examples: 4.52 s, 1105.70 examples / s\n",
      "INFO:gensim.models.poincare:training on epoch 9, examples #49990-#50000, loss: 16.56\n",
      "INFO:gensim.models.poincare:time taken for 5000 examples: 4.85 s, 1030.45 examples / s\n",
      "INFO:gensim.models.poincare:training on epoch 9, examples #54990-#55000, loss: 16.50\n",
      "INFO:gensim.models.poincare:time taken for 5000 examples: 4.49 s, 1113.90 examples / s\n",
      "INFO:gensim.models.poincare:training on epoch 9, examples #59990-#60000, loss: 16.53\n",
      "INFO:gensim.models.poincare:time taken for 5000 examples: 4.72 s, 1060.05 examples / s\n",
      "INFO:gensim.models.poincare:training on epoch 9, examples #64990-#65000, loss: 16.51\n",
      "INFO:gensim.models.poincare:time taken for 5000 examples: 5.23 s, 955.53 examples / s\n",
      "INFO:gensim.models.poincare:training on epoch 9, examples #69990-#70000, loss: 16.61\n",
      "INFO:gensim.models.poincare:time taken for 5000 examples: 4.72 s, 1058.38 examples / s\n",
      "INFO:gensim.models.poincare:training on epoch 9, examples #74990-#75000, loss: 16.48\n",
      "INFO:gensim.models.poincare:time taken for 5000 examples: 4.80 s, 1041.62 examples / s\n",
      "INFO:gensim.models.poincare:training on epoch 9, examples #79990-#80000, loss: 16.71\n",
      "INFO:gensim.models.poincare:time taken for 5000 examples: 4.96 s, 1007.07 examples / s\n",
      "INFO:gensim.models.poincare:training on epoch 9, examples #84990-#85000, loss: 16.67\n",
      "INFO:gensim.models.poincare:time taken for 5000 examples: 4.90 s, 1019.93 examples / s\n",
      "INFO:gensim.models.poincare:training on epoch 9, examples #89990-#90000, loss: 16.66\n",
      "INFO:gensim.models.poincare:time taken for 5000 examples: 5.33 s, 938.77 examples / s\n",
      "INFO:gensim.models.poincare:training on epoch 9, examples #94990-#95000, loss: 16.69\n",
      "INFO:gensim.models.poincare:time taken for 5000 examples: 4.55 s, 1099.34 examples / s\n",
      "INFO:gensim.models.poincare:training on epoch 9, examples #99990-#100000, loss: 16.52\n",
      "INFO:gensim.models.poincare:time taken for 5000 examples: 4.69 s, 1065.49 examples / s\n",
      "INFO:gensim.models.poincare:training on epoch 10, examples #4990-#5000, loss: 16.37\n",
      "INFO:gensim.models.poincare:time taken for 5000 examples: 4.95 s, 1010.49 examples / s\n",
      "INFO:gensim.models.poincare:training on epoch 10, examples #9990-#10000, loss: 16.33\n",
      "INFO:gensim.models.poincare:time taken for 5000 examples: 4.76 s, 1050.35 examples / s\n",
      "INFO:gensim.models.poincare:training on epoch 10, examples #14990-#15000, loss: 16.18\n",
      "INFO:gensim.models.poincare:time taken for 5000 examples: 4.79 s, 1044.28 examples / s\n",
      "INFO:gensim.models.poincare:training on epoch 10, examples #19990-#20000, loss: 16.14\n",
      "INFO:gensim.models.poincare:time taken for 5000 examples: 4.35 s, 1150.10 examples / s\n",
      "INFO:gensim.models.poincare:training on epoch 10, examples #24990-#25000, loss: 16.35\n",
      "INFO:gensim.models.poincare:time taken for 5000 examples: 4.53 s, 1103.28 examples / s\n",
      "INFO:gensim.models.poincare:training on epoch 10, examples #29990-#30000, loss: 16.08\n",
      "INFO:gensim.models.poincare:time taken for 5000 examples: 4.62 s, 1081.37 examples / s\n",
      "INFO:gensim.models.poincare:training on epoch 10, examples #34990-#35000, loss: 16.39\n",
      "INFO:gensim.models.poincare:time taken for 5000 examples: 5.70 s, 876.91 examples / s\n",
      "INFO:gensim.models.poincare:training on epoch 10, examples #39990-#40000, loss: 16.26\n",
      "INFO:gensim.models.poincare:time taken for 5000 examples: 5.24 s, 953.65 examples / s\n",
      "INFO:gensim.models.poincare:training on epoch 10, examples #44990-#45000, loss: 16.34\n",
      "INFO:gensim.models.poincare:time taken for 5000 examples: 4.80 s, 1042.15 examples / s\n",
      "INFO:gensim.models.poincare:training on epoch 10, examples #49990-#50000, loss: 16.38\n",
      "INFO:gensim.models.poincare:time taken for 5000 examples: 5.24 s, 953.69 examples / s\n",
      "INFO:gensim.models.poincare:training on epoch 10, examples #54990-#55000, loss: 16.37\n"
     ]
    },
    {
     "name": "stderr",
     "output_type": "stream",
     "text": [
      "INFO:gensim.models.poincare:time taken for 5000 examples: 4.75 s, 1053.62 examples / s\n",
      "INFO:gensim.models.poincare:training on epoch 10, examples #59990-#60000, loss: 16.23\n",
      "INFO:gensim.models.poincare:time taken for 5000 examples: 4.52 s, 1106.75 examples / s\n",
      "INFO:gensim.models.poincare:training on epoch 10, examples #64990-#65000, loss: 16.22\n",
      "INFO:gensim.models.poincare:time taken for 5000 examples: 4.62 s, 1082.01 examples / s\n",
      "INFO:gensim.models.poincare:training on epoch 10, examples #69990-#70000, loss: 16.32\n",
      "INFO:gensim.models.poincare:time taken for 5000 examples: 4.77 s, 1047.20 examples / s\n",
      "INFO:gensim.models.poincare:training on epoch 10, examples #74990-#75000, loss: 16.30\n",
      "INFO:gensim.models.poincare:time taken for 5000 examples: 4.69 s, 1065.87 examples / s\n",
      "INFO:gensim.models.poincare:training on epoch 10, examples #79990-#80000, loss: 16.46\n",
      "INFO:gensim.models.poincare:time taken for 5000 examples: 54.22 s, 92.21 examples / s\n",
      "INFO:gensim.models.poincare:training on epoch 10, examples #84990-#85000, loss: 16.22\n",
      "INFO:gensim.models.poincare:time taken for 5000 examples: 9.77 s, 511.97 examples / s\n",
      "INFO:gensim.models.poincare:training on epoch 10, examples #89990-#90000, loss: 16.43\n",
      "INFO:gensim.models.poincare:time taken for 5000 examples: 6.21 s, 805.29 examples / s\n",
      "INFO:gensim.models.poincare:training on epoch 10, examples #94990-#95000, loss: 16.18\n",
      "INFO:gensim.models.poincare:time taken for 5000 examples: 4.97 s, 1005.86 examples / s\n",
      "INFO:gensim.models.poincare:training on epoch 10, examples #99990-#100000, loss: 16.22\n",
      "INFO:gensim.models.poincare:time taken for 5000 examples: 4.96 s, 1008.54 examples / s\n",
      "INFO:gensim.models.poincare:training finished\n"
     ]
    }
   ],
   "source": [
    "model.train(epochs=10, print_every=500)"
   ]
  },
  {
   "cell_type": "code",
   "execution_count": 91,
   "metadata": {},
   "outputs": [
    {
     "name": "stderr",
     "output_type": "stream",
     "text": [
      "INFO:gensim.utils:saving PoincareModel object under /tmp/test_model, separately None\n",
      "INFO:gensim.utils:not storing attribute _node_counts_cumsum\n",
      "INFO:gensim.utils:not storing attribute _node_probabilities\n",
      "INFO:gensim.utils:saved /tmp/test_model\n",
      "INFO:gensim.utils:loading PoincareModel object from /tmp/test_model\n",
      "INFO:gensim.utils:loading kv recursively from /tmp/test_model.kv.* with mmap=None\n",
      "INFO:gensim.utils:setting ignored attribute _node_counts_cumsum to None\n",
      "INFO:gensim.utils:setting ignored attribute _node_probabilities to None\n",
      "INFO:gensim.utils:loaded /tmp/test_model\n"
     ]
    },
    {
     "data": {
      "text/plain": [
       "<gensim.models.poincare.PoincareModel at 0x11510a8d0>"
      ]
     },
     "execution_count": 91,
     "metadata": {},
     "output_type": "execute_result"
    }
   ],
   "source": [
    "# Saves the entire PoincareModel instance, the loaded model can be trained further\n",
    "model.save('/tmp/test_model')\n",
    "PoincareModel.load('/tmp/test_model')"
   ]
  },
  {
   "cell_type": "code",
   "execution_count": 92,
   "metadata": {},
   "outputs": [
    {
     "name": "stderr",
     "output_type": "stream",
     "text": [
      "INFO:gensim.models.utils_any2vec:storing 5831x2 projection weights into /tmp/test_vectors\n",
      "INFO:gensim.models.utils_any2vec:loading projection weights from /tmp/test_vectors\n"
     ]
    },
    {
     "ename": "ValueError",
     "evalue": "invalid vector on line 64 (is this really the text format?)",
     "output_type": "error",
     "traceback": [
      "\u001b[0;31m---------------------------------------------------------------------------\u001b[0m",
      "\u001b[0;31mValueError\u001b[0m                                Traceback (most recent call last)",
      "\u001b[0;32m<ipython-input-92-aee2a9f03167>\u001b[0m in \u001b[0;36m<module>\u001b[0;34m\u001b[0m\n\u001b[1;32m      1\u001b[0m \u001b[0;31m# Saves only the vectors from the PoincareModel instance, in the commonly used word2vec format\u001b[0m\u001b[0;34m\u001b[0m\u001b[0;34m\u001b[0m\u001b[0;34m\u001b[0m\u001b[0m\n\u001b[1;32m      2\u001b[0m \u001b[0mmodel\u001b[0m\u001b[0;34m.\u001b[0m\u001b[0mkv\u001b[0m\u001b[0;34m.\u001b[0m\u001b[0msave_word2vec_format\u001b[0m\u001b[0;34m(\u001b[0m\u001b[0;34m'/tmp/test_vectors'\u001b[0m\u001b[0;34m)\u001b[0m\u001b[0;34m\u001b[0m\u001b[0;34m\u001b[0m\u001b[0m\n\u001b[0;32m----> 3\u001b[0;31m \u001b[0mPoincareKeyedVectors\u001b[0m\u001b[0;34m.\u001b[0m\u001b[0mload_word2vec_format\u001b[0m\u001b[0;34m(\u001b[0m\u001b[0;34m'/tmp/test_vectors'\u001b[0m\u001b[0;34m)\u001b[0m\u001b[0;34m\u001b[0m\u001b[0;34m\u001b[0m\u001b[0m\n\u001b[0m",
      "\u001b[0;32m/usr/local/lib/python3.7/site-packages/gensim/models/poincare.py\u001b[0m in \u001b[0;36mload_word2vec_format\u001b[0;34m(cls, fname, fvocab, binary, encoding, unicode_errors, limit, datatype)\u001b[0m\n\u001b[1;32m    947\u001b[0m         return _load_word2vec_format(\n\u001b[1;32m    948\u001b[0m             \u001b[0mcls\u001b[0m\u001b[0;34m,\u001b[0m \u001b[0mfname\u001b[0m\u001b[0;34m,\u001b[0m \u001b[0mfvocab\u001b[0m\u001b[0;34m=\u001b[0m\u001b[0mfvocab\u001b[0m\u001b[0;34m,\u001b[0m \u001b[0mbinary\u001b[0m\u001b[0;34m=\u001b[0m\u001b[0mbinary\u001b[0m\u001b[0;34m,\u001b[0m \u001b[0mencoding\u001b[0m\u001b[0;34m=\u001b[0m\u001b[0mencoding\u001b[0m\u001b[0;34m,\u001b[0m \u001b[0municode_errors\u001b[0m\u001b[0;34m=\u001b[0m\u001b[0municode_errors\u001b[0m\u001b[0;34m,\u001b[0m\u001b[0;34m\u001b[0m\u001b[0;34m\u001b[0m\u001b[0m\n\u001b[0;32m--> 949\u001b[0;31m             limit=limit, datatype=datatype)\n\u001b[0m\u001b[1;32m    950\u001b[0m \u001b[0;34m\u001b[0m\u001b[0m\n\u001b[1;32m    951\u001b[0m     \u001b[0;34m@\u001b[0m\u001b[0mstaticmethod\u001b[0m\u001b[0;34m\u001b[0m\u001b[0;34m\u001b[0m\u001b[0m\n",
      "\u001b[0;32m/usr/local/lib/python3.7/site-packages/gensim/models/utils_any2vec.py\u001b[0m in \u001b[0;36m_load_word2vec_format\u001b[0;34m(cls, fname, fvocab, binary, encoding, unicode_errors, limit, datatype)\u001b[0m\n\u001b[1;32m    219\u001b[0m                 \u001b[0mparts\u001b[0m \u001b[0;34m=\u001b[0m \u001b[0mutils\u001b[0m\u001b[0;34m.\u001b[0m\u001b[0mto_unicode\u001b[0m\u001b[0;34m(\u001b[0m\u001b[0mline\u001b[0m\u001b[0;34m.\u001b[0m\u001b[0mrstrip\u001b[0m\u001b[0;34m(\u001b[0m\u001b[0;34m)\u001b[0m\u001b[0;34m,\u001b[0m \u001b[0mencoding\u001b[0m\u001b[0;34m=\u001b[0m\u001b[0mencoding\u001b[0m\u001b[0;34m,\u001b[0m \u001b[0merrors\u001b[0m\u001b[0;34m=\u001b[0m\u001b[0municode_errors\u001b[0m\u001b[0;34m)\u001b[0m\u001b[0;34m.\u001b[0m\u001b[0msplit\u001b[0m\u001b[0;34m(\u001b[0m\u001b[0;34m\" \"\u001b[0m\u001b[0;34m)\u001b[0m\u001b[0;34m\u001b[0m\u001b[0;34m\u001b[0m\u001b[0m\n\u001b[1;32m    220\u001b[0m                 \u001b[0;32mif\u001b[0m \u001b[0mlen\u001b[0m\u001b[0;34m(\u001b[0m\u001b[0mparts\u001b[0m\u001b[0;34m)\u001b[0m \u001b[0;34m!=\u001b[0m \u001b[0mvector_size\u001b[0m \u001b[0;34m+\u001b[0m \u001b[0;36m1\u001b[0m\u001b[0;34m:\u001b[0m\u001b[0;34m\u001b[0m\u001b[0;34m\u001b[0m\u001b[0m\n\u001b[0;32m--> 221\u001b[0;31m                     \u001b[0;32mraise\u001b[0m \u001b[0mValueError\u001b[0m\u001b[0;34m(\u001b[0m\u001b[0;34m\"invalid vector on line %s (is this really the text format?)\"\u001b[0m \u001b[0;34m%\u001b[0m \u001b[0mline_no\u001b[0m\u001b[0;34m)\u001b[0m\u001b[0;34m\u001b[0m\u001b[0;34m\u001b[0m\u001b[0m\n\u001b[0m\u001b[1;32m    222\u001b[0m                 \u001b[0mword\u001b[0m\u001b[0;34m,\u001b[0m \u001b[0mweights\u001b[0m \u001b[0;34m=\u001b[0m \u001b[0mparts\u001b[0m\u001b[0;34m[\u001b[0m\u001b[0;36m0\u001b[0m\u001b[0;34m]\u001b[0m\u001b[0;34m,\u001b[0m \u001b[0;34m[\u001b[0m\u001b[0mdatatype\u001b[0m\u001b[0;34m(\u001b[0m\u001b[0mx\u001b[0m\u001b[0;34m)\u001b[0m \u001b[0;32mfor\u001b[0m \u001b[0mx\u001b[0m \u001b[0;32min\u001b[0m \u001b[0mparts\u001b[0m\u001b[0;34m[\u001b[0m\u001b[0;36m1\u001b[0m\u001b[0;34m:\u001b[0m\u001b[0;34m]\u001b[0m\u001b[0;34m]\u001b[0m\u001b[0;34m\u001b[0m\u001b[0;34m\u001b[0m\u001b[0m\n\u001b[1;32m    223\u001b[0m                 \u001b[0madd_word\u001b[0m\u001b[0;34m(\u001b[0m\u001b[0mword\u001b[0m\u001b[0;34m,\u001b[0m \u001b[0mweights\u001b[0m\u001b[0;34m)\u001b[0m\u001b[0;34m\u001b[0m\u001b[0;34m\u001b[0m\u001b[0m\n",
      "\u001b[0;31mValueError\u001b[0m: invalid vector on line 64 (is this really the text format?)"
     ]
    }
   ],
   "source": [
    "# Saves only the vectors from the PoincareModel instance, in the commonly used word2vec format\n",
    "model.kv.save_word2vec_format('/tmp/test_vectors')\n",
    "PoincareKeyedVectors.load_word2vec_format('/tmp/test_vectors')"
   ]
  },
  {
   "cell_type": "code",
   "execution_count": null,
   "metadata": {},
   "outputs": [],
   "source": [
    "# Load an example model\n",
    "models_directory = os.path.join(poincare_directory, 'models')\n",
    "test_model_path = os.path.join(models_directory, 'gensim_model_batch_size_10_burn_in_0_epochs_50_neg_20_dim_50')\n",
    "model = PoincareModel.load(test_model_path)"
   ]
  },
  {
   "cell_type": "code",
   "execution_count": 19,
   "metadata": {},
   "outputs": [
    {
     "data": {
      "text/plain": [
       "0.6854747728257378"
      ]
     },
     "execution_count": 19,
     "metadata": {},
     "output_type": "execute_result"
    }
   ],
   "source": [
    "# Distance between any two nodes\n",
    "model.kv.distance('hare.n.01', 'jersey.n.05')"
   ]
  },
  {
   "cell_type": "code",
   "execution_count": 95,
   "metadata": {},
   "outputs": [
    {
     "data": {
      "text/plain": [
       "[('coriander', 0.02646283098569926),\n",
       " ('oregano', 0.05493297556727003),\n",
       " ('turmeric', 0.1076630208944009),\n",
       " ('clove', 0.12477767067941654),\n",
       " ('soy product', 0.13095988295767166),\n",
       " ('tofu', 0.1498258027193872),\n",
       " ('high fat food', 0.1511469300138747),\n",
       " ('soy food', 0.1534957693045742),\n",
       " ('french fries', 0.16056566600918049),\n",
       " ('sunflower', 0.1876596173139109)]"
      ]
     },
     "execution_count": 95,
     "metadata": {},
     "output_type": "execute_result"
    }
   ],
   "source": [
    "model.kv.most_similar('bread')"
   ]
  },
  {
   "cell_type": "code",
   "execution_count": 98,
   "metadata": {},
   "outputs": [
    {
     "data": {
      "text/plain": [
       "'fiber rich food'"
      ]
     },
     "execution_count": 98,
     "metadata": {},
     "output_type": "execute_result"
    }
   ],
   "source": [
    "model.kv.closest_child('vegetable')"
   ]
  },
  {
   "cell_type": "code",
   "execution_count": 31,
   "metadata": {},
   "outputs": [
    {
     "data": {
      "text/plain": [
       "'lion.n.01'"
      ]
     },
     "execution_count": 31,
     "metadata": {},
     "output_type": "execute_result"
    }
   ],
   "source": [
    "model.kv.closest_parent('big_cat.n.01')"
   ]
  },
  {
   "cell_type": "code",
   "execution_count": 33,
   "metadata": {
    "collapsed": true
   },
   "outputs": [
    {
     "ename": "KeyError",
     "evalue": "\"'mamal.n.01' not in vocabulary\"",
     "output_type": "error",
     "traceback": [
      "\u001b[0;31m---------------------------------------------------------------------------\u001b[0m",
      "\u001b[0;31mKeyError\u001b[0m                                  Traceback (most recent call last)",
      "\u001b[0;32m<ipython-input-33-a3141b8c9f40>\u001b[0m in \u001b[0;36m<module>\u001b[0;34m\u001b[0m\n\u001b[0;32m----> 1\u001b[0;31m \u001b[0mprint\u001b[0m\u001b[0;34m(\u001b[0m\u001b[0mmodel\u001b[0m\u001b[0;34m.\u001b[0m\u001b[0mkv\u001b[0m\u001b[0;34m.\u001b[0m\u001b[0mnorm\u001b[0m\u001b[0;34m(\u001b[0m\u001b[0;34m'mamal.n.01'\u001b[0m\u001b[0;34m)\u001b[0m\u001b[0;34m)\u001b[0m\u001b[0;34m\u001b[0m\u001b[0;34m\u001b[0m\u001b[0m\n\u001b[0m\u001b[1;32m      2\u001b[0m \u001b[0mprint\u001b[0m\u001b[0;34m(\u001b[0m\u001b[0mmodel\u001b[0m\u001b[0;34m.\u001b[0m\u001b[0mkv\u001b[0m\u001b[0;34m.\u001b[0m\u001b[0mnorm\u001b[0m\u001b[0;34m(\u001b[0m\u001b[0;34m'lion.n.01'\u001b[0m\u001b[0;34m)\u001b[0m\u001b[0;34m)\u001b[0m\u001b[0;34m\u001b[0m\u001b[0;34m\u001b[0m\u001b[0m\n",
      "\u001b[0;32m/usr/local/lib/python3.7/site-packages/gensim/models/poincare.py\u001b[0m in \u001b[0;36mnorm\u001b[0;34m(self, node_or_vector)\u001b[0m\n\u001b[1;32m   1304\u001b[0m         \"\"\"\n\u001b[1;32m   1305\u001b[0m         \u001b[0;32mif\u001b[0m \u001b[0misinstance\u001b[0m\u001b[0;34m(\u001b[0m\u001b[0mnode_or_vector\u001b[0m\u001b[0;34m,\u001b[0m \u001b[0mstring_types\u001b[0m\u001b[0;34m)\u001b[0m\u001b[0;34m:\u001b[0m\u001b[0;34m\u001b[0m\u001b[0;34m\u001b[0m\u001b[0m\n\u001b[0;32m-> 1306\u001b[0;31m             \u001b[0minput_vector\u001b[0m \u001b[0;34m=\u001b[0m \u001b[0mself\u001b[0m\u001b[0;34m.\u001b[0m\u001b[0mword_vec\u001b[0m\u001b[0;34m(\u001b[0m\u001b[0mnode_or_vector\u001b[0m\u001b[0;34m)\u001b[0m\u001b[0;34m\u001b[0m\u001b[0;34m\u001b[0m\u001b[0m\n\u001b[0m\u001b[1;32m   1307\u001b[0m         \u001b[0;32melse\u001b[0m\u001b[0;34m:\u001b[0m\u001b[0;34m\u001b[0m\u001b[0;34m\u001b[0m\u001b[0m\n\u001b[1;32m   1308\u001b[0m             \u001b[0minput_vector\u001b[0m \u001b[0;34m=\u001b[0m \u001b[0mnode_or_vector\u001b[0m\u001b[0;34m\u001b[0m\u001b[0;34m\u001b[0m\u001b[0m\n",
      "\u001b[0;32m/usr/local/lib/python3.7/site-packages/gensim/models/poincare.py\u001b[0m in \u001b[0;36mword_vec\u001b[0;34m(self, word)\u001b[0m\n\u001b[1;32m    854\u001b[0m \u001b[0;34m\u001b[0m\u001b[0m\n\u001b[1;32m    855\u001b[0m         \"\"\"\n\u001b[0;32m--> 856\u001b[0;31m         \u001b[0;32mreturn\u001b[0m \u001b[0msuper\u001b[0m\u001b[0;34m(\u001b[0m\u001b[0mPoincareKeyedVectors\u001b[0m\u001b[0;34m,\u001b[0m \u001b[0mself\u001b[0m\u001b[0;34m)\u001b[0m\u001b[0;34m.\u001b[0m\u001b[0mget_vector\u001b[0m\u001b[0;34m(\u001b[0m\u001b[0mword\u001b[0m\u001b[0;34m)\u001b[0m\u001b[0;34m\u001b[0m\u001b[0;34m\u001b[0m\u001b[0m\n\u001b[0m\u001b[1;32m    857\u001b[0m \u001b[0;34m\u001b[0m\u001b[0m\n\u001b[1;32m    858\u001b[0m     \u001b[0;32mdef\u001b[0m \u001b[0mwords_closer_than\u001b[0m\u001b[0;34m(\u001b[0m\u001b[0mself\u001b[0m\u001b[0;34m,\u001b[0m \u001b[0mw1\u001b[0m\u001b[0;34m,\u001b[0m \u001b[0mw2\u001b[0m\u001b[0;34m)\u001b[0m\u001b[0;34m:\u001b[0m\u001b[0;34m\u001b[0m\u001b[0;34m\u001b[0m\u001b[0m\n",
      "\u001b[0;32m/usr/local/lib/python3.7/site-packages/gensim/models/keyedvectors.py\u001b[0m in \u001b[0;36mget_vector\u001b[0;34m(self, entity)\u001b[0m\n\u001b[1;32m    258\u001b[0m             \u001b[0;32mreturn\u001b[0m \u001b[0mresult\u001b[0m\u001b[0;34m\u001b[0m\u001b[0;34m\u001b[0m\u001b[0m\n\u001b[1;32m    259\u001b[0m         \u001b[0;32melse\u001b[0m\u001b[0;34m:\u001b[0m\u001b[0;34m\u001b[0m\u001b[0;34m\u001b[0m\u001b[0m\n\u001b[0;32m--> 260\u001b[0;31m             \u001b[0;32mraise\u001b[0m \u001b[0mKeyError\u001b[0m\u001b[0;34m(\u001b[0m\u001b[0;34m\"'%s' not in vocabulary\"\u001b[0m \u001b[0;34m%\u001b[0m \u001b[0mentity\u001b[0m\u001b[0;34m)\u001b[0m\u001b[0;34m\u001b[0m\u001b[0;34m\u001b[0m\u001b[0m\n\u001b[0m\u001b[1;32m    261\u001b[0m \u001b[0;34m\u001b[0m\u001b[0m\n\u001b[1;32m    262\u001b[0m     \u001b[0;32mdef\u001b[0m \u001b[0madd\u001b[0m\u001b[0;34m(\u001b[0m\u001b[0mself\u001b[0m\u001b[0;34m,\u001b[0m \u001b[0mentities\u001b[0m\u001b[0;34m,\u001b[0m \u001b[0mweights\u001b[0m\u001b[0;34m,\u001b[0m \u001b[0mreplace\u001b[0m\u001b[0;34m=\u001b[0m\u001b[0;32mFalse\u001b[0m\u001b[0;34m)\u001b[0m\u001b[0;34m:\u001b[0m\u001b[0;34m\u001b[0m\u001b[0;34m\u001b[0m\u001b[0m\n",
      "\u001b[0;31mKeyError\u001b[0m: \"'mamal.n.01' not in vocabulary\""
     ]
    }
   ],
   "source": [
    "print(model.kv.norm('mamal.n.01'))\n",
    "print(model.kv.norm('lion.n.01'))"
   ]
  },
  {
   "cell_type": "code",
   "execution_count": 105,
   "metadata": {},
   "outputs": [
    {
     "data": {
      "text/plain": [
       "['installing a ceiling fan',\n",
       " 'resveratrol',\n",
       " 'pressure sensor',\n",
       " 'donepezil',\n",
       " 'verilog',\n",
       " 'alga',\n",
       " 'nutrition',\n",
       " 'terrorism',\n",
       " 'transfer',\n",
       " 'hardware description language',\n",
       " 'promotion',\n",
       " 'london design festival',\n",
       " 'grief']"
      ]
     },
     "execution_count": 105,
     "metadata": {},
     "output_type": "execute_result"
    }
   ],
   "source": [
    "model.kv.ancestors('tobacco')"
   ]
  },
  {
   "cell_type": "code",
   "execution_count": 101,
   "metadata": {},
   "outputs": [
    {
     "data": {
      "text/plain": [
       "'file:///Users/akshit.jain/notebooks/kg/temp-plot.html'"
      ]
     },
     "execution_count": 101,
     "metadata": {},
     "output_type": "execute_result"
    }
   ],
   "source": [
    "from gensim.viz.poincare import poincare_2d_visualization\n",
    "import plotly.offline as py\n",
    "fig=poincare_2d_visualization(model=model, tree=relations,figure_title='foo')\n",
    "py.plot(fig)\n",
    "# frozenset(relations)"
   ]
  }
 ],
 "metadata": {
  "kernelspec": {
   "display_name": "Python (gensim)",
   "language": "python",
   "name": "gensim"
  },
  "language_info": {
   "codemirror_mode": {
    "name": "ipython",
    "version": 3
   },
   "file_extension": ".py",
   "mimetype": "text/x-python",
   "name": "python",
   "nbconvert_exporter": "python",
   "pygments_lexer": "ipython3",
   "version": "3.7.1"
  }
 },
 "nbformat": 4,
 "nbformat_minor": 2
}
