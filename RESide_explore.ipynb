{
 "cells": [
  {
   "cell_type": "code",
   "execution_count": 2,
   "metadata": {},
   "outputs": [],
   "source": [
    "import os\n",
    "os.chdir('/Users/akshit.jain/repos/RESIDE/data')"
   ]
  },
  {
   "cell_type": "code",
   "execution_count": 1,
   "metadata": {},
   "outputs": [],
   "source": [
    "import pickle as pk"
   ]
  },
  {
   "cell_type": "code",
   "execution_count": 4,
   "metadata": {},
   "outputs": [],
   "source": [
    "with open('gids_processed.pkl', 'rb') as f:\n",
    "    dat=pk.load(f)"
   ]
  },
  {
   "cell_type": "code",
   "execution_count": 9,
   "metadata": {},
   "outputs": [
    {
     "data": {
      "text/plain": [
       "['voc2id', 'dev', 'train', 'rel2id', 'id2voc', 'test', 'max_pos', 'type2id']"
      ]
     },
     "execution_count": 9,
     "metadata": {},
     "output_type": "execute_result"
    }
   ],
   "source": [
    "list(dat.keys())[:10]"
   ]
  },
  {
   "cell_type": "code",
   "execution_count": 58,
   "metadata": {},
   "outputs": [],
   "source": [
    "voc=dat['id2voc']\n",
    "# voc=Struct(**)\n",
    "# len(dat['voc2id'])"
   ]
  },
  {
   "cell_type": "code",
   "execution_count": 23,
   "metadata": {},
   "outputs": [],
   "source": [
    "train=dat['train'][0]"
   ]
  },
  {
   "cell_type": "code",
   "execution_count": 28,
   "metadata": {},
   "outputs": [],
   "source": [
    "class Struct:\n",
    "    def __init__(self, **entries):\n",
    "        self.__dict__.update(entries)\n",
    "train=Struct(**train)"
   ]
  },
  {
   "cell_type": "code",
   "execution_count": 60,
   "metadata": {},
   "outputs": [
    {
     "name": "stdout",
     "output_type": "stream",
     "text": [
      "august_froehlich 26 january 1891 - 22 june 1942 was a german roman catholic priest . in his pastoral activity he opposed national socialism . he campaigned in the name of german catholics and of polish forced labourers . he died in dachau buchenwald_concentration_camp camp .\n",
      "from 1937 to 1942 he lived in rathenow as a parish priest in the church of saint georg . numerous polish forced labourers worked in the rathenow area . because polish catholics were not allowed to participate in german worship , august_froehlich and his assistant priest celebrated separate sunday masses for them . when he heard about maltreatment of polish forced labourers ( e.g. of a pregnant woman ) , he brought that courageously into public and spoke about it during church announcements . that caused reaction of nazi authorities . he was arrested . on 28th of july ,\n"
     ]
    }
   ],
   "source": [
    "for s in train.X:\n",
    "    print(' '.join([voc[i] for i in s]))"
   ]
  },
  {
   "cell_type": "code",
   "execution_count": 72,
   "metadata": {},
   "outputs": [
    {
     "data": {
      "text/plain": [
       "[[(2, 0, 0, 1),\n",
       "  (2, 1, 0, 1),\n",
       "  (13, 2, 0, 1),\n",
       "  (2, 3, 0, 1),\n",
       "  (2, 4, 0, 1),\n",
       "  (6, 5, 0, 1),\n",
       "  (13, 6, 0, 1),\n",
       "  (6, 7, 0, 1),\n",
       "  (13, 8, 0, 1),\n",
       "  (13, 9, 0, 1),\n",
       "  (13, 10, 0, 1),\n",
       "  (13, 11, 0, 1),\n",
       "  (13, 12, 0, 1),\n",
       "  (13, 14, 0, 1),\n",
       "  (18, 15, 0, 1),\n",
       "  (18, 16, 0, 1),\n",
       "  (18, 17, 0, 1),\n",
       "  (20, 18, 0, 1),\n",
       "  (20, 19, 0, 1),\n",
       "  (22, 21, 0, 1),\n",
       "  (20, 22, 0, 1),\n",
       "  (20, 23, 0, 1),\n",
       "  (25, 24, 0, 1),\n",
       "  (28, 26, 0, 1),\n",
       "  (28, 27, 0, 1),\n",
       "  (25, 28, 0, 1),\n",
       "  (31, 29, 0, 1),\n",
       "  (31, 30, 0, 1),\n",
       "  (28, 31, 0, 1),\n",
       "  (31, 32, 0, 1),\n",
       "  (36, 33, 0, 1),\n",
       "  (36, 34, 0, 1),\n",
       "  (36, 35, 0, 1),\n",
       "  (31, 36, 0, 1),\n",
       "  (25, 37, 0, 1),\n",
       "  (39, 38, 0, 1),\n",
       "  (43, 40, 0, 1),\n",
       "  (43, 41, 0, 1),\n",
       "  (43, 42, 0, 1),\n",
       "  (39, 43, 0, 1),\n",
       "  (39, 44, 0, 1)],\n",
       " [(1, 0, 0, 1),\n",
       "  (3, 2, 0, 1),\n",
       "  (1, 3, 0, 1),\n",
       "  (5, 4, 0, 1),\n",
       "  (3, 5, 0, 1),\n",
       "  (7, 6, 0, 1),\n",
       "  (5, 7, 0, 1),\n",
       "  (11, 8, 0, 1),\n",
       "  (11, 9, 0, 1),\n",
       "  (11, 10, 0, 1),\n",
       "  (5, 11, 0, 1),\n",
       "  (14, 12, 0, 1),\n",
       "  (14, 13, 0, 1),\n",
       "  (11, 14, 0, 1),\n",
       "  (17, 15, 0, 1),\n",
       "  (17, 16, 0, 1),\n",
       "  (14, 17, 0, 1),\n",
       "  (1, 18, 0, 1),\n",
       "  (22, 19, 0, 1),\n",
       "  (22, 20, 0, 1),\n",
       "  (22, 21, 0, 1),\n",
       "  (23, 22, 0, 1),\n",
       "  (27, 24, 0, 1),\n",
       "  (27, 25, 0, 1),\n",
       "  (27, 26, 0, 1),\n",
       "  (23, 27, 0, 1),\n",
       "  (23, 28, 0, 1),\n",
       "  (46, 29, 0, 1),\n",
       "  (31, 30, 0, 1),\n",
       "  (34, 31, 0, 1),\n",
       "  (34, 32, 0, 1),\n",
       "  (34, 33, 0, 1),\n",
       "  (46, 34, 0, 1),\n",
       "  (36, 35, 0, 1),\n",
       "  (34, 36, 0, 1),\n",
       "  (39, 37, 0, 1),\n",
       "  (39, 38, 0, 1),\n",
       "  (36, 39, 0, 1),\n",
       "  (39, 40, 0, 1),\n",
       "  (39, 41, 0, 1),\n",
       "  (39, 42, 0, 1),\n",
       "  (45, 43, 0, 1),\n",
       "  (45, 44, 0, 1),\n",
       "  (39, 45, 0, 1),\n",
       "  (49, 47, 0, 1),\n",
       "  (49, 48, 0, 1),\n",
       "  (46, 49, 0, 1),\n",
       "  (51, 50, 0, 1),\n",
       "  (46, 51, 0, 1),\n",
       "  (46, 52, 0, 1),\n",
       "  (55, 53, 0, 1),\n",
       "  (55, 54, 0, 1),\n",
       "  (63, 55, 0, 1),\n",
       "  (57, 56, 0, 1),\n",
       "  (55, 57, 0, 1),\n",
       "  (61, 58, 0, 1),\n",
       "  (61, 59, 0, 1),\n",
       "  (61, 60, 0, 1),\n",
       "  (57, 61, 0, 1),\n",
       "  (63, 62, 0, 1),\n",
       "  (71, 63, 0, 1),\n",
       "  (67, 64, 0, 1),\n",
       "  (67, 65, 0, 1),\n",
       "  (67, 66, 0, 1),\n",
       "  (63, 67, 0, 1),\n",
       "  (63, 68, 0, 1),\n",
       "  (71, 69, 0, 1),\n",
       "  (71, 70, 0, 1),\n",
       "  (71, 72, 0, 1),\n",
       "  (71, 73, 0, 1),\n",
       "  (75, 74, 0, 1),\n",
       "  (73, 75, 0, 1),\n",
       "  (71, 76, 0, 1),\n",
       "  (71, 77, 0, 1),\n",
       "  (79, 78, 0, 1),\n",
       "  (77, 79, 0, 1),\n",
       "  (82, 80, 0, 1),\n",
       "  (82, 81, 0, 1),\n",
       "  (77, 82, 0, 1),\n",
       "  (71, 83, 0, 1),\n",
       "  (85, 84, 0, 1),\n",
       "  (85, 86, 0, 1),\n",
       "  (89, 87, 0, 1),\n",
       "  (89, 88, 0, 1),\n",
       "  (86, 89, 0, 1),\n",
       "  (85, 90, 0, 1),\n",
       "  (93, 91, 0, 1),\n",
       "  (93, 92, 0, 1),\n",
       "  (93, 94, 0, 1),\n",
       "  (96, 95, 0, 1),\n",
       "  (98, 97, 0, 1),\n",
       "  (96, 98, 0, 1)]]"
      ]
     },
     "execution_count": 72,
     "metadata": {},
     "output_type": "execute_result"
    }
   ],
   "source": [
    "# voc[train.X[0][train.ObjPos[0]]]\n",
    "train.ProbY\n",
    "train.DepEdges\n",
    "# dat['rel2id']"
   ]
  }
 ],
 "metadata": {
  "kernelspec": {
   "display_name": "Python (tfenv)",
   "language": "python",
   "name": "tfenv"
  },
  "language_info": {
   "codemirror_mode": {
    "name": "ipython",
    "version": 3
   },
   "file_extension": ".py",
   "mimetype": "text/x-python",
   "name": "python",
   "nbconvert_exporter": "python",
   "pygments_lexer": "ipython3",
   "version": "3.6.4"
  }
 },
 "nbformat": 4,
 "nbformat_minor": 2
}
